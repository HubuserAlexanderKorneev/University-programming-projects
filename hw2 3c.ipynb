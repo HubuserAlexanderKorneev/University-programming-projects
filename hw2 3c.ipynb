{
 "cells": [
  {
   "cell_type": "markdown",
   "metadata": {},
   "source": [
    "# Домашнее задание 2"
   ]
  },
  {
   "cell_type": "markdown",
   "metadata": {},
   "source": [
    "Используя датасет [STUDENT ALCOHOL CONSUMPTION](https://archive.ics.uci.edu/ml/datasets/STUDENT+ALCOHOL+CONSUMPTION#) и статью \"USING\tDATA\tMINING\tTO\tPREDICT\tSECONDARY SCHOOL\tSTUDENT\tALCOHOL\tCONSUMPTION\" выполните следующие задания:"
   ]
  },
  {
   "cell_type": "markdown",
   "metadata": {},
   "source": [
    "1. school - Название школы (Бинарный признак: \"GP\" - Gabriel Pereira или \"MS\" - Mousinho da Silveira)\n",
    "2. sex - Пол (Бинарный признак: \"F\" - женский или \"M\" - мужской)\n",
    "3. age - Возраст (Порядковый признак: от 15 до 22)\n",
    "4. address - Тип местности, в которой проживает студент (Бинарный признак: \"U\" - Городская или \"R\" - Сельская местность)\n",
    "5. famsize - Число людей в семье (Бинарный признак: \"LE3\" - меньше или равно 3 или \"GT3\" - больше 3) \n",
    "6. Pstatus - Статус сожительства родителей (Бинарный признак: \"T\" - проживают вместе или \"A\" - раздельно)\n",
    "7. Medu - Образование матери (Порядковый признак: 0 - Нет образования,  1 - начальное образование (4 класса), 2 – с 5го по 9й класс, 3 – среднее образование или 4 – высшее образование)\n",
    "8. Fedu - Образование отца (Порядковый признак: 0 - Нет образования,  1 - начальное образование (4 класса), 2 – с 5го по 9й класс, 3 – среднее образование или 4 – высшее образование)\n",
    "9. Mjob - Работа матери (Номинальный признак: \"teacher\", \"health\" связанные с медицинскими, образовательными услугами, госслужащие \"services\", \"at_home\" или \"other\")\n",
    "10. Fjob -(Номинальный признак: \"teacher\", \"health\" связанные с медицинскими, образовательными услугами, госслужащие \"services\", \"at_home\" или \"other\")\n",
    "11. reason - Причина выбора данной школы (Номинальный признак: близко к дому \"home\", репутация школы \"reputation\", предпочтение курса \"course\"  или другое \"other\")\n",
    "12. guardian - Опекун ученика (Номинальный признак: \"mother\", \"father\" or \"other\")\n",
    "13. traveltime - Время в пути от дома до школы (Порядковый признак: 1 - < 15 мин., 2 - от 15 до 30 мин., 3 - от 30 мин. до 1 часа, or 4 - > 1 часа)\n",
    "14. studytime - Время, затрачиваемое на обучение в неделю (Порядковый признак: 1 - < 2 часов, 2 - от 2 to 5 часов, от 3 - 5 до 10 hours, или 4 - >10 часов)\n",
    "15. failures - Количество несданных предметов (Порядковый признак: n если 1 <= n < 3, иначе 4)\n",
    "16. schoolsup - Дополнительная поддержка в образовании (Бинарный признак: yes или no)\n",
    "17. famsup - Помощь семьи в образовании (Бинарный признак: yes или no)\n",
    "18. paid - Дополнительные платные занятия а рамках предметов курса (Математика или португальский) (Бинарный признак: yes или no)\n",
    "19. activities - факультативные занятия  (Бинарный признак: yes или no)\n",
    "20. nursery - Ходил(а) ли в детский сад (Бинарный признак: yes или no)\n",
    "21. higher - Желание получить высшее образование (Бинарный признак: yes или no)\n",
    "22. internet - Доступ к Интернету дома (Бинарный признак: yes или no)\n",
    "23. romantic - Наличие романтических отношений (Бинарный признак: yes или no)\n",
    "24. famrel - Качество семейных отношений (Порядковый признак: from 1 - очень плохие to 5 - отличные)\n",
    "25. freetime - Количество свободного времени после школы (Порядковый признак: от 1 - очень мало до 5 - очень много)\n",
    "26. goout - Оценка количества времени проводимого с друзьями (Порядковый признак: от 1 - очень мало до 5 - очень много)\n",
    "27. Dalc - Оценка количества потребляемого алкоголя по будням (Порядковый признак: от 1 - очень мало до 5 - очень много)\n",
    "28. Walc - Оценка количества потребляемого алкоголя по выходным (Порядковый признак: от 1 - очень мало до 5 - очень много)\n",
    "29. health - текущее состояние здоровья (Порядковый признак: от 1 - очень плохое до 5 - очень хорошее)\n",
    "30. absences - Число пропусков школьных занятий (Порядковый признак: от 0 до 93)\n",
    "Нижепредставленные оценки относятся к основному предмету курса (Математика или Португальский)\n",
    "31. G1 - Оценка в первом учебном году (Порядковый признак: от 0 до 20)\n",
    "31. G2 - Оценка во втором учебном году (Порядковый признак: от 0 до 20)\n",
    "32. G3 - Итоговая оценка (Порядковый признак: от 0 да 20, целевая переменная)"
   ]
  },
  {
   "cell_type": "markdown",
   "metadata": {},
   "source": [
    "### Предобработка (Max 2)\n",
    "- Приведите описание признаков датасета на русском языке с указанием типа данных (0.3 балла)\n",
    "- Предобработка данных (1.7)\n",
    "    - Проверьте наличие пропусков. В случае наличия пропусков заполните их медианными значениями (0.4)\n",
    "    - Подсчитайте количество людей, у которых матери с образованием \"0\" (0.4)\n",
    "    - Преобразуйте все номинальные признаки в несколько признаков с бинарным значение (0.4)\n",
    "    - Используя объект [SelectKBest](http://scikit-learn.org/stable/modules/generated/sklearn.feature_selection.SelectKBest.html#sklearn.feature_selection.SelectKBest) с параметром [f_regression](http://scikit-learn.org/stable/modules/generated/sklearn.feature_selection.f_regression.html#sklearn.feature_selection.f_regression)  выберите два признака, которые наиболее сильно связаны с признаком G3 (0.5)"
   ]
  },
  {
   "cell_type": "code",
   "execution_count": 1,
   "metadata": {
    "collapsed": true
   },
   "outputs": [],
   "source": [
    "import pandas as pd\n",
    "import numpy as np\n",
    "import matplotlib.pyplot as plt\n",
    "import matplotlib.patches as mpatches\n",
    "import matplotlib as mpl\n",
    "from sklearn.model_selection import train_test_split\n",
    "from sklearn.metrics import mean_squared_error, mean_absolute_error, median_absolute_error,r2_score\n",
    "from sklearn.metrics import accuracy_score\n",
    "from sklearn.feature_selection import SelectKBest, f_regression\n",
    "from sklearn.preprocessing import LabelBinarizer\n",
    "from sklearn.linear_model import RidgeCV, SGDRegressor\n",
    "from sklearn.ensemble import GradientBoostingRegressor, RandomForestClassifier\n",
    "from sklearn.model_selection import cross_validate\n",
    "%matplotlib inline"
   ]
  },
  {
   "cell_type": "code",
   "execution_count": 2,
   "metadata": {
    "collapsed": true
   },
   "outputs": [],
   "source": [
    "df = pd.read_csv(\"student-por.csv\",sep=';')"
   ]
  },
  {
   "cell_type": "code",
   "execution_count": 3,
   "metadata": {},
   "outputs": [
    {
     "data": {
      "text/html": [
       "<div>\n",
       "<style>\n",
       "    .dataframe thead tr:only-child th {\n",
       "        text-align: right;\n",
       "    }\n",
       "\n",
       "    .dataframe thead th {\n",
       "        text-align: left;\n",
       "    }\n",
       "\n",
       "    .dataframe tbody tr th {\n",
       "        vertical-align: top;\n",
       "    }\n",
       "</style>\n",
       "<table border=\"1\" class=\"dataframe\">\n",
       "  <thead>\n",
       "    <tr style=\"text-align: right;\">\n",
       "      <th></th>\n",
       "      <th>school</th>\n",
       "      <th>sex</th>\n",
       "      <th>age</th>\n",
       "      <th>address</th>\n",
       "      <th>famsize</th>\n",
       "      <th>Pstatus</th>\n",
       "      <th>Medu</th>\n",
       "      <th>Fedu</th>\n",
       "      <th>Mjob</th>\n",
       "      <th>Fjob</th>\n",
       "      <th>...</th>\n",
       "      <th>famrel</th>\n",
       "      <th>freetime</th>\n",
       "      <th>goout</th>\n",
       "      <th>Dalc</th>\n",
       "      <th>Walc</th>\n",
       "      <th>health</th>\n",
       "      <th>absences</th>\n",
       "      <th>G1</th>\n",
       "      <th>G2</th>\n",
       "      <th>G3</th>\n",
       "    </tr>\n",
       "  </thead>\n",
       "  <tbody>\n",
       "    <tr>\n",
       "      <th>0</th>\n",
       "      <td>GP</td>\n",
       "      <td>F</td>\n",
       "      <td>18</td>\n",
       "      <td>U</td>\n",
       "      <td>GT3</td>\n",
       "      <td>A</td>\n",
       "      <td>4</td>\n",
       "      <td>4</td>\n",
       "      <td>at_home</td>\n",
       "      <td>teacher</td>\n",
       "      <td>...</td>\n",
       "      <td>4</td>\n",
       "      <td>3</td>\n",
       "      <td>4</td>\n",
       "      <td>1</td>\n",
       "      <td>1</td>\n",
       "      <td>3</td>\n",
       "      <td>4</td>\n",
       "      <td>0</td>\n",
       "      <td>11</td>\n",
       "      <td>11</td>\n",
       "    </tr>\n",
       "    <tr>\n",
       "      <th>1</th>\n",
       "      <td>GP</td>\n",
       "      <td>F</td>\n",
       "      <td>17</td>\n",
       "      <td>U</td>\n",
       "      <td>GT3</td>\n",
       "      <td>T</td>\n",
       "      <td>1</td>\n",
       "      <td>1</td>\n",
       "      <td>at_home</td>\n",
       "      <td>other</td>\n",
       "      <td>...</td>\n",
       "      <td>5</td>\n",
       "      <td>3</td>\n",
       "      <td>3</td>\n",
       "      <td>1</td>\n",
       "      <td>1</td>\n",
       "      <td>3</td>\n",
       "      <td>2</td>\n",
       "      <td>9</td>\n",
       "      <td>11</td>\n",
       "      <td>11</td>\n",
       "    </tr>\n",
       "    <tr>\n",
       "      <th>2</th>\n",
       "      <td>GP</td>\n",
       "      <td>F</td>\n",
       "      <td>15</td>\n",
       "      <td>U</td>\n",
       "      <td>LE3</td>\n",
       "      <td>T</td>\n",
       "      <td>1</td>\n",
       "      <td>1</td>\n",
       "      <td>at_home</td>\n",
       "      <td>other</td>\n",
       "      <td>...</td>\n",
       "      <td>4</td>\n",
       "      <td>3</td>\n",
       "      <td>2</td>\n",
       "      <td>2</td>\n",
       "      <td>3</td>\n",
       "      <td>3</td>\n",
       "      <td>6</td>\n",
       "      <td>12</td>\n",
       "      <td>13</td>\n",
       "      <td>12</td>\n",
       "    </tr>\n",
       "    <tr>\n",
       "      <th>3</th>\n",
       "      <td>GP</td>\n",
       "      <td>F</td>\n",
       "      <td>15</td>\n",
       "      <td>U</td>\n",
       "      <td>GT3</td>\n",
       "      <td>T</td>\n",
       "      <td>4</td>\n",
       "      <td>2</td>\n",
       "      <td>health</td>\n",
       "      <td>services</td>\n",
       "      <td>...</td>\n",
       "      <td>3</td>\n",
       "      <td>2</td>\n",
       "      <td>2</td>\n",
       "      <td>1</td>\n",
       "      <td>1</td>\n",
       "      <td>5</td>\n",
       "      <td>0</td>\n",
       "      <td>14</td>\n",
       "      <td>14</td>\n",
       "      <td>14</td>\n",
       "    </tr>\n",
       "    <tr>\n",
       "      <th>4</th>\n",
       "      <td>GP</td>\n",
       "      <td>F</td>\n",
       "      <td>16</td>\n",
       "      <td>U</td>\n",
       "      <td>GT3</td>\n",
       "      <td>T</td>\n",
       "      <td>3</td>\n",
       "      <td>3</td>\n",
       "      <td>other</td>\n",
       "      <td>other</td>\n",
       "      <td>...</td>\n",
       "      <td>4</td>\n",
       "      <td>3</td>\n",
       "      <td>2</td>\n",
       "      <td>1</td>\n",
       "      <td>2</td>\n",
       "      <td>5</td>\n",
       "      <td>0</td>\n",
       "      <td>11</td>\n",
       "      <td>13</td>\n",
       "      <td>13</td>\n",
       "    </tr>\n",
       "  </tbody>\n",
       "</table>\n",
       "<p>5 rows × 33 columns</p>\n",
       "</div>"
      ],
      "text/plain": [
       "  school sex  age address famsize Pstatus  Medu  Fedu     Mjob      Fjob ...  \\\n",
       "0     GP   F   18       U     GT3       A     4     4  at_home   teacher ...   \n",
       "1     GP   F   17       U     GT3       T     1     1  at_home     other ...   \n",
       "2     GP   F   15       U     LE3       T     1     1  at_home     other ...   \n",
       "3     GP   F   15       U     GT3       T     4     2   health  services ...   \n",
       "4     GP   F   16       U     GT3       T     3     3    other     other ...   \n",
       "\n",
       "  famrel freetime  goout  Dalc  Walc health absences  G1  G2  G3  \n",
       "0      4        3      4     1     1      3        4   0  11  11  \n",
       "1      5        3      3     1     1      3        2   9  11  11  \n",
       "2      4        3      2     2     3      3        6  12  13  12  \n",
       "3      3        2      2     1     1      5        0  14  14  14  \n",
       "4      4        3      2     1     2      5        0  11  13  13  \n",
       "\n",
       "[5 rows x 33 columns]"
      ]
     },
     "execution_count": 3,
     "metadata": {},
     "output_type": "execute_result"
    }
   ],
   "source": [
    "df.head()"
   ]
  },
  {
   "cell_type": "markdown",
   "metadata": {},
   "source": [
    "## Проверьте наличие пропусков. В случае наличия пропусков заполните их медианными значениями "
   ]
  },
  {
   "cell_type": "code",
   "execution_count": 4,
   "metadata": {},
   "outputs": [
    {
     "data": {
      "text/plain": [
       "False"
      ]
     },
     "execution_count": 4,
     "metadata": {},
     "output_type": "execute_result"
    }
   ],
   "source": [
    "True in pd.isnull(df)"
   ]
  },
  {
   "cell_type": "markdown",
   "metadata": {},
   "source": [
    "### В данных нет пропусков"
   ]
  },
  {
   "cell_type": "markdown",
   "metadata": {},
   "source": [
    "## Подсчитайте количество людей, у которых матери с образованием \"0\" "
   ]
  },
  {
   "cell_type": "code",
   "execution_count": 5,
   "metadata": {},
   "outputs": [
    {
     "data": {
      "text/plain": [
       "6"
      ]
     },
     "execution_count": 5,
     "metadata": {},
     "output_type": "execute_result"
    }
   ],
   "source": [
    "sum(df['Medu']==0)"
   ]
  },
  {
   "cell_type": "markdown",
   "metadata": {},
   "source": [
    "### Есть 6 людей, у которых матери с образованием \"0\""
   ]
  },
  {
   "cell_type": "markdown",
   "metadata": {},
   "source": [
    "## Преобразуйте все номинальные признаки в несколько признаков с бинарным значением"
   ]
  },
  {
   "cell_type": "code",
   "execution_count": 6,
   "metadata": {
    "collapsed": true
   },
   "outputs": [],
   "source": [
    "df = pd.get_dummies(df, columns = ['Mjob', 'Fjob', 'reason', 'guardian'])"
   ]
  },
  {
   "cell_type": "code",
   "execution_count": 7,
   "metadata": {
    "scrolled": true
   },
   "outputs": [
    {
     "data": {
      "text/plain": [
       "array(['school', 'sex', 'age', 'address', 'famsize', 'Pstatus', 'Medu',\n",
       "       'Fedu', 'traveltime', 'studytime', 'failures', 'schoolsup',\n",
       "       'famsup', 'paid', 'activities', 'nursery', 'higher', 'internet',\n",
       "       'romantic', 'famrel', 'freetime', 'goout', 'Dalc', 'Walc', 'health',\n",
       "       'absences', 'G1', 'G2', 'G3', 'Mjob_at_home', 'Mjob_health',\n",
       "       'Mjob_other', 'Mjob_services', 'Mjob_teacher', 'Fjob_at_home',\n",
       "       'Fjob_health', 'Fjob_other', 'Fjob_services', 'Fjob_teacher',\n",
       "       'reason_course', 'reason_home', 'reason_other', 'reason_reputation',\n",
       "       'guardian_father', 'guardian_mother', 'guardian_other'], dtype=object)"
      ]
     },
     "execution_count": 7,
     "metadata": {},
     "output_type": "execute_result"
    }
   ],
   "source": [
    "df.columns.values"
   ]
  },
  {
   "cell_type": "markdown",
   "metadata": {},
   "source": [
    "### Так же преобразуем бинарные признаки закодированные словами в бинарные закодированные числами\n",
    "### (SelectKBest не будет работать со строковыми значениями)"
   ]
  },
  {
   "cell_type": "code",
   "execution_count": 8,
   "metadata": {
    "collapsed": true
   },
   "outputs": [],
   "source": [
    "def binarize(df, cols):\n",
    "    for name in cols:\n",
    "        lb = LabelBinarizer()\n",
    "        df[name] = lb.fit_transform(df[name])"
   ]
  },
  {
   "cell_type": "code",
   "execution_count": 9,
   "metadata": {
    "collapsed": true
   },
   "outputs": [],
   "source": [
    "binarize(df,['school', 'sex', 'address', 'famsize', 'Pstatus', 'schoolsup', 'famsup', 'paid',\n",
    "      'activities', 'nursery', 'higher', 'internet', 'romantic'])"
   ]
  },
  {
   "cell_type": "code",
   "execution_count": 10,
   "metadata": {},
   "outputs": [
    {
     "data": {
      "text/html": [
       "<div>\n",
       "<style>\n",
       "    .dataframe thead tr:only-child th {\n",
       "        text-align: right;\n",
       "    }\n",
       "\n",
       "    .dataframe thead th {\n",
       "        text-align: left;\n",
       "    }\n",
       "\n",
       "    .dataframe tbody tr th {\n",
       "        vertical-align: top;\n",
       "    }\n",
       "</style>\n",
       "<table border=\"1\" class=\"dataframe\">\n",
       "  <thead>\n",
       "    <tr style=\"text-align: right;\">\n",
       "      <th></th>\n",
       "      <th>school</th>\n",
       "      <th>sex</th>\n",
       "      <th>age</th>\n",
       "      <th>address</th>\n",
       "      <th>famsize</th>\n",
       "      <th>Pstatus</th>\n",
       "      <th>Medu</th>\n",
       "      <th>Fedu</th>\n",
       "      <th>traveltime</th>\n",
       "      <th>studytime</th>\n",
       "      <th>...</th>\n",
       "      <th>Fjob_other</th>\n",
       "      <th>Fjob_services</th>\n",
       "      <th>Fjob_teacher</th>\n",
       "      <th>reason_course</th>\n",
       "      <th>reason_home</th>\n",
       "      <th>reason_other</th>\n",
       "      <th>reason_reputation</th>\n",
       "      <th>guardian_father</th>\n",
       "      <th>guardian_mother</th>\n",
       "      <th>guardian_other</th>\n",
       "    </tr>\n",
       "  </thead>\n",
       "  <tbody>\n",
       "    <tr>\n",
       "      <th>0</th>\n",
       "      <td>0</td>\n",
       "      <td>0</td>\n",
       "      <td>18</td>\n",
       "      <td>1</td>\n",
       "      <td>0</td>\n",
       "      <td>0</td>\n",
       "      <td>4</td>\n",
       "      <td>4</td>\n",
       "      <td>2</td>\n",
       "      <td>2</td>\n",
       "      <td>...</td>\n",
       "      <td>0</td>\n",
       "      <td>0</td>\n",
       "      <td>1</td>\n",
       "      <td>1</td>\n",
       "      <td>0</td>\n",
       "      <td>0</td>\n",
       "      <td>0</td>\n",
       "      <td>0</td>\n",
       "      <td>1</td>\n",
       "      <td>0</td>\n",
       "    </tr>\n",
       "    <tr>\n",
       "      <th>1</th>\n",
       "      <td>0</td>\n",
       "      <td>0</td>\n",
       "      <td>17</td>\n",
       "      <td>1</td>\n",
       "      <td>0</td>\n",
       "      <td>1</td>\n",
       "      <td>1</td>\n",
       "      <td>1</td>\n",
       "      <td>1</td>\n",
       "      <td>2</td>\n",
       "      <td>...</td>\n",
       "      <td>1</td>\n",
       "      <td>0</td>\n",
       "      <td>0</td>\n",
       "      <td>1</td>\n",
       "      <td>0</td>\n",
       "      <td>0</td>\n",
       "      <td>0</td>\n",
       "      <td>1</td>\n",
       "      <td>0</td>\n",
       "      <td>0</td>\n",
       "    </tr>\n",
       "    <tr>\n",
       "      <th>2</th>\n",
       "      <td>0</td>\n",
       "      <td>0</td>\n",
       "      <td>15</td>\n",
       "      <td>1</td>\n",
       "      <td>1</td>\n",
       "      <td>1</td>\n",
       "      <td>1</td>\n",
       "      <td>1</td>\n",
       "      <td>1</td>\n",
       "      <td>2</td>\n",
       "      <td>...</td>\n",
       "      <td>1</td>\n",
       "      <td>0</td>\n",
       "      <td>0</td>\n",
       "      <td>0</td>\n",
       "      <td>0</td>\n",
       "      <td>1</td>\n",
       "      <td>0</td>\n",
       "      <td>0</td>\n",
       "      <td>1</td>\n",
       "      <td>0</td>\n",
       "    </tr>\n",
       "    <tr>\n",
       "      <th>3</th>\n",
       "      <td>0</td>\n",
       "      <td>0</td>\n",
       "      <td>15</td>\n",
       "      <td>1</td>\n",
       "      <td>0</td>\n",
       "      <td>1</td>\n",
       "      <td>4</td>\n",
       "      <td>2</td>\n",
       "      <td>1</td>\n",
       "      <td>3</td>\n",
       "      <td>...</td>\n",
       "      <td>0</td>\n",
       "      <td>1</td>\n",
       "      <td>0</td>\n",
       "      <td>0</td>\n",
       "      <td>1</td>\n",
       "      <td>0</td>\n",
       "      <td>0</td>\n",
       "      <td>0</td>\n",
       "      <td>1</td>\n",
       "      <td>0</td>\n",
       "    </tr>\n",
       "    <tr>\n",
       "      <th>4</th>\n",
       "      <td>0</td>\n",
       "      <td>0</td>\n",
       "      <td>16</td>\n",
       "      <td>1</td>\n",
       "      <td>0</td>\n",
       "      <td>1</td>\n",
       "      <td>3</td>\n",
       "      <td>3</td>\n",
       "      <td>1</td>\n",
       "      <td>2</td>\n",
       "      <td>...</td>\n",
       "      <td>1</td>\n",
       "      <td>0</td>\n",
       "      <td>0</td>\n",
       "      <td>0</td>\n",
       "      <td>1</td>\n",
       "      <td>0</td>\n",
       "      <td>0</td>\n",
       "      <td>1</td>\n",
       "      <td>0</td>\n",
       "      <td>0</td>\n",
       "    </tr>\n",
       "  </tbody>\n",
       "</table>\n",
       "<p>5 rows × 46 columns</p>\n",
       "</div>"
      ],
      "text/plain": [
       "   school  sex  age  address  famsize  Pstatus  Medu  Fedu  traveltime  \\\n",
       "0       0    0   18        1        0        0     4     4           2   \n",
       "1       0    0   17        1        0        1     1     1           1   \n",
       "2       0    0   15        1        1        1     1     1           1   \n",
       "3       0    0   15        1        0        1     4     2           1   \n",
       "4       0    0   16        1        0        1     3     3           1   \n",
       "\n",
       "   studytime       ...        Fjob_other  Fjob_services  Fjob_teacher  \\\n",
       "0          2       ...                 0              0             1   \n",
       "1          2       ...                 1              0             0   \n",
       "2          2       ...                 1              0             0   \n",
       "3          3       ...                 0              1             0   \n",
       "4          2       ...                 1              0             0   \n",
       "\n",
       "   reason_course  reason_home  reason_other  reason_reputation  \\\n",
       "0              1            0             0                  0   \n",
       "1              1            0             0                  0   \n",
       "2              0            0             1                  0   \n",
       "3              0            1             0                  0   \n",
       "4              0            1             0                  0   \n",
       "\n",
       "   guardian_father  guardian_mother  guardian_other  \n",
       "0                0                1               0  \n",
       "1                1                0               0  \n",
       "2                0                1               0  \n",
       "3                0                1               0  \n",
       "4                1                0               0  \n",
       "\n",
       "[5 rows x 46 columns]"
      ]
     },
     "execution_count": 10,
     "metadata": {},
     "output_type": "execute_result"
    }
   ],
   "source": [
    "df.head()"
   ]
  },
  {
   "cell_type": "markdown",
   "metadata": {},
   "source": [
    "## Используя объект SelectKBest с параметром f_regression выберите два признака, которые наиболее сильно связаны с признаком G3"
   ]
  },
  {
   "cell_type": "code",
   "execution_count": 428,
   "metadata": {
    "collapsed": true
   },
   "outputs": [],
   "source": [
    "kb = SelectKBest(score_func=f_regression,k=2)"
   ]
  },
  {
   "cell_type": "code",
   "execution_count": 429,
   "metadata": {
    "collapsed": true
   },
   "outputs": [],
   "source": [
    "best_feat = kb.fit_transform(df.drop(\"G3\",axis=1),df[\"G3\"])"
   ]
  },
  {
   "cell_type": "code",
   "execution_count": 430,
   "metadata": {
    "scrolled": false
   },
   "outputs": [
    {
     "data": {
      "text/plain": [
       "array([26, 27], dtype=int64)"
      ]
     },
     "execution_count": 430,
     "metadata": {},
     "output_type": "execute_result"
    }
   ],
   "source": [
    "kb.get_support(indices=True)"
   ]
  },
  {
   "cell_type": "code",
   "execution_count": 431,
   "metadata": {},
   "outputs": [
    {
     "data": {
      "text/plain": [
       "array(['G1', 'G2'], dtype=object)"
      ]
     },
     "execution_count": 431,
     "metadata": {},
     "output_type": "execute_result"
    }
   ],
   "source": [
    "df.drop(\"G3\",axis=1).columns.values[26:28]"
   ]
  },
  {
   "cell_type": "markdown",
   "metadata": {},
   "source": [
    "## Ожидаемо, два признака, которые наиболее сильно связаны с признаком G3 (финальной оценкой по предмету) - это оценки за первый и второй годы обучения (G1 и G2)"
   ]
  },
  {
   "cell_type": "markdown",
   "metadata": {},
   "source": [
    "### Регрессия (Max 4)\n",
    "Выберите один признак, который наиболее влияет на признак G3 и используя кросс-валидацию (cross-validation) выполните следующее:"
   ]
  },
  {
   "cell_type": "code",
   "execution_count": 385,
   "metadata": {},
   "outputs": [
    {
     "data": {
      "text/plain": [
       "array([27], dtype=int64)"
      ]
     },
     "execution_count": 385,
     "metadata": {},
     "output_type": "execute_result"
    }
   ],
   "source": [
    "kb = SelectKBest(score_func=f_regression,k=1)\n",
    "best_feat = kb.fit_transform(df.drop(\"G3\",axis=1),df[\"G3\"])\n",
    "kb.get_support(indices=True)"
   ]
  },
  {
   "cell_type": "code",
   "execution_count": 386,
   "metadata": {},
   "outputs": [
    {
     "data": {
      "text/plain": [
       "'G2'"
      ]
     },
     "execution_count": 386,
     "metadata": {},
     "output_type": "execute_result"
    }
   ],
   "source": [
    "df.drop(\"G3\",axis=1).columns.values[27]"
   ]
  },
  {
   "cell_type": "markdown",
   "metadata": {},
   "source": [
    "## SelectKBest показывает, что G2 больше всего влияет на G3"
   ]
  },
  {
   "cell_type": "markdown",
   "metadata": {},
   "source": [
    "- На обучающей выборке обучите объект [RidgeСV](http://scikit-learn.org/stable/modules/generated/sklearn.linear_model.RidgeCV.html#sklearn.linear_model.RidgeCV) для различных alpha (0.2)\n",
    "- Выберите alpha при котором RidgeCV лучше всего предсказывает значения (0.1)\n",
    "- Подсчитайте метрику mean absolute error, mean squared error, median absolute error,r2 score(0.2)\n",
    "- Max (0.5)\n",
    "- ------------------------------------\n",
    "- Создайте объекты [SGDRegressor](http://scikit-learn.org/stable/modules/generated/sklearn.linear_model.SGDRegressor.html#sklearn.linear_model.SGDRegressor), используя все возможных варианты аргумента penalty (0.2)\n",
    "- Обучите все полученных объекты на обучающей выборке (0.1)\n",
    "- Подсчитайте метрику r2 score для всех объектов (0.2)\n",
    "- Max (0.5)\n",
    "- ------------------------------------\n",
    "- Создайте объекты с параметрами max_depth = 1,3, 10 [GradientBoostingRegressor](http://scikit-learn.org/stable/modules/generated/sklearn.ensemble.GradientBoostingRegressor.html#sklearn.ensemble.GradientBoostingRegressor) и для каждого объекта изменяйте количество n_estimators  от 100 до 1000 с шагом 100 (0.2)\n",
    "- Подсчитайте метрику r2 score для всех объектов (0.1)\n",
    "- Визуализируйте зависимость R2 oт n_estimators на графике (0.2)\n",
    "- Max (0.5)\n",
    "- -----------------------------------\n",
    "- Используя все доступные регрессоры в библиотеке sklearn, найдите самый лучший регрессор. (2.5)"
   ]
  },
  {
   "cell_type": "markdown",
   "metadata": {},
   "source": [
    "# RidgeCV"
   ]
  },
  {
   "cell_type": "code",
   "execution_count": 387,
   "metadata": {
    "collapsed": true
   },
   "outputs": [],
   "source": [
    "X = np.array(df['G2']).reshape(-1,1)\n",
    "y = np.array(df['G3'])"
   ]
  },
  {
   "cell_type": "code",
   "execution_count": 388,
   "metadata": {
    "collapsed": true
   },
   "outputs": [],
   "source": [
    "rcv = RidgeCV(alphas=np.logspace(-3,2,20,))"
   ]
  },
  {
   "cell_type": "code",
   "execution_count": 389,
   "metadata": {},
   "outputs": [
    {
     "data": {
      "text/plain": [
       "RidgeCV(alphas=array([  1.00000e-03,   1.83298e-03,   3.35982e-03,   6.15848e-03,\n",
       "         1.12884e-02,   2.06914e-02,   3.79269e-02,   6.95193e-02,\n",
       "         1.27427e-01,   2.33572e-01,   4.28133e-01,   7.84760e-01,\n",
       "         1.43845e+00,   2.63665e+00,   4.83293e+00,   8.85867e+00,\n",
       "         1.62378e+01,   2.97635e+01,   5.45559e+01,   1.00000e+02]),\n",
       "    cv=None, fit_intercept=True, gcv_mode=None, normalize=False,\n",
       "    scoring=None, store_cv_values=False)"
      ]
     },
     "execution_count": 389,
     "metadata": {},
     "output_type": "execute_result"
    }
   ],
   "source": [
    "rcv.fit(X,y)"
   ]
  },
  {
   "cell_type": "code",
   "execution_count": 390,
   "metadata": {},
   "outputs": [
    {
     "data": {
      "text/plain": [
       "2.6366508987303581"
      ]
     },
     "execution_count": 390,
     "metadata": {},
     "output_type": "execute_result"
    }
   ],
   "source": [
    "rcv.alpha_"
   ]
  },
  {
   "cell_type": "markdown",
   "metadata": {},
   "source": [
    "### Лучшее alpha = 2.6366508987303581"
   ]
  },
  {
   "cell_type": "code",
   "execution_count": 391,
   "metadata": {
    "collapsed": true
   },
   "outputs": [],
   "source": [
    "y_pred = rcv.predict(X)"
   ]
  },
  {
   "cell_type": "code",
   "execution_count": 392,
   "metadata": {},
   "outputs": [
    {
     "data": {
      "text/plain": [
       "0.8078914385784195"
      ]
     },
     "execution_count": 392,
     "metadata": {},
     "output_type": "execute_result"
    }
   ],
   "source": [
    "mean_absolute_error(y_pred,y)"
   ]
  },
  {
   "cell_type": "code",
   "execution_count": 393,
   "metadata": {},
   "outputs": [
    {
     "data": {
      "text/plain": [
       "1.6284962012799604"
      ]
     },
     "execution_count": 393,
     "metadata": {},
     "output_type": "execute_result"
    }
   ],
   "source": [
    "mean_squared_error(y_pred,y)"
   ]
  },
  {
   "cell_type": "code",
   "execution_count": 394,
   "metadata": {},
   "outputs": [
    {
     "data": {
      "text/plain": [
       "0.62035468509676761"
      ]
     },
     "execution_count": 394,
     "metadata": {},
     "output_type": "execute_result"
    }
   ],
   "source": [
    "median_absolute_error(y_pred,y)"
   ]
  },
  {
   "cell_type": "code",
   "execution_count": 395,
   "metadata": {},
   "outputs": [
    {
     "data": {
      "text/plain": [
       "0.81460951505566415"
      ]
     },
     "execution_count": 395,
     "metadata": {},
     "output_type": "execute_result"
    }
   ],
   "source": [
    "r2_score(y_pred,y)"
   ]
  },
  {
   "cell_type": "markdown",
   "metadata": {},
   "source": [
    "# SGDRegressor"
   ]
  },
  {
   "cell_type": "code",
   "execution_count": 396,
   "metadata": {},
   "outputs": [
    {
     "name": "stderr",
     "output_type": "stream",
     "text": [
      "C:\\Users\\Alexander\\Anaconda3\\lib\\site-packages\\sklearn\\linear_model\\stochastic_gradient.py:84: FutureWarning: max_iter and tol parameters have been added in <class 'sklearn.linear_model.stochastic_gradient.SGDRegressor'> in 0.19. If both are left unset, they default to max_iter=5 and tol=None. If tol is not None, max_iter defaults to max_iter=1000. From 0.21, default max_iter will be 1000, and default tol will be 1e-3.\n",
      "  \"and default tol will be 1e-3.\" % type(self), FutureWarning)\n"
     ]
    }
   ],
   "source": [
    "sgdr_l1 = SGDRegressor(penalty='l1',)\n",
    "sgdr_l2 = SGDRegressor(penalty='l2')\n",
    "sgdr_eln = SGDRegressor(penalty='elasticnet')"
   ]
  },
  {
   "cell_type": "code",
   "execution_count": 397,
   "metadata": {
    "collapsed": true
   },
   "outputs": [],
   "source": [
    "sgdr_l1.fit(X,y);\n",
    "sgdr_l2.fit(X,y);\n",
    "sgdr_eln.fit(X,y);"
   ]
  },
  {
   "cell_type": "code",
   "execution_count": 398,
   "metadata": {
    "collapsed": true
   },
   "outputs": [],
   "source": [
    "y_pred_l1 = sgdr_l1.predict(X)\n",
    "y_pred_l2 = sgdr_l2.predict(X)\n",
    "y_pred_eln = sgdr_eln.predict(X)"
   ]
  },
  {
   "cell_type": "code",
   "execution_count": 399,
   "metadata": {},
   "outputs": [
    {
     "data": {
      "text/plain": [
       "0.812343011139668"
      ]
     },
     "execution_count": 399,
     "metadata": {},
     "output_type": "execute_result"
    }
   ],
   "source": [
    "r2_score(y_pred_l1,y)"
   ]
  },
  {
   "cell_type": "code",
   "execution_count": 400,
   "metadata": {},
   "outputs": [
    {
     "data": {
      "text/plain": [
       "0.80663835268606887"
      ]
     },
     "execution_count": 400,
     "metadata": {},
     "output_type": "execute_result"
    }
   ],
   "source": [
    "r2_score(y_pred_l2,y)"
   ]
  },
  {
   "cell_type": "code",
   "execution_count": 401,
   "metadata": {},
   "outputs": [
    {
     "data": {
      "text/plain": [
       "0.79497113921540996"
      ]
     },
     "execution_count": 401,
     "metadata": {},
     "output_type": "execute_result"
    }
   ],
   "source": [
    "r2_score(y_pred_eln,y)"
   ]
  },
  {
   "cell_type": "markdown",
   "metadata": {},
   "source": [
    "# GradientBoostingRegressor"
   ]
  },
  {
   "cell_type": "code",
   "execution_count": 402,
   "metadata": {
    "collapsed": true
   },
   "outputs": [],
   "source": [
    "md = [1,3,10]\n",
    "ne = np.arange(100,1100,100)\n",
    "results = pd.DataFrame()"
   ]
  },
  {
   "cell_type": "code",
   "execution_count": 403,
   "metadata": {
    "collapsed": true
   },
   "outputs": [],
   "source": [
    "for max_d in md:\n",
    "    for n_est in ne:\n",
    "        gbr = GradientBoostingRegressor(max_depth=max_d,n_estimators=n_est,)\n",
    "        gbr.fit(X,y)\n",
    "        y_pred = gbr.predict(X)\n",
    "        score = r2_score(y_pred,y)\n",
    "        results = results.append({'Parameters':{'max_depth':max_d,'n_estimators':n_est},'R2 score':score},ignore_index=True)"
   ]
  },
  {
   "cell_type": "code",
   "execution_count": 404,
   "metadata": {
    "scrolled": true
   },
   "outputs": [
    {
     "data": {
      "text/html": [
       "<div>\n",
       "<style>\n",
       "    .dataframe thead tr:only-child th {\n",
       "        text-align: right;\n",
       "    }\n",
       "\n",
       "    .dataframe thead th {\n",
       "        text-align: left;\n",
       "    }\n",
       "\n",
       "    .dataframe tbody tr th {\n",
       "        vertical-align: top;\n",
       "    }\n",
       "</style>\n",
       "<table border=\"1\" class=\"dataframe\">\n",
       "  <thead>\n",
       "    <tr style=\"text-align: right;\">\n",
       "      <th></th>\n",
       "      <th>Parameters</th>\n",
       "      <th>R2 score</th>\n",
       "    </tr>\n",
       "  </thead>\n",
       "  <tbody>\n",
       "    <tr>\n",
       "      <th>0</th>\n",
       "      <td>{'max_depth': 1, 'n_estimators': 100}</td>\n",
       "      <td>0.817225</td>\n",
       "    </tr>\n",
       "    <tr>\n",
       "      <th>1</th>\n",
       "      <td>{'max_depth': 1, 'n_estimators': 200}</td>\n",
       "      <td>0.825700</td>\n",
       "    </tr>\n",
       "    <tr>\n",
       "      <th>2</th>\n",
       "      <td>{'max_depth': 1, 'n_estimators': 300}</td>\n",
       "      <td>0.826037</td>\n",
       "    </tr>\n",
       "    <tr>\n",
       "      <th>3</th>\n",
       "      <td>{'max_depth': 1, 'n_estimators': 400}</td>\n",
       "      <td>0.826087</td>\n",
       "    </tr>\n",
       "    <tr>\n",
       "      <th>4</th>\n",
       "      <td>{'max_depth': 1, 'n_estimators': 500}</td>\n",
       "      <td>0.826111</td>\n",
       "    </tr>\n",
       "    <tr>\n",
       "      <th>5</th>\n",
       "      <td>{'max_depth': 1, 'n_estimators': 600}</td>\n",
       "      <td>0.826125</td>\n",
       "    </tr>\n",
       "    <tr>\n",
       "      <th>6</th>\n",
       "      <td>{'max_depth': 1, 'n_estimators': 700}</td>\n",
       "      <td>0.826132</td>\n",
       "    </tr>\n",
       "    <tr>\n",
       "      <th>7</th>\n",
       "      <td>{'max_depth': 1, 'n_estimators': 800}</td>\n",
       "      <td>0.826137</td>\n",
       "    </tr>\n",
       "    <tr>\n",
       "      <th>8</th>\n",
       "      <td>{'max_depth': 1, 'n_estimators': 900}</td>\n",
       "      <td>0.826139</td>\n",
       "    </tr>\n",
       "    <tr>\n",
       "      <th>9</th>\n",
       "      <td>{'max_depth': 1, 'n_estimators': 1000}</td>\n",
       "      <td>0.826140</td>\n",
       "    </tr>\n",
       "    <tr>\n",
       "      <th>10</th>\n",
       "      <td>{'max_depth': 3, 'n_estimators': 100}</td>\n",
       "      <td>0.826122</td>\n",
       "    </tr>\n",
       "    <tr>\n",
       "      <th>11</th>\n",
       "      <td>{'max_depth': 3, 'n_estimators': 200}</td>\n",
       "      <td>0.826141</td>\n",
       "    </tr>\n",
       "    <tr>\n",
       "      <th>12</th>\n",
       "      <td>{'max_depth': 3, 'n_estimators': 300}</td>\n",
       "      <td>0.826141</td>\n",
       "    </tr>\n",
       "    <tr>\n",
       "      <th>13</th>\n",
       "      <td>{'max_depth': 3, 'n_estimators': 400}</td>\n",
       "      <td>0.826141</td>\n",
       "    </tr>\n",
       "    <tr>\n",
       "      <th>14</th>\n",
       "      <td>{'max_depth': 3, 'n_estimators': 500}</td>\n",
       "      <td>0.826141</td>\n",
       "    </tr>\n",
       "    <tr>\n",
       "      <th>15</th>\n",
       "      <td>{'max_depth': 3, 'n_estimators': 600}</td>\n",
       "      <td>0.826141</td>\n",
       "    </tr>\n",
       "    <tr>\n",
       "      <th>16</th>\n",
       "      <td>{'max_depth': 3, 'n_estimators': 700}</td>\n",
       "      <td>0.826141</td>\n",
       "    </tr>\n",
       "    <tr>\n",
       "      <th>17</th>\n",
       "      <td>{'max_depth': 3, 'n_estimators': 800}</td>\n",
       "      <td>0.826141</td>\n",
       "    </tr>\n",
       "    <tr>\n",
       "      <th>18</th>\n",
       "      <td>{'max_depth': 3, 'n_estimators': 900}</td>\n",
       "      <td>0.826141</td>\n",
       "    </tr>\n",
       "    <tr>\n",
       "      <th>19</th>\n",
       "      <td>{'max_depth': 3, 'n_estimators': 1000}</td>\n",
       "      <td>0.826141</td>\n",
       "    </tr>\n",
       "    <tr>\n",
       "      <th>20</th>\n",
       "      <td>{'max_depth': 10, 'n_estimators': 100}</td>\n",
       "      <td>0.826132</td>\n",
       "    </tr>\n",
       "    <tr>\n",
       "      <th>21</th>\n",
       "      <td>{'max_depth': 10, 'n_estimators': 200}</td>\n",
       "      <td>0.826141</td>\n",
       "    </tr>\n",
       "    <tr>\n",
       "      <th>22</th>\n",
       "      <td>{'max_depth': 10, 'n_estimators': 300}</td>\n",
       "      <td>0.826141</td>\n",
       "    </tr>\n",
       "    <tr>\n",
       "      <th>23</th>\n",
       "      <td>{'max_depth': 10, 'n_estimators': 400}</td>\n",
       "      <td>0.826141</td>\n",
       "    </tr>\n",
       "    <tr>\n",
       "      <th>24</th>\n",
       "      <td>{'max_depth': 10, 'n_estimators': 500}</td>\n",
       "      <td>0.826141</td>\n",
       "    </tr>\n",
       "    <tr>\n",
       "      <th>25</th>\n",
       "      <td>{'max_depth': 10, 'n_estimators': 600}</td>\n",
       "      <td>0.826141</td>\n",
       "    </tr>\n",
       "    <tr>\n",
       "      <th>26</th>\n",
       "      <td>{'max_depth': 10, 'n_estimators': 700}</td>\n",
       "      <td>0.826141</td>\n",
       "    </tr>\n",
       "    <tr>\n",
       "      <th>27</th>\n",
       "      <td>{'max_depth': 10, 'n_estimators': 800}</td>\n",
       "      <td>0.826141</td>\n",
       "    </tr>\n",
       "    <tr>\n",
       "      <th>28</th>\n",
       "      <td>{'max_depth': 10, 'n_estimators': 900}</td>\n",
       "      <td>0.826141</td>\n",
       "    </tr>\n",
       "    <tr>\n",
       "      <th>29</th>\n",
       "      <td>{'max_depth': 10, 'n_estimators': 1000}</td>\n",
       "      <td>0.826141</td>\n",
       "    </tr>\n",
       "  </tbody>\n",
       "</table>\n",
       "</div>"
      ],
      "text/plain": [
       "                                 Parameters  R2 score\n",
       "0     {'max_depth': 1, 'n_estimators': 100}  0.817225\n",
       "1     {'max_depth': 1, 'n_estimators': 200}  0.825700\n",
       "2     {'max_depth': 1, 'n_estimators': 300}  0.826037\n",
       "3     {'max_depth': 1, 'n_estimators': 400}  0.826087\n",
       "4     {'max_depth': 1, 'n_estimators': 500}  0.826111\n",
       "5     {'max_depth': 1, 'n_estimators': 600}  0.826125\n",
       "6     {'max_depth': 1, 'n_estimators': 700}  0.826132\n",
       "7     {'max_depth': 1, 'n_estimators': 800}  0.826137\n",
       "8     {'max_depth': 1, 'n_estimators': 900}  0.826139\n",
       "9    {'max_depth': 1, 'n_estimators': 1000}  0.826140\n",
       "10    {'max_depth': 3, 'n_estimators': 100}  0.826122\n",
       "11    {'max_depth': 3, 'n_estimators': 200}  0.826141\n",
       "12    {'max_depth': 3, 'n_estimators': 300}  0.826141\n",
       "13    {'max_depth': 3, 'n_estimators': 400}  0.826141\n",
       "14    {'max_depth': 3, 'n_estimators': 500}  0.826141\n",
       "15    {'max_depth': 3, 'n_estimators': 600}  0.826141\n",
       "16    {'max_depth': 3, 'n_estimators': 700}  0.826141\n",
       "17    {'max_depth': 3, 'n_estimators': 800}  0.826141\n",
       "18    {'max_depth': 3, 'n_estimators': 900}  0.826141\n",
       "19   {'max_depth': 3, 'n_estimators': 1000}  0.826141\n",
       "20   {'max_depth': 10, 'n_estimators': 100}  0.826132\n",
       "21   {'max_depth': 10, 'n_estimators': 200}  0.826141\n",
       "22   {'max_depth': 10, 'n_estimators': 300}  0.826141\n",
       "23   {'max_depth': 10, 'n_estimators': 400}  0.826141\n",
       "24   {'max_depth': 10, 'n_estimators': 500}  0.826141\n",
       "25   {'max_depth': 10, 'n_estimators': 600}  0.826141\n",
       "26   {'max_depth': 10, 'n_estimators': 700}  0.826141\n",
       "27   {'max_depth': 10, 'n_estimators': 800}  0.826141\n",
       "28   {'max_depth': 10, 'n_estimators': 900}  0.826141\n",
       "29  {'max_depth': 10, 'n_estimators': 1000}  0.826141"
      ]
     },
     "execution_count": 404,
     "metadata": {},
     "output_type": "execute_result"
    }
   ],
   "source": [
    "results"
   ]
  },
  {
   "cell_type": "code",
   "execution_count": 405,
   "metadata": {},
   "outputs": [
    {
     "data": {
      "text/plain": [
       "10    0.826122\n",
       "11    0.826141\n",
       "12    0.826141\n",
       "13    0.826141\n",
       "14    0.826141\n",
       "15    0.826141\n",
       "16    0.826141\n",
       "17    0.826141\n",
       "18    0.826141\n",
       "19    0.826141\n",
       "Name: R2 score, dtype: float64"
      ]
     },
     "execution_count": 405,
     "metadata": {},
     "output_type": "execute_result"
    }
   ],
   "source": [
    "results['R2 score'] [10:20]"
   ]
  },
  {
   "cell_type": "code",
   "execution_count": 406,
   "metadata": {},
   "outputs": [
    {
     "data": {
      "text/plain": [
       "13"
      ]
     },
     "execution_count": 406,
     "metadata": {},
     "output_type": "execute_result"
    }
   ],
   "source": [
    "results['R2 score'].idxmax()"
   ]
  },
  {
   "cell_type": "code",
   "execution_count": 174,
   "metadata": {
    "scrolled": false
   },
   "outputs": [
    {
     "data": {
      "image/png": "[encoded data removed]",
      "text/plain": [
       "<matplotlib.figure.Figure at 0x2667291fc50>"
      ]
     },
     "metadata": {},
     "output_type": "display_data"
    }
   ],
   "source": [
    "\n",
    "plt.xlabel('n_estimators')\n",
    "plt.ylabel('R2 score')\n",
    "plt.plot(ne,list(results['R2 score'] [:10]),marker = 'o',c=\"b\")\n",
    "plt.plot(ne,list(results['R2 score'] [10:20]),marker = 'o',c=\"r\")\n",
    "plt.plot(ne,list(results['R2 score'] [20:]),marker = 'o',c=\"g\")\n",
    "red_patch = mpatches.Patch(color='red', label='max_depth = 3')\n",
    "blue_patch = mpatches.Patch(color='blue', label='max_depth = 1')\n",
    "green_patch = mpatches.Patch(color='green', label='max_depth = 10')\n",
    "plt.legend(handles=[red_patch,blue_patch,green_patch])\n",
    "mpl.rcParams['figure.figsize'] = (10.0,8.0)\n",
    "plt.show()"
   ]
  },
  {
   "cell_type": "code",
   "execution_count": 178,
   "metadata": {},
   "outputs": [
    {
     "data": {
      "image/png": "[encoded data removed]",
      "text/plain": [
       "<matplotlib.figure.Figure at 0x26672340780>"
      ]
     },
     "metadata": {},
     "output_type": "display_data"
    }
   ],
   "source": [
    "plt.xlabel('n_estimators')\n",
    "plt.ylabel('R2 score')\n",
    "plt.plot(ne,list(results['R2 score'] [10:20]),marker = 'o',c=\"r\")\n",
    "plt.plot(ne,list(results['R2 score'] [20:]),marker = 'o',c=\"g\")\n",
    "red_patch = mpatches.Patch(color='red', label='max_depth = 3')\n",
    "blue_patch = mpatches.Patch(color='blue', label='max_depth = 1')\n",
    "green_patch = mpatches.Patch(color='green', label='max_depth = 10')\n",
    "plt.legend(handles=[red_patch,green_patch])\n",
    "mpl.rcParams['figure.figsize'] = (10.0,8.0)\n",
    "plt.show()"
   ]
  },
  {
   "cell_type": "markdown",
   "metadata": {},
   "source": [
    "## Используя все доступные регрессоры в библиотеке sklearn, найдите самый лучший регрессор."
   ]
  },
  {
   "cell_type": "markdown",
   "metadata": {},
   "source": [
    "Будем выбирать лучший на основе MSE на отложенной выборке"
   ]
  },
  {
   "cell_type": "code",
   "execution_count": 407,
   "metadata": {
    "collapsed": true
   },
   "outputs": [],
   "source": [
    "X_train, X_test, y_train, y_test = train_test_split(X, y,test_size=0.3,random_state=23)"
   ]
  },
  {
   "cell_type": "code",
   "execution_count": 408,
   "metadata": {
    "collapsed": true
   },
   "outputs": [],
   "source": [
    "rcv = RidgeCV(alphas=np.logspace(-3,2,20,))"
   ]
  },
  {
   "cell_type": "code",
   "execution_count": 409,
   "metadata": {},
   "outputs": [
    {
     "data": {
      "text/plain": [
       "RidgeCV(alphas=array([  1.00000e-03,   1.83298e-03,   3.35982e-03,   6.15848e-03,\n",
       "         1.12884e-02,   2.06914e-02,   3.79269e-02,   6.95193e-02,\n",
       "         1.27427e-01,   2.33572e-01,   4.28133e-01,   7.84760e-01,\n",
       "         1.43845e+00,   2.63665e+00,   4.83293e+00,   8.85867e+00,\n",
       "         1.62378e+01,   2.97635e+01,   5.45559e+01,   1.00000e+02]),\n",
       "    cv=None, fit_intercept=True, gcv_mode=None, normalize=False,\n",
       "    scoring=None, store_cv_values=False)"
      ]
     },
     "execution_count": 409,
     "metadata": {},
     "output_type": "execute_result"
    }
   ],
   "source": [
    "rcv.fit(X_train,y_train)"
   ]
  },
  {
   "cell_type": "code",
   "execution_count": 410,
   "metadata": {},
   "outputs": [
    {
     "data": {
      "text/plain": [
       "1.6034049275976037"
      ]
     },
     "execution_count": 410,
     "metadata": {},
     "output_type": "execute_result"
    }
   ],
   "source": [
    "mean_squared_error(rcv.predict(X_test),y_test)"
   ]
  },
  {
   "cell_type": "markdown",
   "metadata": {},
   "source": [
    "## Результат RidgeCV: MSE = 1.6034049275976037"
   ]
  },
  {
   "cell_type": "code",
   "execution_count": 411,
   "metadata": {
    "collapsed": true
   },
   "outputs": [],
   "source": [
    "alphas = np.logspace(-5,2,20)\n",
    "regul_ = ['l2','l1','elasticnet']\n",
    "results2 = pd.DataFrame()"
   ]
  },
  {
   "cell_type": "code",
   "execution_count": 334,
   "metadata": {},
   "outputs": [
    {
     "name": "stderr",
     "output_type": "stream",
     "text": [
      "C:\\Users\\Alexander\\Anaconda3\\lib\\site-packages\\sklearn\\linear_model\\stochastic_gradient.py:84: FutureWarning: max_iter and tol parameters have been added in <class 'sklearn.linear_model.stochastic_gradient.SGDRegressor'> in 0.19. If both are left unset, they default to max_iter=5 and tol=None. If tol is not None, max_iter defaults to max_iter=1000. From 0.21, default max_iter will be 1000, and default tol will be 1e-3.\n",
      "  \"and default tol will be 1e-3.\" % type(self), FutureWarning)\n"
     ]
    }
   ],
   "source": [
    "for reg in regul_:   \n",
    "    for elem in alphas:\n",
    "        sgdr = SGDRegressor(penalty=reg,alpha=elem)\n",
    "        sgdr.fit(X_train,y_train)\n",
    "        score = mean_squared_error(sgdr.predict(X_test),y_test)\n",
    "        results2 = results2.append({'Parameters':{'penalty':reg,'alpha':elem},'MSE':score},ignore_index=True)"
   ]
  },
  {
   "cell_type": "code",
   "execution_count": 335,
   "metadata": {
    "scrolled": true
   },
   "outputs": [
    {
     "data": {
      "text/html": [
       "<div>\n",
       "<style>\n",
       "    .dataframe thead tr:only-child th {\n",
       "        text-align: right;\n",
       "    }\n",
       "\n",
       "    .dataframe thead th {\n",
       "        text-align: left;\n",
       "    }\n",
       "\n",
       "    .dataframe tbody tr th {\n",
       "        vertical-align: top;\n",
       "    }\n",
       "</style>\n",
       "<table border=\"1\" class=\"dataframe\">\n",
       "  <thead>\n",
       "    <tr style=\"text-align: right;\">\n",
       "      <th></th>\n",
       "      <th>MSE</th>\n",
       "      <th>Parameters</th>\n",
       "    </tr>\n",
       "  </thead>\n",
       "  <tbody>\n",
       "    <tr>\n",
       "      <th>0</th>\n",
       "      <td>1.661006</td>\n",
       "      <td>{'penalty': 'l2', 'alpha': 1e-05}</td>\n",
       "    </tr>\n",
       "    <tr>\n",
       "      <th>1</th>\n",
       "      <td>2.345242</td>\n",
       "      <td>{'penalty': 'l2', 'alpha': 2.33572146909e-05}</td>\n",
       "    </tr>\n",
       "    <tr>\n",
       "      <th>2</th>\n",
       "      <td>2.013301</td>\n",
       "      <td>{'penalty': 'l2', 'alpha': 5.45559478117e-05}</td>\n",
       "    </tr>\n",
       "    <tr>\n",
       "      <th>3</th>\n",
       "      <td>1.666135</td>\n",
       "      <td>{'penalty': 'l2', 'alpha': 0.00012742749857}</td>\n",
       "    </tr>\n",
       "    <tr>\n",
       "      <th>4</th>\n",
       "      <td>1.627930</td>\n",
       "      <td>{'penalty': 'l2', 'alpha': 0.000297635144163}</td>\n",
       "    </tr>\n",
       "    <tr>\n",
       "      <th>5</th>\n",
       "      <td>1.610584</td>\n",
       "      <td>{'penalty': 'l2', 'alpha': 0.000695192796178}</td>\n",
       "    </tr>\n",
       "    <tr>\n",
       "      <th>6</th>\n",
       "      <td>1.645821</td>\n",
       "      <td>{'penalty': 'l2', 'alpha': 0.00162377673919}</td>\n",
       "    </tr>\n",
       "    <tr>\n",
       "      <th>7</th>\n",
       "      <td>1.703758</td>\n",
       "      <td>{'penalty': 'l2', 'alpha': 0.00379269019073}</td>\n",
       "    </tr>\n",
       "    <tr>\n",
       "      <th>8</th>\n",
       "      <td>1.603978</td>\n",
       "      <td>{'penalty': 'l2', 'alpha': 0.0088586679041}</td>\n",
       "    </tr>\n",
       "    <tr>\n",
       "      <th>9</th>\n",
       "      <td>1.612528</td>\n",
       "      <td>{'penalty': 'l2', 'alpha': 0.0206913808111}</td>\n",
       "    </tr>\n",
       "    <tr>\n",
       "      <th>10</th>\n",
       "      <td>1.603581</td>\n",
       "      <td>{'penalty': 'l2', 'alpha': 0.0483293023857}</td>\n",
       "    </tr>\n",
       "    <tr>\n",
       "      <th>11</th>\n",
       "      <td>1.932053</td>\n",
       "      <td>{'penalty': 'l2', 'alpha': 0.112883789168}</td>\n",
       "    </tr>\n",
       "    <tr>\n",
       "      <th>12</th>\n",
       "      <td>2.269331</td>\n",
       "      <td>{'penalty': 'l2', 'alpha': 0.263665089873}</td>\n",
       "    </tr>\n",
       "    <tr>\n",
       "      <th>13</th>\n",
       "      <td>1.605925</td>\n",
       "      <td>{'penalty': 'l2', 'alpha': 0.615848211066}</td>\n",
       "    </tr>\n",
       "    <tr>\n",
       "      <th>14</th>\n",
       "      <td>1.602348</td>\n",
       "      <td>{'penalty': 'l2', 'alpha': 1.43844988829}</td>\n",
       "    </tr>\n",
       "    <tr>\n",
       "      <th>15</th>\n",
       "      <td>2.788756</td>\n",
       "      <td>{'penalty': 'l2', 'alpha': 3.35981828628}</td>\n",
       "    </tr>\n",
       "    <tr>\n",
       "      <th>16</th>\n",
       "      <td>1.993425</td>\n",
       "      <td>{'penalty': 'l2', 'alpha': 7.84759970351}</td>\n",
       "    </tr>\n",
       "    <tr>\n",
       "      <th>17</th>\n",
       "      <td>2.920281</td>\n",
       "      <td>{'penalty': 'l2', 'alpha': 18.3298071083}</td>\n",
       "    </tr>\n",
       "    <tr>\n",
       "      <th>18</th>\n",
       "      <td>6.265917</td>\n",
       "      <td>{'penalty': 'l2', 'alpha': 42.8133239872}</td>\n",
       "    </tr>\n",
       "    <tr>\n",
       "      <th>19</th>\n",
       "      <td>9.055094</td>\n",
       "      <td>{'penalty': 'l2', 'alpha': 100.0}</td>\n",
       "    </tr>\n",
       "    <tr>\n",
       "      <th>20</th>\n",
       "      <td>1.603144</td>\n",
       "      <td>{'penalty': 'l1', 'alpha': 1e-05}</td>\n",
       "    </tr>\n",
       "    <tr>\n",
       "      <th>21</th>\n",
       "      <td>1.633241</td>\n",
       "      <td>{'penalty': 'l1', 'alpha': 2.33572146909e-05}</td>\n",
       "    </tr>\n",
       "    <tr>\n",
       "      <th>22</th>\n",
       "      <td>1.703443</td>\n",
       "      <td>{'penalty': 'l1', 'alpha': 5.45559478117e-05}</td>\n",
       "    </tr>\n",
       "    <tr>\n",
       "      <th>23</th>\n",
       "      <td>1.604668</td>\n",
       "      <td>{'penalty': 'l1', 'alpha': 0.00012742749857}</td>\n",
       "    </tr>\n",
       "    <tr>\n",
       "      <th>24</th>\n",
       "      <td>1.691416</td>\n",
       "      <td>{'penalty': 'l1', 'alpha': 0.000297635144163}</td>\n",
       "    </tr>\n",
       "    <tr>\n",
       "      <th>25</th>\n",
       "      <td>1.634347</td>\n",
       "      <td>{'penalty': 'l1', 'alpha': 0.000695192796178}</td>\n",
       "    </tr>\n",
       "    <tr>\n",
       "      <th>26</th>\n",
       "      <td>1.606172</td>\n",
       "      <td>{'penalty': 'l1', 'alpha': 0.00162377673919}</td>\n",
       "    </tr>\n",
       "    <tr>\n",
       "      <th>27</th>\n",
       "      <td>1.828839</td>\n",
       "      <td>{'penalty': 'l1', 'alpha': 0.00379269019073}</td>\n",
       "    </tr>\n",
       "    <tr>\n",
       "      <th>28</th>\n",
       "      <td>1.601457</td>\n",
       "      <td>{'penalty': 'l1', 'alpha': 0.0088586679041}</td>\n",
       "    </tr>\n",
       "    <tr>\n",
       "      <th>29</th>\n",
       "      <td>1.641667</td>\n",
       "      <td>{'penalty': 'l1', 'alpha': 0.0206913808111}</td>\n",
       "    </tr>\n",
       "    <tr>\n",
       "      <th>30</th>\n",
       "      <td>1.615486</td>\n",
       "      <td>{'penalty': 'l1', 'alpha': 0.0483293023857}</td>\n",
       "    </tr>\n",
       "    <tr>\n",
       "      <th>31</th>\n",
       "      <td>1.671835</td>\n",
       "      <td>{'penalty': 'l1', 'alpha': 0.112883789168}</td>\n",
       "    </tr>\n",
       "    <tr>\n",
       "      <th>32</th>\n",
       "      <td>1.605748</td>\n",
       "      <td>{'penalty': 'l1', 'alpha': 0.263665089873}</td>\n",
       "    </tr>\n",
       "    <tr>\n",
       "      <th>33</th>\n",
       "      <td>1.791051</td>\n",
       "      <td>{'penalty': 'l1', 'alpha': 0.615848211066}</td>\n",
       "    </tr>\n",
       "    <tr>\n",
       "      <th>34</th>\n",
       "      <td>1.623514</td>\n",
       "      <td>{'penalty': 'l1', 'alpha': 1.43844988829}</td>\n",
       "    </tr>\n",
       "    <tr>\n",
       "      <th>35</th>\n",
       "      <td>1.953094</td>\n",
       "      <td>{'penalty': 'l1', 'alpha': 3.35981828628}</td>\n",
       "    </tr>\n",
       "    <tr>\n",
       "      <th>36</th>\n",
       "      <td>2.301874</td>\n",
       "      <td>{'penalty': 'l1', 'alpha': 7.84759970351}</td>\n",
       "    </tr>\n",
       "    <tr>\n",
       "      <th>37</th>\n",
       "      <td>6.340099</td>\n",
       "      <td>{'penalty': 'l1', 'alpha': 18.3298071083}</td>\n",
       "    </tr>\n",
       "    <tr>\n",
       "      <th>38</th>\n",
       "      <td>9.979739</td>\n",
       "      <td>{'penalty': 'l1', 'alpha': 42.8133239872}</td>\n",
       "    </tr>\n",
       "    <tr>\n",
       "      <th>39</th>\n",
       "      <td>9.426214</td>\n",
       "      <td>{'penalty': 'l1', 'alpha': 100.0}</td>\n",
       "    </tr>\n",
       "    <tr>\n",
       "      <th>40</th>\n",
       "      <td>1.612310</td>\n",
       "      <td>{'penalty': 'elasticnet', 'alpha': 1e-05}</td>\n",
       "    </tr>\n",
       "    <tr>\n",
       "      <th>41</th>\n",
       "      <td>1.859153</td>\n",
       "      <td>{'penalty': 'elasticnet', 'alpha': 2.335721469...</td>\n",
       "    </tr>\n",
       "    <tr>\n",
       "      <th>42</th>\n",
       "      <td>1.602024</td>\n",
       "      <td>{'penalty': 'elasticnet', 'alpha': 5.455594781...</td>\n",
       "    </tr>\n",
       "    <tr>\n",
       "      <th>43</th>\n",
       "      <td>2.138016</td>\n",
       "      <td>{'penalty': 'elasticnet', 'alpha': 0.000127427...</td>\n",
       "    </tr>\n",
       "    <tr>\n",
       "      <th>44</th>\n",
       "      <td>1.709480</td>\n",
       "      <td>{'penalty': 'elasticnet', 'alpha': 0.000297635...</td>\n",
       "    </tr>\n",
       "    <tr>\n",
       "      <th>45</th>\n",
       "      <td>2.229464</td>\n",
       "      <td>{'penalty': 'elasticnet', 'alpha': 0.000695192...</td>\n",
       "    </tr>\n",
       "    <tr>\n",
       "      <th>46</th>\n",
       "      <td>1.630330</td>\n",
       "      <td>{'penalty': 'elasticnet', 'alpha': 0.001623776...</td>\n",
       "    </tr>\n",
       "    <tr>\n",
       "      <th>47</th>\n",
       "      <td>1.657491</td>\n",
       "      <td>{'penalty': 'elasticnet', 'alpha': 0.003792690...</td>\n",
       "    </tr>\n",
       "    <tr>\n",
       "      <th>48</th>\n",
       "      <td>1.900748</td>\n",
       "      <td>{'penalty': 'elasticnet', 'alpha': 0.008858667...</td>\n",
       "    </tr>\n",
       "    <tr>\n",
       "      <th>49</th>\n",
       "      <td>1.620437</td>\n",
       "      <td>{'penalty': 'elasticnet', 'alpha': 0.020691380...</td>\n",
       "    </tr>\n",
       "    <tr>\n",
       "      <th>50</th>\n",
       "      <td>1.647407</td>\n",
       "      <td>{'penalty': 'elasticnet', 'alpha': 0.048329302...</td>\n",
       "    </tr>\n",
       "    <tr>\n",
       "      <th>51</th>\n",
       "      <td>1.950694</td>\n",
       "      <td>{'penalty': 'elasticnet', 'alpha': 0.112883789...</td>\n",
       "    </tr>\n",
       "    <tr>\n",
       "      <th>52</th>\n",
       "      <td>1.768449</td>\n",
       "      <td>{'penalty': 'elasticnet', 'alpha': 0.263665089...</td>\n",
       "    </tr>\n",
       "    <tr>\n",
       "      <th>53</th>\n",
       "      <td>1.630719</td>\n",
       "      <td>{'penalty': 'elasticnet', 'alpha': 0.615848211...</td>\n",
       "    </tr>\n",
       "    <tr>\n",
       "      <th>54</th>\n",
       "      <td>1.678052</td>\n",
       "      <td>{'penalty': 'elasticnet', 'alpha': 1.43844988829}</td>\n",
       "    </tr>\n",
       "    <tr>\n",
       "      <th>55</th>\n",
       "      <td>1.709933</td>\n",
       "      <td>{'penalty': 'elasticnet', 'alpha': 3.35981828628}</td>\n",
       "    </tr>\n",
       "    <tr>\n",
       "      <th>56</th>\n",
       "      <td>2.327585</td>\n",
       "      <td>{'penalty': 'elasticnet', 'alpha': 7.84759970351}</td>\n",
       "    </tr>\n",
       "    <tr>\n",
       "      <th>57</th>\n",
       "      <td>4.069971</td>\n",
       "      <td>{'penalty': 'elasticnet', 'alpha': 18.3298071083}</td>\n",
       "    </tr>\n",
       "    <tr>\n",
       "      <th>58</th>\n",
       "      <td>8.366561</td>\n",
       "      <td>{'penalty': 'elasticnet', 'alpha': 42.8133239872}</td>\n",
       "    </tr>\n",
       "    <tr>\n",
       "      <th>59</th>\n",
       "      <td>11.795894</td>\n",
       "      <td>{'penalty': 'elasticnet', 'alpha': 100.0}</td>\n",
       "    </tr>\n",
       "  </tbody>\n",
       "</table>\n",
       "</div>"
      ],
      "text/plain": [
       "          MSE                                         Parameters\n",
       "0    1.661006                  {'penalty': 'l2', 'alpha': 1e-05}\n",
       "1    2.345242      {'penalty': 'l2', 'alpha': 2.33572146909e-05}\n",
       "2    2.013301      {'penalty': 'l2', 'alpha': 5.45559478117e-05}\n",
       "3    1.666135       {'penalty': 'l2', 'alpha': 0.00012742749857}\n",
       "4    1.627930      {'penalty': 'l2', 'alpha': 0.000297635144163}\n",
       "5    1.610584      {'penalty': 'l2', 'alpha': 0.000695192796178}\n",
       "6    1.645821       {'penalty': 'l2', 'alpha': 0.00162377673919}\n",
       "7    1.703758       {'penalty': 'l2', 'alpha': 0.00379269019073}\n",
       "8    1.603978        {'penalty': 'l2', 'alpha': 0.0088586679041}\n",
       "9    1.612528        {'penalty': 'l2', 'alpha': 0.0206913808111}\n",
       "10   1.603581        {'penalty': 'l2', 'alpha': 0.0483293023857}\n",
       "11   1.932053         {'penalty': 'l2', 'alpha': 0.112883789168}\n",
       "12   2.269331         {'penalty': 'l2', 'alpha': 0.263665089873}\n",
       "13   1.605925         {'penalty': 'l2', 'alpha': 0.615848211066}\n",
       "14   1.602348          {'penalty': 'l2', 'alpha': 1.43844988829}\n",
       "15   2.788756          {'penalty': 'l2', 'alpha': 3.35981828628}\n",
       "16   1.993425          {'penalty': 'l2', 'alpha': 7.84759970351}\n",
       "17   2.920281          {'penalty': 'l2', 'alpha': 18.3298071083}\n",
       "18   6.265917          {'penalty': 'l2', 'alpha': 42.8133239872}\n",
       "19   9.055094                  {'penalty': 'l2', 'alpha': 100.0}\n",
       "20   1.603144                  {'penalty': 'l1', 'alpha': 1e-05}\n",
       "21   1.633241      {'penalty': 'l1', 'alpha': 2.33572146909e-05}\n",
       "22   1.703443      {'penalty': 'l1', 'alpha': 5.45559478117e-05}\n",
       "23   1.604668       {'penalty': 'l1', 'alpha': 0.00012742749857}\n",
       "24   1.691416      {'penalty': 'l1', 'alpha': 0.000297635144163}\n",
       "25   1.634347      {'penalty': 'l1', 'alpha': 0.000695192796178}\n",
       "26   1.606172       {'penalty': 'l1', 'alpha': 0.00162377673919}\n",
       "27   1.828839       {'penalty': 'l1', 'alpha': 0.00379269019073}\n",
       "28   1.601457        {'penalty': 'l1', 'alpha': 0.0088586679041}\n",
       "29   1.641667        {'penalty': 'l1', 'alpha': 0.0206913808111}\n",
       "30   1.615486        {'penalty': 'l1', 'alpha': 0.0483293023857}\n",
       "31   1.671835         {'penalty': 'l1', 'alpha': 0.112883789168}\n",
       "32   1.605748         {'penalty': 'l1', 'alpha': 0.263665089873}\n",
       "33   1.791051         {'penalty': 'l1', 'alpha': 0.615848211066}\n",
       "34   1.623514          {'penalty': 'l1', 'alpha': 1.43844988829}\n",
       "35   1.953094          {'penalty': 'l1', 'alpha': 3.35981828628}\n",
       "36   2.301874          {'penalty': 'l1', 'alpha': 7.84759970351}\n",
       "37   6.340099          {'penalty': 'l1', 'alpha': 18.3298071083}\n",
       "38   9.979739          {'penalty': 'l1', 'alpha': 42.8133239872}\n",
       "39   9.426214                  {'penalty': 'l1', 'alpha': 100.0}\n",
       "40   1.612310          {'penalty': 'elasticnet', 'alpha': 1e-05}\n",
       "41   1.859153  {'penalty': 'elasticnet', 'alpha': 2.335721469...\n",
       "42   1.602024  {'penalty': 'elasticnet', 'alpha': 5.455594781...\n",
       "43   2.138016  {'penalty': 'elasticnet', 'alpha': 0.000127427...\n",
       "44   1.709480  {'penalty': 'elasticnet', 'alpha': 0.000297635...\n",
       "45   2.229464  {'penalty': 'elasticnet', 'alpha': 0.000695192...\n",
       "46   1.630330  {'penalty': 'elasticnet', 'alpha': 0.001623776...\n",
       "47   1.657491  {'penalty': 'elasticnet', 'alpha': 0.003792690...\n",
       "48   1.900748  {'penalty': 'elasticnet', 'alpha': 0.008858667...\n",
       "49   1.620437  {'penalty': 'elasticnet', 'alpha': 0.020691380...\n",
       "50   1.647407  {'penalty': 'elasticnet', 'alpha': 0.048329302...\n",
       "51   1.950694  {'penalty': 'elasticnet', 'alpha': 0.112883789...\n",
       "52   1.768449  {'penalty': 'elasticnet', 'alpha': 0.263665089...\n",
       "53   1.630719  {'penalty': 'elasticnet', 'alpha': 0.615848211...\n",
       "54   1.678052  {'penalty': 'elasticnet', 'alpha': 1.43844988829}\n",
       "55   1.709933  {'penalty': 'elasticnet', 'alpha': 3.35981828628}\n",
       "56   2.327585  {'penalty': 'elasticnet', 'alpha': 7.84759970351}\n",
       "57   4.069971  {'penalty': 'elasticnet', 'alpha': 18.3298071083}\n",
       "58   8.366561  {'penalty': 'elasticnet', 'alpha': 42.8133239872}\n",
       "59  11.795894          {'penalty': 'elasticnet', 'alpha': 100.0}"
      ]
     },
     "execution_count": 335,
     "metadata": {},
     "output_type": "execute_result"
    }
   ],
   "source": [
    "results2"
   ]
  },
  {
   "cell_type": "code",
   "execution_count": 340,
   "metadata": {},
   "outputs": [
    {
     "data": {
      "text/plain": [
       "1.6014573607966061"
      ]
     },
     "execution_count": 340,
     "metadata": {},
     "output_type": "execute_result"
    }
   ],
   "source": [
    "results2['MSE'][results2['MSE'].idxmin()]"
   ]
  },
  {
   "cell_type": "markdown",
   "metadata": {},
   "source": [
    "## Результат SGDRegressor: MSE = 1.6014573607966061"
   ]
  },
  {
   "cell_type": "code",
   "execution_count": 347,
   "metadata": {
    "collapsed": true
   },
   "outputs": [],
   "source": [
    "md = [1,3,10,20]\n",
    "ne = np.arange(100,1100,100)\n",
    "results3 = pd.DataFrame()"
   ]
  },
  {
   "cell_type": "code",
   "execution_count": 354,
   "metadata": {
    "collapsed": true
   },
   "outputs": [],
   "source": [
    "for max_d in md:\n",
    "    for n_est in ne:\n",
    "        gbr = GradientBoostingRegressor(max_depth=max_d,n_estimators=n_est)\n",
    "        gbr.fit(X_train,y_train)\n",
    "        y_pred = gbr.predict(X_test)\n",
    "        score = mean_squared_error(y_pred,y_test)\n",
    "        results3 = results3.append({'Parameters':{'max_depth':max_d,'n_estimators':n_est},'MSE':score},ignore_index=True)"
   ]
  },
  {
   "cell_type": "code",
   "execution_count": 355,
   "metadata": {
    "scrolled": true
   },
   "outputs": [
    {
     "data": {
      "text/html": [
       "<div>\n",
       "<style>\n",
       "    .dataframe thead tr:only-child th {\n",
       "        text-align: right;\n",
       "    }\n",
       "\n",
       "    .dataframe thead th {\n",
       "        text-align: left;\n",
       "    }\n",
       "\n",
       "    .dataframe tbody tr th {\n",
       "        vertical-align: top;\n",
       "    }\n",
       "</style>\n",
       "<table border=\"1\" class=\"dataframe\">\n",
       "  <thead>\n",
       "    <tr style=\"text-align: right;\">\n",
       "      <th></th>\n",
       "      <th>MSE</th>\n",
       "      <th>Parameters</th>\n",
       "    </tr>\n",
       "  </thead>\n",
       "  <tbody>\n",
       "    <tr>\n",
       "      <th>0</th>\n",
       "      <td>1.557207</td>\n",
       "      <td>{'max_depth': 1, 'n_estimators': 100}</td>\n",
       "    </tr>\n",
       "    <tr>\n",
       "      <th>1</th>\n",
       "      <td>1.563917</td>\n",
       "      <td>{'max_depth': 1, 'n_estimators': 200}</td>\n",
       "    </tr>\n",
       "    <tr>\n",
       "      <th>2</th>\n",
       "      <td>1.564267</td>\n",
       "      <td>{'max_depth': 1, 'n_estimators': 300}</td>\n",
       "    </tr>\n",
       "    <tr>\n",
       "      <th>3</th>\n",
       "      <td>1.564277</td>\n",
       "      <td>{'max_depth': 1, 'n_estimators': 400}</td>\n",
       "    </tr>\n",
       "    <tr>\n",
       "      <th>4</th>\n",
       "      <td>1.564277</td>\n",
       "      <td>{'max_depth': 1, 'n_estimators': 500}</td>\n",
       "    </tr>\n",
       "    <tr>\n",
       "      <th>5</th>\n",
       "      <td>1.564277</td>\n",
       "      <td>{'max_depth': 1, 'n_estimators': 600}</td>\n",
       "    </tr>\n",
       "    <tr>\n",
       "      <th>6</th>\n",
       "      <td>1.564277</td>\n",
       "      <td>{'max_depth': 1, 'n_estimators': 700}</td>\n",
       "    </tr>\n",
       "    <tr>\n",
       "      <th>7</th>\n",
       "      <td>1.564277</td>\n",
       "      <td>{'max_depth': 1, 'n_estimators': 800}</td>\n",
       "    </tr>\n",
       "    <tr>\n",
       "      <th>8</th>\n",
       "      <td>1.564277</td>\n",
       "      <td>{'max_depth': 1, 'n_estimators': 900}</td>\n",
       "    </tr>\n",
       "    <tr>\n",
       "      <th>9</th>\n",
       "      <td>1.564277</td>\n",
       "      <td>{'max_depth': 1, 'n_estimators': 1000}</td>\n",
       "    </tr>\n",
       "    <tr>\n",
       "      <th>10</th>\n",
       "      <td>1.564259</td>\n",
       "      <td>{'max_depth': 3, 'n_estimators': 100}</td>\n",
       "    </tr>\n",
       "    <tr>\n",
       "      <th>11</th>\n",
       "      <td>1.564277</td>\n",
       "      <td>{'max_depth': 3, 'n_estimators': 200}</td>\n",
       "    </tr>\n",
       "    <tr>\n",
       "      <th>12</th>\n",
       "      <td>1.564277</td>\n",
       "      <td>{'max_depth': 3, 'n_estimators': 300}</td>\n",
       "    </tr>\n",
       "    <tr>\n",
       "      <th>13</th>\n",
       "      <td>1.564277</td>\n",
       "      <td>{'max_depth': 3, 'n_estimators': 400}</td>\n",
       "    </tr>\n",
       "    <tr>\n",
       "      <th>14</th>\n",
       "      <td>1.564277</td>\n",
       "      <td>{'max_depth': 3, 'n_estimators': 500}</td>\n",
       "    </tr>\n",
       "    <tr>\n",
       "      <th>15</th>\n",
       "      <td>1.564277</td>\n",
       "      <td>{'max_depth': 3, 'n_estimators': 600}</td>\n",
       "    </tr>\n",
       "    <tr>\n",
       "      <th>16</th>\n",
       "      <td>1.564277</td>\n",
       "      <td>{'max_depth': 3, 'n_estimators': 700}</td>\n",
       "    </tr>\n",
       "    <tr>\n",
       "      <th>17</th>\n",
       "      <td>1.564277</td>\n",
       "      <td>{'max_depth': 3, 'n_estimators': 800}</td>\n",
       "    </tr>\n",
       "    <tr>\n",
       "      <th>18</th>\n",
       "      <td>1.564277</td>\n",
       "      <td>{'max_depth': 3, 'n_estimators': 900}</td>\n",
       "    </tr>\n",
       "    <tr>\n",
       "      <th>19</th>\n",
       "      <td>1.564277</td>\n",
       "      <td>{'max_depth': 3, 'n_estimators': 1000}</td>\n",
       "    </tr>\n",
       "    <tr>\n",
       "      <th>20</th>\n",
       "      <td>1.564267</td>\n",
       "      <td>{'max_depth': 10, 'n_estimators': 100}</td>\n",
       "    </tr>\n",
       "    <tr>\n",
       "      <th>21</th>\n",
       "      <td>1.564277</td>\n",
       "      <td>{'max_depth': 10, 'n_estimators': 200}</td>\n",
       "    </tr>\n",
       "    <tr>\n",
       "      <th>22</th>\n",
       "      <td>1.564277</td>\n",
       "      <td>{'max_depth': 10, 'n_estimators': 300}</td>\n",
       "    </tr>\n",
       "    <tr>\n",
       "      <th>23</th>\n",
       "      <td>1.564277</td>\n",
       "      <td>{'max_depth': 10, 'n_estimators': 400}</td>\n",
       "    </tr>\n",
       "    <tr>\n",
       "      <th>24</th>\n",
       "      <td>1.564277</td>\n",
       "      <td>{'max_depth': 10, 'n_estimators': 500}</td>\n",
       "    </tr>\n",
       "    <tr>\n",
       "      <th>25</th>\n",
       "      <td>1.564277</td>\n",
       "      <td>{'max_depth': 10, 'n_estimators': 600}</td>\n",
       "    </tr>\n",
       "    <tr>\n",
       "      <th>26</th>\n",
       "      <td>1.564277</td>\n",
       "      <td>{'max_depth': 10, 'n_estimators': 700}</td>\n",
       "    </tr>\n",
       "    <tr>\n",
       "      <th>27</th>\n",
       "      <td>1.564277</td>\n",
       "      <td>{'max_depth': 10, 'n_estimators': 800}</td>\n",
       "    </tr>\n",
       "    <tr>\n",
       "      <th>28</th>\n",
       "      <td>1.564277</td>\n",
       "      <td>{'max_depth': 10, 'n_estimators': 900}</td>\n",
       "    </tr>\n",
       "    <tr>\n",
       "      <th>29</th>\n",
       "      <td>1.564277</td>\n",
       "      <td>{'max_depth': 10, 'n_estimators': 1000}</td>\n",
       "    </tr>\n",
       "    <tr>\n",
       "      <th>...</th>\n",
       "      <td>...</td>\n",
       "      <td>...</td>\n",
       "    </tr>\n",
       "    <tr>\n",
       "      <th>130</th>\n",
       "      <td>1.576259</td>\n",
       "      <td>{'max_depth': 3, 'n_estimators': 100}</td>\n",
       "    </tr>\n",
       "    <tr>\n",
       "      <th>131</th>\n",
       "      <td>1.575590</td>\n",
       "      <td>{'max_depth': 3, 'n_estimators': 200}</td>\n",
       "    </tr>\n",
       "    <tr>\n",
       "      <th>132</th>\n",
       "      <td>1.575590</td>\n",
       "      <td>{'max_depth': 3, 'n_estimators': 300}</td>\n",
       "    </tr>\n",
       "    <tr>\n",
       "      <th>133</th>\n",
       "      <td>1.575590</td>\n",
       "      <td>{'max_depth': 3, 'n_estimators': 400}</td>\n",
       "    </tr>\n",
       "    <tr>\n",
       "      <th>134</th>\n",
       "      <td>1.575590</td>\n",
       "      <td>{'max_depth': 3, 'n_estimators': 500}</td>\n",
       "    </tr>\n",
       "    <tr>\n",
       "      <th>135</th>\n",
       "      <td>1.575590</td>\n",
       "      <td>{'max_depth': 3, 'n_estimators': 600}</td>\n",
       "    </tr>\n",
       "    <tr>\n",
       "      <th>136</th>\n",
       "      <td>1.575590</td>\n",
       "      <td>{'max_depth': 3, 'n_estimators': 700}</td>\n",
       "    </tr>\n",
       "    <tr>\n",
       "      <th>137</th>\n",
       "      <td>1.575590</td>\n",
       "      <td>{'max_depth': 3, 'n_estimators': 800}</td>\n",
       "    </tr>\n",
       "    <tr>\n",
       "      <th>138</th>\n",
       "      <td>1.575590</td>\n",
       "      <td>{'max_depth': 3, 'n_estimators': 900}</td>\n",
       "    </tr>\n",
       "    <tr>\n",
       "      <th>139</th>\n",
       "      <td>1.575590</td>\n",
       "      <td>{'max_depth': 3, 'n_estimators': 1000}</td>\n",
       "    </tr>\n",
       "    <tr>\n",
       "      <th>140</th>\n",
       "      <td>1.574948</td>\n",
       "      <td>{'max_depth': 10, 'n_estimators': 100}</td>\n",
       "    </tr>\n",
       "    <tr>\n",
       "      <th>141</th>\n",
       "      <td>1.574949</td>\n",
       "      <td>{'max_depth': 10, 'n_estimators': 200}</td>\n",
       "    </tr>\n",
       "    <tr>\n",
       "      <th>142</th>\n",
       "      <td>1.574949</td>\n",
       "      <td>{'max_depth': 10, 'n_estimators': 300}</td>\n",
       "    </tr>\n",
       "    <tr>\n",
       "      <th>143</th>\n",
       "      <td>1.574949</td>\n",
       "      <td>{'max_depth': 10, 'n_estimators': 400}</td>\n",
       "    </tr>\n",
       "    <tr>\n",
       "      <th>144</th>\n",
       "      <td>1.574949</td>\n",
       "      <td>{'max_depth': 10, 'n_estimators': 500}</td>\n",
       "    </tr>\n",
       "    <tr>\n",
       "      <th>145</th>\n",
       "      <td>1.574949</td>\n",
       "      <td>{'max_depth': 10, 'n_estimators': 600}</td>\n",
       "    </tr>\n",
       "    <tr>\n",
       "      <th>146</th>\n",
       "      <td>1.574949</td>\n",
       "      <td>{'max_depth': 10, 'n_estimators': 700}</td>\n",
       "    </tr>\n",
       "    <tr>\n",
       "      <th>147</th>\n",
       "      <td>1.574949</td>\n",
       "      <td>{'max_depth': 10, 'n_estimators': 800}</td>\n",
       "    </tr>\n",
       "    <tr>\n",
       "      <th>148</th>\n",
       "      <td>1.574949</td>\n",
       "      <td>{'max_depth': 10, 'n_estimators': 900}</td>\n",
       "    </tr>\n",
       "    <tr>\n",
       "      <th>149</th>\n",
       "      <td>1.574949</td>\n",
       "      <td>{'max_depth': 10, 'n_estimators': 1000}</td>\n",
       "    </tr>\n",
       "    <tr>\n",
       "      <th>150</th>\n",
       "      <td>1.574948</td>\n",
       "      <td>{'max_depth': 20, 'n_estimators': 100}</td>\n",
       "    </tr>\n",
       "    <tr>\n",
       "      <th>151</th>\n",
       "      <td>1.574949</td>\n",
       "      <td>{'max_depth': 20, 'n_estimators': 200}</td>\n",
       "    </tr>\n",
       "    <tr>\n",
       "      <th>152</th>\n",
       "      <td>1.574949</td>\n",
       "      <td>{'max_depth': 20, 'n_estimators': 300}</td>\n",
       "    </tr>\n",
       "    <tr>\n",
       "      <th>153</th>\n",
       "      <td>1.574949</td>\n",
       "      <td>{'max_depth': 20, 'n_estimators': 400}</td>\n",
       "    </tr>\n",
       "    <tr>\n",
       "      <th>154</th>\n",
       "      <td>1.574949</td>\n",
       "      <td>{'max_depth': 20, 'n_estimators': 500}</td>\n",
       "    </tr>\n",
       "    <tr>\n",
       "      <th>155</th>\n",
       "      <td>1.574949</td>\n",
       "      <td>{'max_depth': 20, 'n_estimators': 600}</td>\n",
       "    </tr>\n",
       "    <tr>\n",
       "      <th>156</th>\n",
       "      <td>1.574949</td>\n",
       "      <td>{'max_depth': 20, 'n_estimators': 700}</td>\n",
       "    </tr>\n",
       "    <tr>\n",
       "      <th>157</th>\n",
       "      <td>1.574949</td>\n",
       "      <td>{'max_depth': 20, 'n_estimators': 800}</td>\n",
       "    </tr>\n",
       "    <tr>\n",
       "      <th>158</th>\n",
       "      <td>1.574949</td>\n",
       "      <td>{'max_depth': 20, 'n_estimators': 900}</td>\n",
       "    </tr>\n",
       "    <tr>\n",
       "      <th>159</th>\n",
       "      <td>1.574949</td>\n",
       "      <td>{'max_depth': 20, 'n_estimators': 1000}</td>\n",
       "    </tr>\n",
       "  </tbody>\n",
       "</table>\n",
       "<p>160 rows × 2 columns</p>\n",
       "</div>"
      ],
      "text/plain": [
       "          MSE                               Parameters\n",
       "0    1.557207    {'max_depth': 1, 'n_estimators': 100}\n",
       "1    1.563917    {'max_depth': 1, 'n_estimators': 200}\n",
       "2    1.564267    {'max_depth': 1, 'n_estimators': 300}\n",
       "3    1.564277    {'max_depth': 1, 'n_estimators': 400}\n",
       "4    1.564277    {'max_depth': 1, 'n_estimators': 500}\n",
       "5    1.564277    {'max_depth': 1, 'n_estimators': 600}\n",
       "6    1.564277    {'max_depth': 1, 'n_estimators': 700}\n",
       "7    1.564277    {'max_depth': 1, 'n_estimators': 800}\n",
       "8    1.564277    {'max_depth': 1, 'n_estimators': 900}\n",
       "9    1.564277   {'max_depth': 1, 'n_estimators': 1000}\n",
       "10   1.564259    {'max_depth': 3, 'n_estimators': 100}\n",
       "11   1.564277    {'max_depth': 3, 'n_estimators': 200}\n",
       "12   1.564277    {'max_depth': 3, 'n_estimators': 300}\n",
       "13   1.564277    {'max_depth': 3, 'n_estimators': 400}\n",
       "14   1.564277    {'max_depth': 3, 'n_estimators': 500}\n",
       "15   1.564277    {'max_depth': 3, 'n_estimators': 600}\n",
       "16   1.564277    {'max_depth': 3, 'n_estimators': 700}\n",
       "17   1.564277    {'max_depth': 3, 'n_estimators': 800}\n",
       "18   1.564277    {'max_depth': 3, 'n_estimators': 900}\n",
       "19   1.564277   {'max_depth': 3, 'n_estimators': 1000}\n",
       "20   1.564267   {'max_depth': 10, 'n_estimators': 100}\n",
       "21   1.564277   {'max_depth': 10, 'n_estimators': 200}\n",
       "22   1.564277   {'max_depth': 10, 'n_estimators': 300}\n",
       "23   1.564277   {'max_depth': 10, 'n_estimators': 400}\n",
       "24   1.564277   {'max_depth': 10, 'n_estimators': 500}\n",
       "25   1.564277   {'max_depth': 10, 'n_estimators': 600}\n",
       "26   1.564277   {'max_depth': 10, 'n_estimators': 700}\n",
       "27   1.564277   {'max_depth': 10, 'n_estimators': 800}\n",
       "28   1.564277   {'max_depth': 10, 'n_estimators': 900}\n",
       "29   1.564277  {'max_depth': 10, 'n_estimators': 1000}\n",
       "..        ...                                      ...\n",
       "130  1.576259    {'max_depth': 3, 'n_estimators': 100}\n",
       "131  1.575590    {'max_depth': 3, 'n_estimators': 200}\n",
       "132  1.575590    {'max_depth': 3, 'n_estimators': 300}\n",
       "133  1.575590    {'max_depth': 3, 'n_estimators': 400}\n",
       "134  1.575590    {'max_depth': 3, 'n_estimators': 500}\n",
       "135  1.575590    {'max_depth': 3, 'n_estimators': 600}\n",
       "136  1.575590    {'max_depth': 3, 'n_estimators': 700}\n",
       "137  1.575590    {'max_depth': 3, 'n_estimators': 800}\n",
       "138  1.575590    {'max_depth': 3, 'n_estimators': 900}\n",
       "139  1.575590   {'max_depth': 3, 'n_estimators': 1000}\n",
       "140  1.574948   {'max_depth': 10, 'n_estimators': 100}\n",
       "141  1.574949   {'max_depth': 10, 'n_estimators': 200}\n",
       "142  1.574949   {'max_depth': 10, 'n_estimators': 300}\n",
       "143  1.574949   {'max_depth': 10, 'n_estimators': 400}\n",
       "144  1.574949   {'max_depth': 10, 'n_estimators': 500}\n",
       "145  1.574949   {'max_depth': 10, 'n_estimators': 600}\n",
       "146  1.574949   {'max_depth': 10, 'n_estimators': 700}\n",
       "147  1.574949   {'max_depth': 10, 'n_estimators': 800}\n",
       "148  1.574949   {'max_depth': 10, 'n_estimators': 900}\n",
       "149  1.574949  {'max_depth': 10, 'n_estimators': 1000}\n",
       "150  1.574948   {'max_depth': 20, 'n_estimators': 100}\n",
       "151  1.574949   {'max_depth': 20, 'n_estimators': 200}\n",
       "152  1.574949   {'max_depth': 20, 'n_estimators': 300}\n",
       "153  1.574949   {'max_depth': 20, 'n_estimators': 400}\n",
       "154  1.574949   {'max_depth': 20, 'n_estimators': 500}\n",
       "155  1.574949   {'max_depth': 20, 'n_estimators': 600}\n",
       "156  1.574949   {'max_depth': 20, 'n_estimators': 700}\n",
       "157  1.574949   {'max_depth': 20, 'n_estimators': 800}\n",
       "158  1.574949   {'max_depth': 20, 'n_estimators': 900}\n",
       "159  1.574949  {'max_depth': 20, 'n_estimators': 1000}\n",
       "\n",
       "[160 rows x 2 columns]"
      ]
     },
     "execution_count": 355,
     "metadata": {},
     "output_type": "execute_result"
    }
   ],
   "source": [
    "results3"
   ]
  },
  {
   "cell_type": "code",
   "execution_count": 356,
   "metadata": {},
   "outputs": [
    {
     "data": {
      "text/plain": [
       "1.5566395106286695"
      ]
     },
     "execution_count": 356,
     "metadata": {},
     "output_type": "execute_result"
    }
   ],
   "source": [
    "results3['MSE'][results3['MSE'].idxmin()]"
   ]
  },
  {
   "cell_type": "code",
   "execution_count": 357,
   "metadata": {},
   "outputs": [
    {
     "data": {
      "text/plain": [
       "49"
      ]
     },
     "execution_count": 357,
     "metadata": {},
     "output_type": "execute_result"
    }
   ],
   "source": [
    "results3['MSE'].idxmin()"
   ]
  },
  {
   "cell_type": "code",
   "execution_count": 358,
   "metadata": {},
   "outputs": [
    {
     "data": {
      "text/plain": [
       "MSE                                          1.55664\n",
       "Parameters    {'max_depth': 1, 'n_estimators': 1000}\n",
       "Name: 49, dtype: object"
      ]
     },
     "execution_count": 358,
     "metadata": {},
     "output_type": "execute_result"
    }
   ],
   "source": [
    "results3.iloc[49]"
   ]
  },
  {
   "cell_type": "markdown",
   "metadata": {},
   "source": [
    "## Результат SGDRegressor: MSE = 1.6014573607966061"
   ]
  },
  {
   "cell_type": "markdown",
   "metadata": {},
   "source": [
    "# Лучший результат по метрике MSE показала модель GradientBoostingRegressor с параметрами {'max_depth': 1, 'n_estimators': 1000}, значение MSE = 1.55664"
   ]
  },
  {
   "cell_type": "markdown",
   "metadata": {},
   "source": [
    "### Классификация (Max 4)\n",
    "- В статье описано использование Random Forest для предсказания важности факторов, влияющих на потребление алкоголя. Повторите эксперимент с использование объекта [RandomForest](http://scikit-learn.org/stable/modules/generated/sklearn.ensemble.RandomForestClassifier.html#sklearn.ensemble.RandomForestClassifier) и найдите наилучшие параметры. Укажите accuracy для наилучших параметров (0.5)\n",
    "- Обучите объект [GradientBoostingClassifier](http://scikit-learn.org/stable/modules/generated/sklearn.ensemble.GradientBoostingClassifier.html#sklearn.ensemble.GradientBoostingClassifier)  и найдите для него наилучшие параметры. Укажите accuracy для наилучших параметров (0.5)\n",
    "- Обучите объект [AdaBoostClassifier](http://scikit-learn.org/stable/modules/generated/sklearn.ensemble.AdaBoostClassifier.html)  и найдите для него наилучшие параметры. Укажите accuracy для наилучших параметров (0.5)\n",
    "- Найдите наилучший классификатор. Укажите accuracy для наилучших параметров (2.5)"
   ]
  },
  {
   "cell_type": "code",
   "execution_count": 11,
   "metadata": {
    "collapsed": true
   },
   "outputs": [],
   "source": [
    "df_new = df"
   ]
  },
  {
   "cell_type": "code",
   "execution_count": 12,
   "metadata": {
    "collapsed": true
   },
   "outputs": [],
   "source": [
    "df_new['Alc'] = (df_new['Walc']*2+df_new['Dalc']*5)/7"
   ]
  },
  {
   "cell_type": "code",
   "execution_count": 13,
   "metadata": {
    "collapsed": true
   },
   "outputs": [],
   "source": [
    "df_new['Alc'] = [int((x>3)) for x in df_new['Alc']]"
   ]
  },
  {
   "cell_type": "code",
   "execution_count": 14,
   "metadata": {
    "collapsed": true
   },
   "outputs": [],
   "source": [
    "df_new.drop(['Walc','Dalc'],axis=1,inplace=True)"
   ]
  },
  {
   "cell_type": "code",
   "execution_count": 15,
   "metadata": {
    "collapsed": true
   },
   "outputs": [],
   "source": [
    "df.loc[ [x for x in map(bool,list(df['Alc']))] ];#студенты с Alc = 1"
   ]
  },
  {
   "cell_type": "code",
   "execution_count": 16,
   "metadata": {
    "scrolled": true
   },
   "outputs": [
    {
     "data": {
      "text/html": [
       "<div>\n",
       "<style>\n",
       "    .dataframe thead tr:only-child th {\n",
       "        text-align: right;\n",
       "    }\n",
       "\n",
       "    .dataframe thead th {\n",
       "        text-align: left;\n",
       "    }\n",
       "\n",
       "    .dataframe tbody tr th {\n",
       "        vertical-align: top;\n",
       "    }\n",
       "</style>\n",
       "<table border=\"1\" class=\"dataframe\">\n",
       "  <thead>\n",
       "    <tr style=\"text-align: right;\">\n",
       "      <th></th>\n",
       "      <th>school</th>\n",
       "      <th>sex</th>\n",
       "      <th>age</th>\n",
       "      <th>address</th>\n",
       "      <th>famsize</th>\n",
       "      <th>Pstatus</th>\n",
       "      <th>Medu</th>\n",
       "      <th>Fedu</th>\n",
       "      <th>traveltime</th>\n",
       "      <th>studytime</th>\n",
       "      <th>...</th>\n",
       "      <th>Fjob_services</th>\n",
       "      <th>Fjob_teacher</th>\n",
       "      <th>reason_course</th>\n",
       "      <th>reason_home</th>\n",
       "      <th>reason_other</th>\n",
       "      <th>reason_reputation</th>\n",
       "      <th>guardian_father</th>\n",
       "      <th>guardian_mother</th>\n",
       "      <th>guardian_other</th>\n",
       "      <th>Alc</th>\n",
       "    </tr>\n",
       "  </thead>\n",
       "  <tbody>\n",
       "    <tr>\n",
       "      <th>0</th>\n",
       "      <td>0</td>\n",
       "      <td>0</td>\n",
       "      <td>18</td>\n",
       "      <td>1</td>\n",
       "      <td>0</td>\n",
       "      <td>0</td>\n",
       "      <td>4</td>\n",
       "      <td>4</td>\n",
       "      <td>2</td>\n",
       "      <td>2</td>\n",
       "      <td>...</td>\n",
       "      <td>0</td>\n",
       "      <td>1</td>\n",
       "      <td>1</td>\n",
       "      <td>0</td>\n",
       "      <td>0</td>\n",
       "      <td>0</td>\n",
       "      <td>0</td>\n",
       "      <td>1</td>\n",
       "      <td>0</td>\n",
       "      <td>0</td>\n",
       "    </tr>\n",
       "    <tr>\n",
       "      <th>1</th>\n",
       "      <td>0</td>\n",
       "      <td>0</td>\n",
       "      <td>17</td>\n",
       "      <td>1</td>\n",
       "      <td>0</td>\n",
       "      <td>1</td>\n",
       "      <td>1</td>\n",
       "      <td>1</td>\n",
       "      <td>1</td>\n",
       "      <td>2</td>\n",
       "      <td>...</td>\n",
       "      <td>0</td>\n",
       "      <td>0</td>\n",
       "      <td>1</td>\n",
       "      <td>0</td>\n",
       "      <td>0</td>\n",
       "      <td>0</td>\n",
       "      <td>1</td>\n",
       "      <td>0</td>\n",
       "      <td>0</td>\n",
       "      <td>0</td>\n",
       "    </tr>\n",
       "    <tr>\n",
       "      <th>2</th>\n",
       "      <td>0</td>\n",
       "      <td>0</td>\n",
       "      <td>15</td>\n",
       "      <td>1</td>\n",
       "      <td>1</td>\n",
       "      <td>1</td>\n",
       "      <td>1</td>\n",
       "      <td>1</td>\n",
       "      <td>1</td>\n",
       "      <td>2</td>\n",
       "      <td>...</td>\n",
       "      <td>0</td>\n",
       "      <td>0</td>\n",
       "      <td>0</td>\n",
       "      <td>0</td>\n",
       "      <td>1</td>\n",
       "      <td>0</td>\n",
       "      <td>0</td>\n",
       "      <td>1</td>\n",
       "      <td>0</td>\n",
       "      <td>0</td>\n",
       "    </tr>\n",
       "    <tr>\n",
       "      <th>3</th>\n",
       "      <td>0</td>\n",
       "      <td>0</td>\n",
       "      <td>15</td>\n",
       "      <td>1</td>\n",
       "      <td>0</td>\n",
       "      <td>1</td>\n",
       "      <td>4</td>\n",
       "      <td>2</td>\n",
       "      <td>1</td>\n",
       "      <td>3</td>\n",
       "      <td>...</td>\n",
       "      <td>1</td>\n",
       "      <td>0</td>\n",
       "      <td>0</td>\n",
       "      <td>1</td>\n",
       "      <td>0</td>\n",
       "      <td>0</td>\n",
       "      <td>0</td>\n",
       "      <td>1</td>\n",
       "      <td>0</td>\n",
       "      <td>0</td>\n",
       "    </tr>\n",
       "    <tr>\n",
       "      <th>4</th>\n",
       "      <td>0</td>\n",
       "      <td>0</td>\n",
       "      <td>16</td>\n",
       "      <td>1</td>\n",
       "      <td>0</td>\n",
       "      <td>1</td>\n",
       "      <td>3</td>\n",
       "      <td>3</td>\n",
       "      <td>1</td>\n",
       "      <td>2</td>\n",
       "      <td>...</td>\n",
       "      <td>0</td>\n",
       "      <td>0</td>\n",
       "      <td>0</td>\n",
       "      <td>1</td>\n",
       "      <td>0</td>\n",
       "      <td>0</td>\n",
       "      <td>1</td>\n",
       "      <td>0</td>\n",
       "      <td>0</td>\n",
       "      <td>0</td>\n",
       "    </tr>\n",
       "  </tbody>\n",
       "</table>\n",
       "<p>5 rows × 45 columns</p>\n",
       "</div>"
      ],
      "text/plain": [
       "   school  sex  age  address  famsize  Pstatus  Medu  Fedu  traveltime  \\\n",
       "0       0    0   18        1        0        0     4     4           2   \n",
       "1       0    0   17        1        0        1     1     1           1   \n",
       "2       0    0   15        1        1        1     1     1           1   \n",
       "3       0    0   15        1        0        1     4     2           1   \n",
       "4       0    0   16        1        0        1     3     3           1   \n",
       "\n",
       "   studytime ...   Fjob_services  Fjob_teacher  reason_course  reason_home  \\\n",
       "0          2 ...               0             1              1            0   \n",
       "1          2 ...               0             0              1            0   \n",
       "2          2 ...               0             0              0            0   \n",
       "3          3 ...               1             0              0            1   \n",
       "4          2 ...               0             0              0            1   \n",
       "\n",
       "   reason_other  reason_reputation  guardian_father  guardian_mother  \\\n",
       "0             0                  0                0                1   \n",
       "1             0                  0                1                0   \n",
       "2             1                  0                0                1   \n",
       "3             0                  0                0                1   \n",
       "4             0                  0                1                0   \n",
       "\n",
       "   guardian_other  Alc  \n",
       "0               0    0  \n",
       "1               0    0  \n",
       "2               0    0  \n",
       "3               0    0  \n",
       "4               0    0  \n",
       "\n",
       "[5 rows x 45 columns]"
      ]
     },
     "execution_count": 16,
     "metadata": {},
     "output_type": "execute_result"
    }
   ],
   "source": [
    "df_new.head()"
   ]
  },
  {
   "cell_type": "code",
   "execution_count": 185,
   "metadata": {},
   "outputs": [
    {
     "data": {
      "text/plain": [
       "'guardian_other'"
      ]
     },
     "execution_count": 185,
     "metadata": {},
     "output_type": "execute_result"
    }
   ],
   "source": [
    "columns[43]"
   ]
  },
  {
   "cell_type": "code",
   "execution_count": 36,
   "metadata": {},
   "outputs": [
    {
     "name": "stdout",
     "output_type": "stream",
     "text": [
      "[ -1.54320988e-03  -1.54320988e-03  -1.54320988e-03   0.00000000e+00\n",
      "  -1.54320988e-03  -3.08641975e-03  -1.54320988e-03  -1.54320988e-03\n",
      "   0.00000000e+00  -1.54320988e-03  -1.54320988e-03   0.00000000e+00\n",
      "  -1.54320988e-03  -1.54320988e-03   1.54320988e-03  -1.54320988e-03\n",
      "  -1.54320988e-03  -1.54320988e-03  -3.08641975e-03  -3.08641975e-03\n",
      "  -1.54320988e-03   0.00000000e+00  -4.62962963e-03  -3.08641975e-03\n",
      "  -3.08641975e-03  -3.08641975e-03  -3.08641975e-03  -4.62962963e-03\n",
      "  -3.08641975e-03  -1.54320988e-03  -1.54320988e-03  -3.08641975e-03\n",
      "  -3.08641975e-03  -3.08641975e-03  -3.08641975e-03  -4.62962963e-03\n",
      "   0.00000000e+00   1.11022302e-16  -3.08641975e-03  -4.62962963e-03\n",
      "   1.11022302e-16   1.11022302e-16   1.11022302e-16   1.11022302e-16]\n",
      "removing  nursery\n",
      "[-0.00154321 -0.00154321 -0.00617284 -0.00308642 -0.00925926 -0.01234568\n",
      " -0.00771605 -0.00462963 -0.00617284 -0.00308642 -0.00462963 -0.00308642\n",
      " -0.00617284 -0.00617284 -0.00771605 -0.01080247 -0.00617284 -0.00154321\n",
      " -0.00154321 -0.00925926 -0.0154321  -0.00308642 -0.00617284 -0.00462963\n",
      " -0.00462963 -0.00771605 -0.00617284 -0.00154321 -0.00462963 -0.00617284\n",
      " -0.00462963 -0.00617284 -0.00154321 -0.00771605 -0.01080247 -0.01234568\n",
      " -0.00462963 -0.00617284 -0.0154321  -0.00617284 -0.00925926 -0.00617284\n",
      " -0.00308642]\n"
     ]
    }
   ],
   "source": [
    "#backwards elimination\n",
    "X = df_new.drop('Alc',axis=1)\n",
    "y = df_new['Alc']\n",
    "columns = X.columns.values\n",
    "condition = True\n",
    "while condition:\n",
    "    rfc_outer = RandomForestClassifier(n_estimators=25,max_depth=5,n_jobs=-1,random_state=13)\n",
    "    cur_score = cross_validate(rfc_outer,X[columns],y,n_jobs=-1,cv=3)['test_score'].mean()\n",
    "    reduced_feat_scores = np.empty(0)\n",
    "    for i in range(0,columns.shape[0]):\n",
    "        reduced_feat_scores = np.append(reduced_feat_scores,cross_validate(rfc_outer,X[np.delete(columns,i)],y,n_jobs=-1,cv=3)['test_score'].mean())\n",
    "        \n",
    "    dscores = reduced_feat_scores - cur_score\n",
    "    print(dscores)\n",
    "    if(np.any(dscores>0)):\n",
    "        columns = np.delete(columns,dscores.argmax())\n",
    "        print(\"removing \",columns[dscores.argmax()])\n",
    "    condition = np.any(dscores>0) and columns.shape[0]>6\n",
    "    "
   ]
  },
  {
   "cell_type": "code",
   "execution_count": 18,
   "metadata": {},
   "outputs": [
    {
     "data": {
      "text/plain": [
       "43"
      ]
     },
     "execution_count": 18,
     "metadata": {},
     "output_type": "execute_result"
    }
   ],
   "source": [
    "columns.shape[0]"
   ]
  },
  {
   "cell_type": "code",
   "execution_count": 165,
   "metadata": {
    "collapsed": true
   },
   "outputs": [],
   "source": [
    "t = ['school', 'sex', 'age', 'address', 'famsize', 'Pstatus', 'Medu', 'Fedu', 'traveltime', 'studytime', 'failures', 'schoolsup', 'famsup', 'paid', 'activities', 'nursery', 'higher', 'internet', 'romantic', 'famrel', 'freetime', 'goout', 'health', 'absences', 'G1', 'G2', 'G3', 'Mjob_at_home', 'Mjob_health', 'Mjob_other', 'Mjob_services', 'Mjob_teacher', 'Fjob_at_home', 'Fjob_health', 'Fjob_other', 'Fjob_services', 'Fjob_teacher', 'reason_course', 'reason_home', 'reason_other', 'reason_reputation', 'guardian_father', 'guardian_mother', 'guardian_other']"
   ]
  },
  {
   "cell_type": "code",
   "execution_count": 166,
   "metadata": {},
   "outputs": [
    {
     "data": {
      "text/plain": [
       "44"
      ]
     },
     "execution_count": 166,
     "metadata": {},
     "output_type": "execute_result"
    }
   ],
   "source": [
    "len(t)"
   ]
  },
  {
   "cell_type": "code",
   "execution_count": 124,
   "metadata": {},
   "outputs": [
    {
     "data": {
      "text/html": [
       "<div>\n",
       "<style>\n",
       "    .dataframe thead tr:only-child th {\n",
       "        text-align: right;\n",
       "    }\n",
       "\n",
       "    .dataframe thead th {\n",
       "        text-align: left;\n",
       "    }\n",
       "\n",
       "    .dataframe tbody tr th {\n",
       "        vertical-align: top;\n",
       "    }\n",
       "</style>\n",
       "<table border=\"1\" class=\"dataframe\">\n",
       "  <thead>\n",
       "    <tr style=\"text-align: right;\">\n",
       "      <th></th>\n",
       "      <th>school</th>\n",
       "      <th>sex</th>\n",
       "      <th>age</th>\n",
       "      <th>address</th>\n",
       "      <th>famsize</th>\n",
       "      <th>Pstatus</th>\n",
       "      <th>Medu</th>\n",
       "      <th>Fedu</th>\n",
       "      <th>traveltime</th>\n",
       "      <th>studytime</th>\n",
       "      <th>...</th>\n",
       "      <th>Fjob_services</th>\n",
       "      <th>Fjob_teacher</th>\n",
       "      <th>reason_course</th>\n",
       "      <th>reason_home</th>\n",
       "      <th>reason_other</th>\n",
       "      <th>reason_reputation</th>\n",
       "      <th>guardian_father</th>\n",
       "      <th>guardian_mother</th>\n",
       "      <th>guardian_other</th>\n",
       "      <th>Alc</th>\n",
       "    </tr>\n",
       "  </thead>\n",
       "  <tbody>\n",
       "    <tr>\n",
       "      <th>0</th>\n",
       "      <td>0</td>\n",
       "      <td>0</td>\n",
       "      <td>18</td>\n",
       "      <td>1</td>\n",
       "      <td>0</td>\n",
       "      <td>0</td>\n",
       "      <td>4</td>\n",
       "      <td>4</td>\n",
       "      <td>2</td>\n",
       "      <td>2</td>\n",
       "      <td>...</td>\n",
       "      <td>0</td>\n",
       "      <td>1</td>\n",
       "      <td>1</td>\n",
       "      <td>0</td>\n",
       "      <td>0</td>\n",
       "      <td>0</td>\n",
       "      <td>0</td>\n",
       "      <td>1</td>\n",
       "      <td>0</td>\n",
       "      <td>0</td>\n",
       "    </tr>\n",
       "    <tr>\n",
       "      <th>1</th>\n",
       "      <td>0</td>\n",
       "      <td>0</td>\n",
       "      <td>17</td>\n",
       "      <td>1</td>\n",
       "      <td>0</td>\n",
       "      <td>1</td>\n",
       "      <td>1</td>\n",
       "      <td>1</td>\n",
       "      <td>1</td>\n",
       "      <td>2</td>\n",
       "      <td>...</td>\n",
       "      <td>0</td>\n",
       "      <td>0</td>\n",
       "      <td>1</td>\n",
       "      <td>0</td>\n",
       "      <td>0</td>\n",
       "      <td>0</td>\n",
       "      <td>1</td>\n",
       "      <td>0</td>\n",
       "      <td>0</td>\n",
       "      <td>0</td>\n",
       "    </tr>\n",
       "    <tr>\n",
       "      <th>2</th>\n",
       "      <td>0</td>\n",
       "      <td>0</td>\n",
       "      <td>15</td>\n",
       "      <td>1</td>\n",
       "      <td>1</td>\n",
       "      <td>1</td>\n",
       "      <td>1</td>\n",
       "      <td>1</td>\n",
       "      <td>1</td>\n",
       "      <td>2</td>\n",
       "      <td>...</td>\n",
       "      <td>0</td>\n",
       "      <td>0</td>\n",
       "      <td>0</td>\n",
       "      <td>0</td>\n",
       "      <td>1</td>\n",
       "      <td>0</td>\n",
       "      <td>0</td>\n",
       "      <td>1</td>\n",
       "      <td>0</td>\n",
       "      <td>0</td>\n",
       "    </tr>\n",
       "    <tr>\n",
       "      <th>3</th>\n",
       "      <td>0</td>\n",
       "      <td>0</td>\n",
       "      <td>15</td>\n",
       "      <td>1</td>\n",
       "      <td>0</td>\n",
       "      <td>1</td>\n",
       "      <td>4</td>\n",
       "      <td>2</td>\n",
       "      <td>1</td>\n",
       "      <td>3</td>\n",
       "      <td>...</td>\n",
       "      <td>1</td>\n",
       "      <td>0</td>\n",
       "      <td>0</td>\n",
       "      <td>1</td>\n",
       "      <td>0</td>\n",
       "      <td>0</td>\n",
       "      <td>0</td>\n",
       "      <td>1</td>\n",
       "      <td>0</td>\n",
       "      <td>0</td>\n",
       "    </tr>\n",
       "    <tr>\n",
       "      <th>4</th>\n",
       "      <td>0</td>\n",
       "      <td>0</td>\n",
       "      <td>16</td>\n",
       "      <td>1</td>\n",
       "      <td>0</td>\n",
       "      <td>1</td>\n",
       "      <td>3</td>\n",
       "      <td>3</td>\n",
       "      <td>1</td>\n",
       "      <td>2</td>\n",
       "      <td>...</td>\n",
       "      <td>0</td>\n",
       "      <td>0</td>\n",
       "      <td>0</td>\n",
       "      <td>1</td>\n",
       "      <td>0</td>\n",
       "      <td>0</td>\n",
       "      <td>1</td>\n",
       "      <td>0</td>\n",
       "      <td>0</td>\n",
       "      <td>0</td>\n",
       "    </tr>\n",
       "  </tbody>\n",
       "</table>\n",
       "<p>5 rows × 45 columns</p>\n",
       "</div>"
      ],
      "text/plain": [
       "   school  sex  age  address  famsize  Pstatus  Medu  Fedu  traveltime  \\\n",
       "0       0    0   18        1        0        0     4     4           2   \n",
       "1       0    0   17        1        0        1     1     1           1   \n",
       "2       0    0   15        1        1        1     1     1           1   \n",
       "3       0    0   15        1        0        1     4     2           1   \n",
       "4       0    0   16        1        0        1     3     3           1   \n",
       "\n",
       "   studytime ...   Fjob_services  Fjob_teacher  reason_course  reason_home  \\\n",
       "0          2 ...               0             1              1            0   \n",
       "1          2 ...               0             0              1            0   \n",
       "2          2 ...               0             0              0            0   \n",
       "3          3 ...               1             0              0            1   \n",
       "4          2 ...               0             0              0            1   \n",
       "\n",
       "   reason_other  reason_reputation  guardian_father  guardian_mother  \\\n",
       "0             0                  0                0                1   \n",
       "1             0                  0                1                0   \n",
       "2             1                  0                0                1   \n",
       "3             0                  0                0                1   \n",
       "4             0                  0                1                0   \n",
       "\n",
       "   guardian_other  Alc  \n",
       "0               0    0  \n",
       "1               0    0  \n",
       "2               0    0  \n",
       "3               0    0  \n",
       "4               0    0  \n",
       "\n",
       "[5 rows x 45 columns]"
      ]
     },
     "execution_count": 124,
     "metadata": {},
     "output_type": "execute_result"
    }
   ],
   "source": [
    "df_new.head()"
   ]
  },
  {
   "cell_type": "code",
   "execution_count": 40,
   "metadata": {},
   "outputs": [
    {
     "data": {
      "text/plain": [
       "RandomForestClassifier(bootstrap=True, class_weight=None, criterion='gini',\n",
       "            max_depth=5, max_features='auto', max_leaf_nodes=None,\n",
       "            min_impurity_decrease=0.0, min_impurity_split=None,\n",
       "            min_samples_leaf=1, min_samples_split=2,\n",
       "            min_weight_fraction_leaf=0.0, n_estimators=25, n_jobs=-1,\n",
       "            oob_score=False, random_state=13, verbose=0, warm_start=False)"
      ]
     },
     "execution_count": 40,
     "metadata": {},
     "output_type": "execute_result"
    }
   ],
   "source": [
    "rfc_outer = RandomForestClassifier(n_estimators=25,max_depth=5,n_jobs=-1,random_state=13)\n",
    "rfc_outer.fit(X,y)"
   ]
  },
  {
   "cell_type": "code",
   "execution_count": 111,
   "metadata": {
    "collapsed": true
   },
   "outputs": [],
   "source": [
    "a = np.empty(0)"
   ]
  },
  {
   "cell_type": "code",
   "execution_count": 117,
   "metadata": {
    "collapsed": true
   },
   "outputs": [],
   "source": [
    "a = np.append(a,[-1,1,-1])"
   ]
  },
  {
   "cell_type": "code",
   "execution_count": 80,
   "metadata": {},
   "outputs": [
    {
     "data": {
      "text/plain": [
       "2"
      ]
     },
     "execution_count": 80,
     "metadata": {},
     "output_type": "execute_result"
    }
   ],
   "source": [
    "a.argmax()"
   ]
  },
  {
   "cell_type": "code",
   "execution_count": 84,
   "metadata": {},
   "outputs": [
    {
     "data": {
      "text/plain": [
       "<generator object <genexpr> at 0x000002A1CF127BA0>"
      ]
     },
     "execution_count": 84,
     "metadata": {},
     "output_type": "execute_result"
    }
   ],
   "source": [
    "np.any()"
   ]
  },
  {
   "cell_type": "code",
   "execution_count": 96,
   "metadata": {},
   "outputs": [
    {
     "data": {
      "text/plain": [
       "False"
      ]
     },
     "execution_count": 96,
     "metadata": {},
     "output_type": "execute_result"
    }
   ],
   "source": [
    "True in a>0"
   ]
  },
  {
   "cell_type": "code",
   "execution_count": 94,
   "metadata": {},
   "outputs": [
    {
     "data": {
      "text/plain": [
       "array([False, False, False], dtype=bool)"
      ]
     },
     "execution_count": 94,
     "metadata": {},
     "output_type": "execute_result"
    }
   ],
   "source": [
    "a>0"
   ]
  },
  {
   "cell_type": "code",
   "execution_count": 120,
   "metadata": {},
   "outputs": [
    {
     "data": {
      "text/plain": [
       "False"
      ]
     },
     "execution_count": 120,
     "metadata": {},
     "output_type": "execute_result"
    }
   ],
   "source": [
    "np.any(a>0) and a.shape[0]>7"
   ]
  },
  {
   "cell_type": "code",
   "execution_count": 118,
   "metadata": {},
   "outputs": [
    {
     "data": {
      "text/plain": [
       "6"
      ]
     },
     "execution_count": 118,
     "metadata": {},
     "output_type": "execute_result"
    }
   ],
   "source": [
    "a.shape[0]"
   ]
  },
  {
   "cell_type": "code",
   "execution_count": null,
   "metadata": {
    "collapsed": true
   },
   "outputs": [],
   "source": []
  }
 ],
 "metadata": {
  "kernelspec": {
   "display_name": "Python 3",
   "language": "python",
   "name": "python3"
  },
  "language_info": {
   "codemirror_mode": {
    "name": "ipython",
    "version": 3
   },
   "file_extension": ".py",
   "mimetype": "text/x-python",
   "name": "python",
   "nbconvert_exporter": "python",
   "pygments_lexer": "ipython3",
   "version": "3.6.2"
  }
 },
 "nbformat": 4,
 "nbformat_minor": 1
}
