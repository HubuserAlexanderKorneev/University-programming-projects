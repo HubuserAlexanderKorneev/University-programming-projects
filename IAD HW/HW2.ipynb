{
 "cells": [
  {
   "cell_type": "code",
   "execution_count": 2,
   "metadata": {
    "collapsed": false
   },
   "outputs": [
    {
     "name": "stdout",
     "output_type": "stream",
     "text": [
      "Ваш вариант -  2\n"
     ]
    }
   ],
   "source": [
    "name = \"КорнеевАлександр\" # Ваши ФамилияИмя\n",
    "\n",
    "alp = 'абвгдеёжзийклмнопрстуфхцчшщъыьэюя'\n",
    "w = [4, 42, 21, 21, 34,  1, 44, 26, 18, 43, 38, 26, 18, 43,  3, 49, 45,\n",
    "        7, 42, 25,  4,  9, 36, 33, 31, 29,  5, 31,  4, 19, 24, 27, 33]\n",
    "d = dict(zip(alp, w))\n",
    "variant =  sum([d[el] for el in name.lower()]) % 2 + 1\n",
    "print(\"Ваш вариант - \", variant)"
   ]
  },
  {
   "cell_type": "markdown",
   "metadata": {},
   "source": [
    " # Задача 1"
   ]
  },
  {
   "cell_type": "code",
   "execution_count": 3,
   "metadata": {
    "collapsed": false
   },
   "outputs": [],
   "source": [
    "from sklearn.feature_extraction.text import TfidfVectorizer\n",
    "from sklearn.model_selection import train_test_split\n",
    "import numpy as np"
   ]
  },
  {
   "cell_type": "code",
   "execution_count": 4,
   "metadata": {
    "collapsed": true
   },
   "outputs": [],
   "source": [
    "import os\n",
    "import re\n",
    "\n",
    "def convert_text(s):\n",
    "    # Removes all characters from string except letters and digits and convert letters to lowercase\n",
    "    return re.sub(\"[^a-zA-Z0-9]\", \" \", s.lower())\n",
    "\n",
    "def read_texts(dir_path=\"./Downloads/9sem_data/beatles/\"):\n",
    "    # Reads all files from directory\n",
    "    if dir_path[-1] != \"/\":\n",
    "        dir_path = dir_path + \"/\"\n",
    "    txt_list = []\n",
    "    for file in os.listdir(dir_path):\n",
    "        file = dir_path + file\n",
    "        fin = open(file, 'r')\n",
    "        txt = ' '.join(fin.readlines())\n",
    "        txt = convert_text(txt)\n",
    "        txt_list.append(txt)\n",
    "    return txt_list"
   ]
  },
  {
   "cell_type": "code",
   "execution_count": 5,
   "metadata": {
    "collapsed": true
   },
   "outputs": [],
   "source": [
    "neg = read_texts(\"/home/alex/IAD Sem/txt_sentoken/neg\")\n",
    "pos = read_texts(\"/home/alex/IAD Sem/txt_sentoken/pos\")"
   ]
  },
  {
   "cell_type": "markdown",
   "metadata": {},
   "source": [
    "**Texts - лист с текстами рецензий **"
   ]
  },
  {
   "cell_type": "code",
   "execution_count": 6,
   "metadata": {
    "collapsed": false
   },
   "outputs": [],
   "source": [
    "Texts = neg + pos"
   ]
  },
  {
   "cell_type": "code",
   "execution_count": 7,
   "metadata": {
    "collapsed": false
   },
   "outputs": [
    {
     "data": {
      "text/plain": [
       "2000"
      ]
     },
     "execution_count": 7,
     "metadata": {},
     "output_type": "execute_result"
    }
   ],
   "source": [
    "len(Texts)"
   ]
  },
  {
   "cell_type": "markdown",
   "metadata": {},
   "source": [
    "**Ans - ответы. -1 - негативная рецензия. 1 - положительная рецензия **"
   ]
  },
  {
   "cell_type": "code",
   "execution_count": 8,
   "metadata": {
    "collapsed": true
   },
   "outputs": [],
   "source": [
    "Ans = list()\n",
    "for i in range(0,1000):\n",
    "    Ans.append(-1)\n",
    "for i in range(0,1000):\n",
    "    Ans.append(1)"
   ]
  },
  {
   "cell_type": "code",
   "execution_count": null,
   "metadata": {
    "collapsed": false
   },
   "outputs": [],
   "source": []
  },
  {
   "cell_type": "code",
   "execution_count": 9,
   "metadata": {
    "collapsed": false
   },
   "outputs": [],
   "source": [
    "X_train, X_test, y_train, y_test = train_test_split(Texts,Ans,test_size=0.3,random_state = 12345)"
   ]
  },
  {
   "cell_type": "code",
   "execution_count": 10,
   "metadata": {
    "collapsed": false
   },
   "outputs": [],
   "source": [
    "from sklearn.neighbors import KNeighborsClassifier\n",
    "from sklearn.linear_model import LogisticRegression\n",
    "from sklearn.naive_bayes import MultinomialNB"
   ]
  },
  {
   "cell_type": "code",
   "execution_count": 11,
   "metadata": {
    "collapsed": true
   },
   "outputs": [],
   "source": [
    "vectorizer = TfidfVectorizer(lowercase=True,ngram_range=(1,1))"
   ]
  },
  {
   "cell_type": "code",
   "execution_count": 12,
   "metadata": {
    "collapsed": true
   },
   "outputs": [],
   "source": [
    "X_train_tfidf = vectorizer.fit_transform(X_train)"
   ]
  },
  {
   "cell_type": "code",
   "execution_count": 13,
   "metadata": {
    "collapsed": false
   },
   "outputs": [],
   "source": [
    "X_test_tfidf = vectorizer.transform(X_test)"
   ]
  },
  {
   "cell_type": "code",
   "execution_count": 14,
   "metadata": {
    "collapsed": false
   },
   "outputs": [],
   "source": [
    "FiveNN = KNeighborsClassifier(n_neighbors=5)\n",
    "LogReg = LogisticRegression(penalty=\"l2\", fit_intercept=True, max_iter=100, C=1, solver=\"lbfgs\", random_state=12345)\n",
    "MNB = MultinomialNB(alpha=1.0)"
   ]
  },
  {
   "cell_type": "code",
   "execution_count": 15,
   "metadata": {
    "collapsed": false
   },
   "outputs": [
    {
     "data": {
      "text/plain": [
       "MultinomialNB(alpha=1.0, class_prior=None, fit_prior=True)"
      ]
     },
     "execution_count": 15,
     "metadata": {},
     "output_type": "execute_result"
    }
   ],
   "source": [
    "FiveNN.fit(X_train_tfidf,y_train)\n",
    "LogReg.fit(X_train_tfidf,y_train)\n",
    "MNB.fit(X_train_tfidf,y_train)"
   ]
  },
  {
   "cell_type": "code",
   "execution_count": 16,
   "metadata": {
    "collapsed": true
   },
   "outputs": [],
   "source": [
    "fnn_pred = FiveNN.predict(X_test_tfidf)\n",
    "logreg_pred = LogReg.predict(X_test_tfidf)\n",
    "mnb_pred = MNB.predict(X_test_tfidf)"
   ]
  },
  {
   "cell_type": "code",
   "execution_count": 17,
   "metadata": {
    "collapsed": true
   },
   "outputs": [],
   "source": [
    "from sklearn.metrics import accuracy_score"
   ]
  },
  {
   "cell_type": "markdown",
   "metadata": {},
   "source": [
    "**Доля правильных ответов 5-NN**"
   ]
  },
  {
   "cell_type": "code",
   "execution_count": 18,
   "metadata": {
    "collapsed": false
   },
   "outputs": [
    {
     "data": {
      "text/plain": [
       "0.56499999999999995"
      ]
     },
     "execution_count": 18,
     "metadata": {},
     "output_type": "execute_result"
    }
   ],
   "source": [
    "accuracy_score(fnn_pred,y_test)"
   ]
  },
  {
   "cell_type": "markdown",
   "metadata": {},
   "source": [
    "Довольно плохое качетсво на тестовой выборке, модель дает правильный ответ немногим более чем в половине случаев"
   ]
  },
  {
   "cell_type": "markdown",
   "metadata": {},
   "source": [
    "**Доля правильных ответов логистической регрессии**"
   ]
  },
  {
   "cell_type": "code",
   "execution_count": 19,
   "metadata": {
    "collapsed": false
   },
   "outputs": [
    {
     "data": {
      "text/plain": [
       "0.80333333333333334"
      ]
     },
     "execution_count": 19,
     "metadata": {},
     "output_type": "execute_result"
    }
   ],
   "source": [
    "accuracy_score(logreg_pred,y_test)"
   ]
  },
  {
   "cell_type": "markdown",
   "metadata": {},
   "source": [
    "На тестовой выборке модель линейной регрессии показала себя довольно неплохо, правильный результат в 80% случаев"
   ]
  },
  {
   "cell_type": "markdown",
   "metadata": {},
   "source": [
    "**Доля правльных ответов мультиномиального наивного байесовского классификатора**"
   ]
  },
  {
   "cell_type": "code",
   "execution_count": 20,
   "metadata": {
    "collapsed": false
   },
   "outputs": [
    {
     "data": {
      "text/plain": [
       "0.82166666666666666"
      ]
     },
     "execution_count": 20,
     "metadata": {},
     "output_type": "execute_result"
    }
   ],
   "source": [
    "accuracy_score(mnb_pred,y_test)"
   ]
  },
  {
   "cell_type": "markdown",
   "metadata": {},
   "source": [
    "Также неплохое качество на тестовой выборке, ~82% правильных ответов"
   ]
  },
  {
   "cell_type": "markdown",
   "metadata": {},
   "source": [
    "**Замеры времени**"
   ]
  },
  {
   "cell_type": "markdown",
   "metadata": {},
   "source": [
    "Время обучения."
   ]
  },
  {
   "cell_type": "markdown",
   "metadata": {},
   "source": [
    "Для KNN:"
   ]
  },
  {
   "cell_type": "code",
   "execution_count": 21,
   "metadata": {
    "collapsed": false,
    "scrolled": true
   },
   "outputs": [
    {
     "name": "stdout",
     "output_type": "stream",
     "text": [
      "100 loops, best of 3: 1.87 ms per loop\n"
     ]
    }
   ],
   "source": [
    "%timeit FiveNN.fit(X_train_tfidf,y_train)"
   ]
  },
  {
   "cell_type": "markdown",
   "metadata": {},
   "source": [
    "Для Логистической регрессии:"
   ]
  },
  {
   "cell_type": "code",
   "execution_count": 22,
   "metadata": {
    "collapsed": false,
    "scrolled": true
   },
   "outputs": [
    {
     "name": "stdout",
     "output_type": "stream",
     "text": [
      "10 loops, best of 3: 106 ms per loop\n"
     ]
    }
   ],
   "source": [
    "%timeit LogReg.fit(X_train_tfidf,y_train)"
   ]
  },
  {
   "cell_type": "markdown",
   "metadata": {},
   "source": [
    "Для Байесовского классификатора:"
   ]
  },
  {
   "cell_type": "code",
   "execution_count": 23,
   "metadata": {
    "collapsed": false
   },
   "outputs": [
    {
     "name": "stdout",
     "output_type": "stream",
     "text": [
      "100 loops, best of 3: 6.37 ms per loop\n"
     ]
    }
   ],
   "source": [
    "%timeit MNB.fit(X_train_tfidf,y_train)"
   ]
  },
  {
   "cell_type": "markdown",
   "metadata": {},
   "source": [
    "Очевидно, KNN \"обучается\" быстрее всех, что связано с тем, что его обучение заключается просто в запоминании выборки.\n",
    "Дольше всех обучается логистическая регрессия, ей необходимо настроить большое количество весов градиентным спуском."
   ]
  },
  {
   "cell_type": "markdown",
   "metadata": {},
   "source": [
    "Время предсказания."
   ]
  },
  {
   "cell_type": "markdown",
   "metadata": {},
   "source": [
    "Для KNN:"
   ]
  },
  {
   "cell_type": "code",
   "execution_count": 24,
   "metadata": {
    "collapsed": false
   },
   "outputs": [
    {
     "name": "stdout",
     "output_type": "stream",
     "text": [
      "1 loop, best of 3: 226 ms per loop\n"
     ]
    }
   ],
   "source": [
    "%timeit FiveNN.predict(X_test_tfidf)"
   ]
  },
  {
   "cell_type": "markdown",
   "metadata": {},
   "source": [
    "Для Логистической регрессии:"
   ]
  },
  {
   "cell_type": "code",
   "execution_count": 25,
   "metadata": {
    "collapsed": false
   },
   "outputs": [
    {
     "name": "stdout",
     "output_type": "stream",
     "text": [
      "1000 loops, best of 3: 533 µs per loop\n"
     ]
    }
   ],
   "source": [
    "%timeit LogReg.predict(X_test_tfidf)"
   ]
  },
  {
   "cell_type": "markdown",
   "metadata": {},
   "source": [
    "Для Байесовского классификатора:"
   ]
  },
  {
   "cell_type": "code",
   "execution_count": 26,
   "metadata": {
    "collapsed": false
   },
   "outputs": [
    {
     "name": "stdout",
     "output_type": "stream",
     "text": [
      "1000 loops, best of 3: 1.4 ms per loop\n"
     ]
    }
   ],
   "source": [
    "%timeit MNB.predict(X_test_tfidf)"
   ]
  },
  {
   "cell_type": "markdown",
   "metadata": {},
   "source": [
    "KNN делает предсказание дольше всех, для каждого предсказания ему нужно \n",
    "вычислить расстояние до всех имеющихся в обучающей выборке, и отсортировав выбрать K ближайших, это ресурсоемуие операции. В логистической регрессии требуется умножить признаки нового объекта на уже подобранные на этапе обучения веса, и сложить получившееся, это требует куда меньше операций."
   ]
  },
  {
   "cell_type": "code",
   "execution_count": null,
   "metadata": {
    "collapsed": true
   },
   "outputs": [],
   "source": []
  },
  {
   "cell_type": "markdown",
   "metadata": {},
   "source": [
    " # Задача 2"
   ]
  },
  {
   "cell_type": "code",
   "execution_count": 27,
   "metadata": {
    "collapsed": true
   },
   "outputs": [],
   "source": [
    "from sklearn.model_selection import KFold"
   ]
  },
  {
   "cell_type": "code",
   "execution_count": 28,
   "metadata": {
    "collapsed": true
   },
   "outputs": [],
   "source": [
    "kf = KFold(n_splits=4,random_state=12345,shuffle=True)"
   ]
  },
  {
   "cell_type": "code",
   "execution_count": 29,
   "metadata": {
    "collapsed": false
   },
   "outputs": [],
   "source": [
    "kf_fnn_pred = np.zeros(2000)\n",
    "kf_logreg_pred = np.zeros(2000)\n",
    "kf_mnb_pred = np.zeros(2000)"
   ]
  },
  {
   "cell_type": "code",
   "execution_count": 30,
   "metadata": {
    "collapsed": false
   },
   "outputs": [
    {
     "data": {
      "text/plain": [
       "4"
      ]
     },
     "execution_count": 30,
     "metadata": {},
     "output_type": "execute_result"
    }
   ],
   "source": [
    "kf.get_n_splits(Texts)"
   ]
  },
  {
   "cell_type": "code",
   "execution_count": 31,
   "metadata": {
    "collapsed": true
   },
   "outputs": [],
   "source": [
    "nTexts = np.array(Texts)\n",
    "nAns = np.array(Ans)"
   ]
  },
  {
   "cell_type": "code",
   "execution_count": 32,
   "metadata": {
    "collapsed": false
   },
   "outputs": [],
   "source": [
    "for train, test in kf.split(nTexts):\n",
    "    train_tfidf = vectorizer.fit_transform(nTexts[train])\n",
    "    test_tfidf = vectorizer.transform(nTexts[test])\n",
    "    \n",
    "    FiveNN.fit(train_tfidf,nAns[train])\n",
    "    LogReg.fit(train_tfidf,nAns[train])\n",
    "    MNB.fit(train_tfidf,nAns[train])\n",
    "    \n",
    "    kf_fnn_pred[test] = FiveNN.predict(test_tfidf) \n",
    "    kf_logreg_pred[test] = LogReg.predict(test_tfidf)\n",
    "    kf_mnb_pred[test] = MNB.predict(test_tfidf)"
   ]
  },
  {
   "cell_type": "code",
   "execution_count": 33,
   "metadata": {
    "collapsed": false
   },
   "outputs": [
    {
     "data": {
      "text/plain": [
       "0.57950000000000002"
      ]
     },
     "execution_count": 33,
     "metadata": {},
     "output_type": "execute_result"
    }
   ],
   "source": [
    "accuracy_score(kf_fnn_pred,nAns)"
   ]
  },
  {
   "cell_type": "code",
   "execution_count": 34,
   "metadata": {
    "collapsed": false
   },
   "outputs": [
    {
     "data": {
      "text/plain": [
       "0.82499999999999996"
      ]
     },
     "execution_count": 34,
     "metadata": {},
     "output_type": "execute_result"
    }
   ],
   "source": [
    "accuracy_score(kf_logreg_pred,nAns)"
   ]
  },
  {
   "cell_type": "code",
   "execution_count": 35,
   "metadata": {
    "collapsed": false
   },
   "outputs": [
    {
     "data": {
      "text/plain": [
       "0.79100000000000004"
      ]
     },
     "execution_count": 35,
     "metadata": {},
     "output_type": "execute_result"
    }
   ],
   "source": [
    "accuracy_score(kf_mnb_pred,nAns)"
   ]
  },
  {
   "cell_type": "markdown",
   "metadata": {},
   "source": [
    "Как и в случае с отложенной выборкой KNN показал худшее качество, однако, на валидации Логистическая регрессия оказалась лучше Байесовского класификатора, но всего на ~3%. "
   ]
  },
  {
   "cell_type": "code",
   "execution_count": null,
   "metadata": {
    "collapsed": true
   },
   "outputs": [],
   "source": []
  },
  {
   "cell_type": "code",
   "execution_count": null,
   "metadata": {
    "collapsed": true
   },
   "outputs": [],
   "source": []
  },
  {
   "cell_type": "code",
   "execution_count": null,
   "metadata": {
    "collapsed": true
   },
   "outputs": [],
   "source": []
  },
  {
   "cell_type": "markdown",
   "metadata": {},
   "source": [
    "# Задача 3"
   ]
  },
  {
   "cell_type": "code",
   "execution_count": 36,
   "metadata": {
    "collapsed": true
   },
   "outputs": [],
   "source": [
    "ns = np.arange(1, 150, 20)\n",
    "cs = np.logspace(-2, 10, 8, base=10)\n",
    "alphas = np.logspace(-4, 1, 8, base=10)"
   ]
  },
  {
   "cell_type": "code",
   "execution_count": 37,
   "metadata": {
    "collapsed": true
   },
   "outputs": [],
   "source": [
    "kf_fnn_pred = np.zeros(2000)\n",
    "kf_logreg_pred = np.zeros(2000)\n",
    "kf_mnb_pred = np.zeros(2000)"
   ]
  },
  {
   "cell_type": "code",
   "execution_count": 38,
   "metadata": {
    "collapsed": false
   },
   "outputs": [],
   "source": [
    "knn_train_score = np.zeros(8)\n",
    "knn_cross_val_score = np.zeros(8)\n",
    "\n",
    "logreg_train_score = np.zeros(8)\n",
    "logreg_cross_val_score = np.zeros(8)\n",
    "\n",
    "mnb_train_score = np.zeros(8)\n",
    "mnb_cross_val_score = np.zeros(8)"
   ]
  },
  {
   "cell_type": "code",
   "execution_count": 39,
   "metadata": {
    "collapsed": false
   },
   "outputs": [],
   "source": [
    "for i in range(0,8):\n",
    "    \n",
    "    knn = KNeighborsClassifier(n_neighbors=ns[i])\n",
    "    logreg  = LogisticRegression(penalty=\"l2\", fit_intercept=True, max_iter=100, C=cs[i], solver=\"lbfgs\", random_state=12345)\n",
    "    mnb = MultinomialNB(alpha=alphas[i])\n",
    "    \n",
    "    temp_knn_train = list()\n",
    "    temp_knn_cross = list()\n",
    "    \n",
    "    temp_log_train = list()\n",
    "    temp_log_cross = list()\n",
    "    \n",
    "    temp_mnb_train = list()\n",
    "    temp_mnb_cross = list()\n",
    "    \n",
    "    \n",
    "    for train, test in kf.split(nTexts):\n",
    "        train_tfidf = vectorizer.fit_transform(nTexts[train])\n",
    "        test_tfidf = vectorizer.transform(nTexts[test])\n",
    "\n",
    "        knn.fit(train_tfidf,nAns[train]) \n",
    "        logreg.fit(train_tfidf,nAns[train])\n",
    "        mnb.fit(train_tfidf,nAns[train])\n",
    "        \n",
    "        temp_knn_train.append(accuracy_score(knn.predict(train_tfidf),nAns[train]))\n",
    "        temp_knn_cross.append(accuracy_score(knn.predict(test_tfidf),nAns[test]))\n",
    "        \n",
    "        temp_log_train.append(accuracy_score(logreg.predict(train_tfidf),nAns[train]))\n",
    "        temp_log_cross.append(accuracy_score(logreg.predict(test_tfidf),nAns[test]))\n",
    "        \n",
    "        temp_mnb_train.append(accuracy_score(mnb.predict(train_tfidf),nAns[train]))\n",
    "        temp_mnb_cross.append(accuracy_score(mnb.predict(test_tfidf),nAns[test]))\n",
    "        \n",
    "    knn_train_score[i] = np.mean(temp_knn_train)\n",
    "    knn_cross_val_score[i] = np.mean(temp_knn_cross)\n",
    "    \n",
    "    logreg_train_score[i] = np.mean(temp_log_train)\n",
    "    logreg_cross_val_score[i] = np.mean(temp_log_cross)\n",
    "    \n",
    "    mnb_train_score[i] = np.mean(temp_mnb_train)\n",
    "    mnb_cross_val_score[i] = np.mean(temp_mnb_cross)\n",
    "    \n",
    "    temp_knn_cross.clear()\n",
    "    temp_knn_train.clear()\n",
    "    \n",
    "    temp_log_cross.clear()\n",
    "    temp_log_train.clear()\n",
    "\n",
    "    temp_mnb_cross.clear()\n",
    "    temp_mnb_train.clear()"
   ]
  },
  {
   "cell_type": "code",
   "execution_count": 40,
   "metadata": {
    "collapsed": false
   },
   "outputs": [],
   "source": [
    "import pandas as pd"
   ]
  },
  {
   "cell_type": "code",
   "execution_count": 41,
   "metadata": {
    "collapsed": false
   },
   "outputs": [],
   "source": [
    "table1 = pd.DataFrame()\n",
    "table2 = pd.DataFrame()\n",
    "table3 = pd.DataFrame()"
   ]
  },
  {
   "cell_type": "code",
   "execution_count": 42,
   "metadata": {
    "collapsed": false
   },
   "outputs": [],
   "source": [
    "table1['n_neighbors'] = ns\n",
    "table1['train'] = knn_train_score\n",
    "table1['cross_val'] = knn_cross_val_score\n",
    "\n",
    "table2['C'] = cs\n",
    "table2['train'] = logreg_train_score\n",
    "table2['cross_val'] = logreg_cross_val_score\n",
    "\n",
    "table3['alpha'] = alphas\n",
    "table3['train'] = mnb_train_score\n",
    "table3['cross_val'] = mnb_cross_val_score"
   ]
  },
  {
   "cell_type": "markdown",
   "metadata": {},
   "source": [
    "## KNN Scores"
   ]
  },
  {
   "cell_type": "code",
   "execution_count": 43,
   "metadata": {
    "collapsed": false
   },
   "outputs": [
    {
     "data": {
      "text/html": [
       "<div>\n",
       "<table border=\"1\" class=\"dataframe\">\n",
       "  <thead>\n",
       "    <tr style=\"text-align: right;\">\n",
       "      <th></th>\n",
       "      <th>n_neighbors</th>\n",
       "      <th>train</th>\n",
       "      <th>cross_val</th>\n",
       "    </tr>\n",
       "  </thead>\n",
       "  <tbody>\n",
       "    <tr>\n",
       "      <th>0</th>\n",
       "      <td>1</td>\n",
       "      <td>1.000000</td>\n",
       "      <td>0.6605</td>\n",
       "    </tr>\n",
       "    <tr>\n",
       "      <th>1</th>\n",
       "      <td>21</td>\n",
       "      <td>0.535667</td>\n",
       "      <td>0.5155</td>\n",
       "    </tr>\n",
       "    <tr>\n",
       "      <th>2</th>\n",
       "      <td>41</td>\n",
       "      <td>0.554167</td>\n",
       "      <td>0.5360</td>\n",
       "    </tr>\n",
       "    <tr>\n",
       "      <th>3</th>\n",
       "      <td>61</td>\n",
       "      <td>0.577833</td>\n",
       "      <td>0.5585</td>\n",
       "    </tr>\n",
       "    <tr>\n",
       "      <th>4</th>\n",
       "      <td>81</td>\n",
       "      <td>0.580333</td>\n",
       "      <td>0.5660</td>\n",
       "    </tr>\n",
       "    <tr>\n",
       "      <th>5</th>\n",
       "      <td>101</td>\n",
       "      <td>0.581833</td>\n",
       "      <td>0.5680</td>\n",
       "    </tr>\n",
       "    <tr>\n",
       "      <th>6</th>\n",
       "      <td>121</td>\n",
       "      <td>0.586000</td>\n",
       "      <td>0.5655</td>\n",
       "    </tr>\n",
       "    <tr>\n",
       "      <th>7</th>\n",
       "      <td>141</td>\n",
       "      <td>0.590833</td>\n",
       "      <td>0.5740</td>\n",
       "    </tr>\n",
       "  </tbody>\n",
       "</table>\n",
       "</div>"
      ],
      "text/plain": [
       "   n_neighbors     train  cross_val\n",
       "0            1  1.000000     0.6605\n",
       "1           21  0.535667     0.5155\n",
       "2           41  0.554167     0.5360\n",
       "3           61  0.577833     0.5585\n",
       "4           81  0.580333     0.5660\n",
       "5          101  0.581833     0.5680\n",
       "6          121  0.586000     0.5655\n",
       "7          141  0.590833     0.5740"
      ]
     },
     "execution_count": 43,
     "metadata": {},
     "output_type": "execute_result"
    }
   ],
   "source": [
    "table1"
   ]
  },
  {
   "cell_type": "markdown",
   "metadata": {},
   "source": [
    "**Лучшее число соседей на обучении и кросс-валидации n_neighbors = 1**"
   ]
  },
  {
   "cell_type": "code",
   "execution_count": 44,
   "metadata": {
    "collapsed": false
   },
   "outputs": [
    {
     "data": {
      "text/plain": [
       "n_neighbors    1.0000\n",
       "train          1.0000\n",
       "cross_val      0.6605\n",
       "Name: 0, dtype: float64"
      ]
     },
     "execution_count": 44,
     "metadata": {},
     "output_type": "execute_result"
    }
   ],
   "source": [
    "table1.iloc[table1['cross_val'].idxmax(axis=1)]"
   ]
  },
  {
   "cell_type": "markdown",
   "metadata": {},
   "source": [
    "**Лучшее качество на валидации ~0.66, на обучении 1**"
   ]
  },
  {
   "cell_type": "code",
   "execution_count": null,
   "metadata": {
    "collapsed": true
   },
   "outputs": [],
   "source": []
  },
  {
   "cell_type": "markdown",
   "metadata": {},
   "source": [
    "## График зависимости доли правильных ответов KNN от n_neighbors на обучении (красным) и на валидации (синим)"
   ]
  },
  {
   "cell_type": "code",
   "execution_count": 45,
   "metadata": {
    "collapsed": false
   },
   "outputs": [
    {
     "data": {
      "image/png": "[encoded data removed]",
      "text/plain": [
       "<matplotlib.figure.Figure at 0x7f4b4ad8bc88>"
      ]
     },
     "metadata": {},
     "output_type": "display_data"
    }
   ],
   "source": [
    "import matplotlib.pyplot as plt\n",
    "import matplotlib.patches as mpatches\n",
    "plt.xlabel('n_neigbors')\n",
    "plt.ylabel('Accuracy')\n",
    "plt.plot(ns,knn_train_score,'r')\n",
    "plt.plot(ns,knn_cross_val_score,'b')\n",
    "red_patch = mpatches.Patch(color='red', label='train score')\n",
    "blue_patch = mpatches.Patch(color='blue', label='cross_val score')\n",
    "plt.legend(handles=[red_patch,blue_patch])\n",
    "plt.show()"
   ]
  },
  {
   "cell_type": "markdown",
   "metadata": {},
   "source": [
    "### **По графику видно что в данном случае лучшее качество достигается при небольших (< 20) значениях числа соседей**"
   ]
  },
  {
   "cell_type": "markdown",
   "metadata": {},
   "source": [
    "## Logistic Regression Scores"
   ]
  },
  {
   "cell_type": "code",
   "execution_count": 46,
   "metadata": {
    "collapsed": false
   },
   "outputs": [
    {
     "data": {
      "text/html": [
       "<div>\n",
       "<table border=\"1\" class=\"dataframe\">\n",
       "  <thead>\n",
       "    <tr style=\"text-align: right;\">\n",
       "      <th></th>\n",
       "      <th>C</th>\n",
       "      <th>train</th>\n",
       "      <th>cross_val</th>\n",
       "    </tr>\n",
       "  </thead>\n",
       "  <tbody>\n",
       "    <tr>\n",
       "      <th>0</th>\n",
       "      <td>1.000000e-02</td>\n",
       "      <td>0.589000</td>\n",
       "      <td>0.5360</td>\n",
       "    </tr>\n",
       "    <tr>\n",
       "      <th>1</th>\n",
       "      <td>5.179475e-01</td>\n",
       "      <td>0.938667</td>\n",
       "      <td>0.8130</td>\n",
       "    </tr>\n",
       "    <tr>\n",
       "      <th>2</th>\n",
       "      <td>2.682696e+01</td>\n",
       "      <td>1.000000</td>\n",
       "      <td>0.8570</td>\n",
       "    </tr>\n",
       "    <tr>\n",
       "      <th>3</th>\n",
       "      <td>1.389495e+03</td>\n",
       "      <td>1.000000</td>\n",
       "      <td>0.8535</td>\n",
       "    </tr>\n",
       "    <tr>\n",
       "      <th>4</th>\n",
       "      <td>7.196857e+04</td>\n",
       "      <td>1.000000</td>\n",
       "      <td>0.8520</td>\n",
       "    </tr>\n",
       "    <tr>\n",
       "      <th>5</th>\n",
       "      <td>3.727594e+06</td>\n",
       "      <td>1.000000</td>\n",
       "      <td>0.8575</td>\n",
       "    </tr>\n",
       "    <tr>\n",
       "      <th>6</th>\n",
       "      <td>1.930698e+08</td>\n",
       "      <td>1.000000</td>\n",
       "      <td>0.8580</td>\n",
       "    </tr>\n",
       "    <tr>\n",
       "      <th>7</th>\n",
       "      <td>1.000000e+10</td>\n",
       "      <td>1.000000</td>\n",
       "      <td>0.8570</td>\n",
       "    </tr>\n",
       "  </tbody>\n",
       "</table>\n",
       "</div>"
      ],
      "text/plain": [
       "              C     train  cross_val\n",
       "0  1.000000e-02  0.589000     0.5360\n",
       "1  5.179475e-01  0.938667     0.8130\n",
       "2  2.682696e+01  1.000000     0.8570\n",
       "3  1.389495e+03  1.000000     0.8535\n",
       "4  7.196857e+04  1.000000     0.8520\n",
       "5  3.727594e+06  1.000000     0.8575\n",
       "6  1.930698e+08  1.000000     0.8580\n",
       "7  1.000000e+10  1.000000     0.8570"
      ]
     },
     "execution_count": 46,
     "metadata": {},
     "output_type": "execute_result"
    }
   ],
   "source": [
    "table2"
   ]
  },
  {
   "cell_type": "code",
   "execution_count": 114,
   "metadata": {
    "collapsed": false
   },
   "outputs": [
    {
     "data": {
      "text/plain": [
       "C            1.930698e+08\n",
       "train        1.000000e+00\n",
       "cross_val    8.580000e-01\n",
       "Name: 6, dtype: float64"
      ]
     },
     "execution_count": 114,
     "metadata": {},
     "output_type": "execute_result"
    }
   ],
   "source": [
    "table2.iloc[table2['cross_val'].idxmax(axis=1)]"
   ]
  },
  {
   "cell_type": "markdown",
   "metadata": {},
   "source": [
    "**Лучшее качество на валидации ~0.858, на обучении 1**"
   ]
  },
  {
   "cell_type": "markdown",
   "metadata": {},
   "source": [
    "**Лучшее значение параметра регуляризации C = 193069772.88832456, это очень большое число, при котором модель будет стремиться сделать веса очень маленькими, однако, можно увидеть что при С = ~26 качество модели хуже лишь на несколько тысячных, то есть в качестве параметра регуляризации можно взять и его**"
   ]
  },
  {
   "cell_type": "markdown",
   "metadata": {},
   "source": [
    "## График зависимости доли правильных ответов от параметра регуляризации С на обучении (красным) и на валидации (синим)"
   ]
  },
  {
   "cell_type": "code",
   "execution_count": 49,
   "metadata": {
    "collapsed": false
   },
   "outputs": [
    {
     "data": {
      "image/png": "[encoded data removed]",
      "text/plain": [
       "<matplotlib.figure.Figure at 0x7f4b48fa6400>"
      ]
     },
     "metadata": {},
     "output_type": "display_data"
    }
   ],
   "source": [
    "plt.xlabel('C')\n",
    "plt.ylabel('Accuracy')\n",
    "plt.plot(cs,logreg_train_score,'r')\n",
    "plt.plot(cs,logreg_cross_val_score,'b')\n",
    "plt.xlim(-1000000000,10000000000)\n",
    "plt.ylim(0.5,1.2)\n",
    "red_patch = mpatches.Patch(color='red', label='train score')\n",
    "blue_patch = mpatches.Patch(color='blue', label='cross_val score')\n",
    "plt.legend(handles=[red_patch,blue_patch])\n",
    "plt.show()"
   ]
  },
  {
   "cell_type": "markdown",
   "metadata": {},
   "source": [
    "** По графику видно, что качество практически не менятся при увеличении С **"
   ]
  },
  {
   "cell_type": "markdown",
   "metadata": {},
   "source": [
    "## MultinimialNB Scores "
   ]
  },
  {
   "cell_type": "code",
   "execution_count": 100,
   "metadata": {
    "collapsed": false
   },
   "outputs": [
    {
     "data": {
      "text/html": [
       "<div>\n",
       "<table border=\"1\" class=\"dataframe\">\n",
       "  <thead>\n",
       "    <tr style=\"text-align: right;\">\n",
       "      <th></th>\n",
       "      <th>alpha</th>\n",
       "      <th>train</th>\n",
       "      <th>cross_val</th>\n",
       "    </tr>\n",
       "  </thead>\n",
       "  <tbody>\n",
       "    <tr>\n",
       "      <th>0</th>\n",
       "      <td>0.000100</td>\n",
       "      <td>0.999500</td>\n",
       "      <td>0.7665</td>\n",
       "    </tr>\n",
       "    <tr>\n",
       "      <th>1</th>\n",
       "      <td>0.000518</td>\n",
       "      <td>0.999500</td>\n",
       "      <td>0.7735</td>\n",
       "    </tr>\n",
       "    <tr>\n",
       "      <th>2</th>\n",
       "      <td>0.002683</td>\n",
       "      <td>0.999500</td>\n",
       "      <td>0.7825</td>\n",
       "    </tr>\n",
       "    <tr>\n",
       "      <th>3</th>\n",
       "      <td>0.013895</td>\n",
       "      <td>0.997500</td>\n",
       "      <td>0.7980</td>\n",
       "    </tr>\n",
       "    <tr>\n",
       "      <th>4</th>\n",
       "      <td>0.071969</td>\n",
       "      <td>0.990667</td>\n",
       "      <td>0.8025</td>\n",
       "    </tr>\n",
       "    <tr>\n",
       "      <th>5</th>\n",
       "      <td>0.372759</td>\n",
       "      <td>0.977000</td>\n",
       "      <td>0.8090</td>\n",
       "    </tr>\n",
       "    <tr>\n",
       "      <th>6</th>\n",
       "      <td>1.930698</td>\n",
       "      <td>0.940833</td>\n",
       "      <td>0.7720</td>\n",
       "    </tr>\n",
       "    <tr>\n",
       "      <th>7</th>\n",
       "      <td>10.000000</td>\n",
       "      <td>0.848833</td>\n",
       "      <td>0.7075</td>\n",
       "    </tr>\n",
       "  </tbody>\n",
       "</table>\n",
       "</div>"
      ],
      "text/plain": [
       "       alpha     train  cross_val\n",
       "0   0.000100  0.999500     0.7665\n",
       "1   0.000518  0.999500     0.7735\n",
       "2   0.002683  0.999500     0.7825\n",
       "3   0.013895  0.997500     0.7980\n",
       "4   0.071969  0.990667     0.8025\n",
       "5   0.372759  0.977000     0.8090\n",
       "6   1.930698  0.940833     0.7720\n",
       "7  10.000000  0.848833     0.7075"
      ]
     },
     "execution_count": 100,
     "metadata": {},
     "output_type": "execute_result"
    }
   ],
   "source": [
    "table3"
   ]
  },
  {
   "cell_type": "code",
   "execution_count": 102,
   "metadata": {
    "collapsed": false
   },
   "outputs": [
    {
     "data": {
      "text/plain": [
       "5"
      ]
     },
     "execution_count": 102,
     "metadata": {},
     "output_type": "execute_result"
    }
   ],
   "source": [
    "table3['cross_val'].idxmax(axis=1)"
   ]
  },
  {
   "cell_type": "code",
   "execution_count": 101,
   "metadata": {
    "collapsed": false
   },
   "outputs": [
    {
     "data": {
      "text/plain": [
       "0"
      ]
     },
     "execution_count": 101,
     "metadata": {},
     "output_type": "execute_result"
    }
   ],
   "source": [
    "table3['train'].idxmax(axis=1)"
   ]
  },
  {
   "cell_type": "code",
   "execution_count": 104,
   "metadata": {
    "collapsed": false
   },
   "outputs": [
    {
     "name": "stdout",
     "output_type": "stream",
     "text": [
      "best cross_val score =  0.809\n",
      "best cross_val alpha =  0.372759372031\n"
     ]
    }
   ],
   "source": [
    "print(\"best cross_val score = \",table3['cross_val'][5])\n",
    "print(\"best cross_val alpha = \", table3['alpha'][5])"
   ]
  },
  {
   "cell_type": "code",
   "execution_count": 105,
   "metadata": {
    "collapsed": false
   },
   "outputs": [
    {
     "name": "stdout",
     "output_type": "stream",
     "text": [
      "best train score =  0.9995\n",
      "best train alpha =  0.0001\n"
     ]
    }
   ],
   "source": [
    "print(\"best train score = \",table3['train'][0])\n",
    "print(\"best train alpha = \", table3['alpha'][0])"
   ]
  },
  {
   "cell_type": "markdown",
   "metadata": {},
   "source": [
    "**Для байесовского классификатора лучшее качесвто на валидации 0.809 достигается при alpha = ~0.372, однако, лучшее alpha для обучения = 0.0001 с кчеством почти 100%**"
   ]
  },
  {
   "cell_type": "markdown",
   "metadata": {},
   "source": [
    "## График зависимости доли правильных ответов байесовского классификатора от alpha  на обучении (красным) и на валидации (синим)"
   ]
  },
  {
   "cell_type": "code",
   "execution_count": 55,
   "metadata": {
    "collapsed": false
   },
   "outputs": [
    {
     "data": {
      "image/png": "[encoded data removed]",
      "text/plain": [
       "<matplotlib.figure.Figure at 0x7f4b48f644a8>"
      ]
     },
     "metadata": {},
     "output_type": "display_data"
    }
   ],
   "source": [
    "plt.xlabel('alpha')\n",
    "plt.ylabel('Accuracy')\n",
    "plt.plot(alphas,mnb_train_score,'r')\n",
    "plt.plot(alphas,mnb_cross_val_score,'b')\n",
    "red_patch = mpatches.Patch(color='red', label='train score')\n",
    "blue_patch = mpatches.Patch(color='blue', label='cross_val score')\n",
    "plt.legend(handles=[red_patch,blue_patch])\n",
    "plt.show()"
   ]
  },
  {
   "cell_type": "markdown",
   "metadata": {},
   "source": [
    "**По графику видно что качество падает с увеличением alpha**"
   ]
  },
  {
   "cell_type": "code",
   "execution_count": null,
   "metadata": {
    "collapsed": true
   },
   "outputs": [],
   "source": []
  },
  {
   "cell_type": "markdown",
   "metadata": {},
   "source": [
    "## Обучим модели с полученными лучшими настройками"
   ]
  },
  {
   "cell_type": "code",
   "execution_count": 56,
   "metadata": {
    "collapsed": true
   },
   "outputs": [],
   "source": [
    "NewKNN = KNeighborsClassifier(n_neighbors=1)\n",
    "NewLogReg = LogisticRegression(penalty=\"l2\", fit_intercept=True, max_iter=100, C=193069772.88832456, solver=\"lbfgs\", random_state=12345)\n",
    "NewMNB = MultinomialNB(alpha=0.372759372031)"
   ]
  },
  {
   "cell_type": "code",
   "execution_count": 57,
   "metadata": {
    "collapsed": false
   },
   "outputs": [
    {
     "data": {
      "text/plain": [
       "MultinomialNB(alpha=0.372759372031, class_prior=None, fit_prior=True)"
      ]
     },
     "execution_count": 57,
     "metadata": {},
     "output_type": "execute_result"
    }
   ],
   "source": [
    "NewKNN.fit(X_train_tfidf,y_train)\n",
    "NewLogReg.fit(X_train_tfidf,y_train)\n",
    "NewMNB.fit(X_train_tfidf,y_train)"
   ]
  },
  {
   "cell_type": "code",
   "execution_count": 58,
   "metadata": {
    "collapsed": true
   },
   "outputs": [],
   "source": [
    "newknn_pred = NewKNN.predict(X_test_tfidf)\n",
    "newlogreg_pred = NewLogReg.predict(X_test_tfidf)\n",
    "newmnb_pred = NewMNB.predict(X_test_tfidf)"
   ]
  },
  {
   "cell_type": "markdown",
   "metadata": {},
   "source": [
    "**Доля правильных ответов 1-NN**"
   ]
  },
  {
   "cell_type": "code",
   "execution_count": 59,
   "metadata": {
    "collapsed": false
   },
   "outputs": [
    {
     "data": {
      "text/plain": [
       "0.63"
      ]
     },
     "execution_count": 59,
     "metadata": {},
     "output_type": "execute_result"
    }
   ],
   "source": [
    "accuracy_score(newknn_pred,y_test)"
   ]
  },
  {
   "cell_type": "markdown",
   "metadata": {},
   "source": [
    "**Доля правильных ответов логистической регрессии C = 193069772.88832456**"
   ]
  },
  {
   "cell_type": "code",
   "execution_count": 60,
   "metadata": {
    "collapsed": false
   },
   "outputs": [
    {
     "data": {
      "text/plain": [
       "0.86333333333333329"
      ]
     },
     "execution_count": 60,
     "metadata": {},
     "output_type": "execute_result"
    }
   ],
   "source": [
    "accuracy_score(newlogreg_pred,y_test)"
   ]
  },
  {
   "cell_type": "markdown",
   "metadata": {},
   "source": [
    "**Доля правльных ответов мультиномиального наивного байесовского классификатора alpha = 0.372759372031**"
   ]
  },
  {
   "cell_type": "code",
   "execution_count": 61,
   "metadata": {
    "collapsed": false
   },
   "outputs": [
    {
     "data": {
      "text/plain": [
       "0.81999999999999995"
      ]
     },
     "execution_count": 61,
     "metadata": {},
     "output_type": "execute_result"
    }
   ],
   "source": [
    "accuracy_score(newmnb_pred,y_test)"
   ]
  },
  {
   "cell_type": "markdown",
   "metadata": {},
   "source": [
    "С настроенными гиперпараметрами качество на отложенной выборке немного улучшилось по сравнению с ненастроенными моделями"
   ]
  },
  {
   "cell_type": "markdown",
   "metadata": {},
   "source": [
    "**Замеры времени**"
   ]
  },
  {
   "cell_type": "markdown",
   "metadata": {},
   "source": [
    "**Время обучения**"
   ]
  },
  {
   "cell_type": "markdown",
   "metadata": {},
   "source": [
    "Для 1-NN:"
   ]
  },
  {
   "cell_type": "code",
   "execution_count": 62,
   "metadata": {
    "collapsed": false
   },
   "outputs": [
    {
     "name": "stdout",
     "output_type": "stream",
     "text": [
      "100 loops, best of 3: 2.03 ms per loop\n"
     ]
    }
   ],
   "source": [
    "%timeit NewKNN.fit(X_train_tfidf,y_train)"
   ]
  },
  {
   "cell_type": "markdown",
   "metadata": {},
   "source": [
    "Для Логистической регрессии:"
   ]
  },
  {
   "cell_type": "code",
   "execution_count": 63,
   "metadata": {
    "collapsed": false
   },
   "outputs": [
    {
     "name": "stdout",
     "output_type": "stream",
     "text": [
      "1 loop, best of 3: 221 ms per loop\n"
     ]
    }
   ],
   "source": [
    "%timeit NewLogReg.fit(X_train_tfidf,y_train)"
   ]
  },
  {
   "cell_type": "markdown",
   "metadata": {},
   "source": [
    "Для Байесовского классификатора:"
   ]
  },
  {
   "cell_type": "code",
   "execution_count": 64,
   "metadata": {
    "collapsed": false
   },
   "outputs": [
    {
     "name": "stdout",
     "output_type": "stream",
     "text": [
      "100 loops, best of 3: 6.46 ms per loop\n"
     ]
    }
   ],
   "source": [
    "%timeit NewMNB.fit(X_train_tfidf,y_train)"
   ]
  },
  {
   "cell_type": "markdown",
   "metadata": {},
   "source": [
    "Получилсиь результаты аналогичные результатам в задании 1. КNN обучается быстрее всех, т.к. алгоритму нужно лишь запомнить выборку, логистическая регрессия обучается дольше всех, т.к. ей нужно настроить много весов. "
   ]
  },
  {
   "cell_type": "markdown",
   "metadata": {},
   "source": [
    "**Время предсказания**"
   ]
  },
  {
   "cell_type": "markdown",
   "metadata": {},
   "source": [
    "Для 1-NN:"
   ]
  },
  {
   "cell_type": "code",
   "execution_count": 65,
   "metadata": {
    "collapsed": false
   },
   "outputs": [
    {
     "name": "stdout",
     "output_type": "stream",
     "text": [
      "1 loop, best of 3: 213 ms per loop\n"
     ]
    }
   ],
   "source": [
    "%timeit NewKNN.predict(X_test_tfidf)"
   ]
  },
  {
   "cell_type": "markdown",
   "metadata": {},
   "source": [
    "Для Логистической регрессии:"
   ]
  },
  {
   "cell_type": "code",
   "execution_count": 66,
   "metadata": {
    "collapsed": false
   },
   "outputs": [
    {
     "name": "stdout",
     "output_type": "stream",
     "text": [
      "1000 loops, best of 3: 543 µs per loop\n"
     ]
    }
   ],
   "source": [
    "%timeit NewLogReg.predict(X_test_tfidf)"
   ]
  },
  {
   "cell_type": "markdown",
   "metadata": {},
   "source": [
    "Для Байесовского классификатора:"
   ]
  },
  {
   "cell_type": "code",
   "execution_count": 67,
   "metadata": {
    "collapsed": false
   },
   "outputs": [
    {
     "name": "stdout",
     "output_type": "stream",
     "text": [
      "1000 loops, best of 3: 1.61 ms per loop\n"
     ]
    }
   ],
   "source": [
    "%timeit NewMNB.predict(X_test_tfidf)"
   ]
  },
  {
   "cell_type": "markdown",
   "metadata": {},
   "source": [
    "Результаты снова налогичны первому заднию, KNN требует больше всех времени на предсказание"
   ]
  },
  {
   "cell_type": "markdown",
   "metadata": {},
   "source": [
    "# N-Gram = 2"
   ]
  },
  {
   "cell_type": "markdown",
   "metadata": {},
   "source": [
    "## Пусть теперь TfidfVectorizer \"кодирует\" не только отдельные слова но и словосочетания из двух слов (поставим ngram_range = (1,2))"
   ]
  },
  {
   "cell_type": "code",
   "execution_count": 68,
   "metadata": {
    "collapsed": true
   },
   "outputs": [],
   "source": [
    "newvectorizer = TfidfVectorizer(lowercase=True,ngram_range=(1,2))"
   ]
  },
  {
   "cell_type": "code",
   "execution_count": null,
   "metadata": {
    "collapsed": false
   },
   "outputs": [],
   "source": []
  },
  {
   "cell_type": "code",
   "execution_count": 71,
   "metadata": {
    "collapsed": false
   },
   "outputs": [],
   "source": [
    "knn_train_score2 = np.zeros(8)\n",
    "knn_cross_val_score2 = np.zeros(8)\n",
    "\n",
    "logreg_train_score2 = np.zeros(8)\n",
    "logreg_cross_val_score2 = np.zeros(8)\n",
    "\n",
    "mnb_train_score2 = np.zeros(8)\n",
    "mnb_cross_val_score2 = np.zeros(8)"
   ]
  },
  {
   "cell_type": "code",
   "execution_count": 72,
   "metadata": {
    "collapsed": false
   },
   "outputs": [],
   "source": [
    "for i in range(0,8):\n",
    "    \n",
    "    knn = KNeighborsClassifier(n_neighbors=ns[i])\n",
    "    logreg  = LogisticRegression(penalty=\"l2\", fit_intercept=True, max_iter=100, C=cs[i], solver=\"lbfgs\", random_state=12345)\n",
    "    mnb = MultinomialNB(alpha=alphas[i])\n",
    "    \n",
    "    temp_knn_train = list()\n",
    "    temp_knn_cross = list()\n",
    "    \n",
    "    temp_log_train = list()\n",
    "    temp_log_cross = list()\n",
    "    \n",
    "    temp_mnb_train = list()\n",
    "    temp_mnb_cross = list()\n",
    "    \n",
    "    \n",
    "    for train, test in kf.split(nTexts):\n",
    "        train_tfidf = newvectorizer.fit_transform(nTexts[train])\n",
    "        test_tfidf = newvectorizer.transform(nTexts[test])\n",
    "\n",
    "        knn.fit(train_tfidf,nAns[train]) \n",
    "        logreg.fit(train_tfidf,nAns[train])\n",
    "        mnb.fit(train_tfidf,nAns[train])\n",
    "        \n",
    "        temp_knn_train.append(accuracy_score(knn.predict(train_tfidf),nAns[train]))\n",
    "        temp_knn_cross.append(accuracy_score(knn.predict(test_tfidf),nAns[test]))\n",
    "        \n",
    "        temp_log_train.append(accuracy_score(logreg.predict(train_tfidf),nAns[train]))\n",
    "        temp_log_cross.append(accuracy_score(logreg.predict(test_tfidf),nAns[test]))\n",
    "        \n",
    "        temp_mnb_train.append(accuracy_score(mnb.predict(train_tfidf),nAns[train]))\n",
    "        temp_mnb_cross.append(accuracy_score(mnb.predict(test_tfidf),nAns[test]))\n",
    "        \n",
    "    knn_train_score2[i] = np.mean(temp_knn_train)\n",
    "    knn_cross_val_score2[i] = np.mean(temp_knn_cross)\n",
    "    \n",
    "    logreg_train_score2[i] = np.mean(temp_log_train)\n",
    "    logreg_cross_val_score2[i] = np.mean(temp_log_cross)\n",
    "    \n",
    "    mnb_train_score2[i] = np.mean(temp_mnb_train)\n",
    "    mnb_cross_val_score2[i] = np.mean(temp_mnb_cross)\n",
    "    \n",
    "    temp_knn_cross.clear()\n",
    "    temp_knn_train.clear()\n",
    "    \n",
    "    temp_log_cross.clear()\n",
    "    temp_log_train.clear()\n",
    "\n",
    "    temp_mnb_cross.clear()\n",
    "    temp_mnb_train.clear()"
   ]
  },
  {
   "cell_type": "code",
   "execution_count": null,
   "metadata": {
    "collapsed": true
   },
   "outputs": [],
   "source": []
  },
  {
   "cell_type": "code",
   "execution_count": 73,
   "metadata": {
    "collapsed": false
   },
   "outputs": [],
   "source": [
    "table4 = pd.DataFrame()\n",
    "table5 = pd.DataFrame()\n",
    "table6 = pd.DataFrame()"
   ]
  },
  {
   "cell_type": "code",
   "execution_count": 74,
   "metadata": {
    "collapsed": false
   },
   "outputs": [],
   "source": [
    "table4['n_neighbors'] = ns\n",
    "table4['train'] = knn_train_score2\n",
    "table4['cross_val'] = knn_cross_val_score2\n",
    "\n",
    "table5['C'] = cs\n",
    "table5['train'] = logreg_train_score2\n",
    "table5['cross_val'] = logreg_cross_val_score2\n",
    "\n",
    "table6['alpha'] = alphas\n",
    "table6['train'] = mnb_train_score2\n",
    "table6['cross_val'] = mnb_cross_val_score2"
   ]
  },
  {
   "cell_type": "markdown",
   "metadata": {},
   "source": [
    "## KNN Scores n-gram = 2"
   ]
  },
  {
   "cell_type": "code",
   "execution_count": 75,
   "metadata": {
    "collapsed": false
   },
   "outputs": [
    {
     "data": {
      "text/html": [
       "<div>\n",
       "<table border=\"1\" class=\"dataframe\">\n",
       "  <thead>\n",
       "    <tr style=\"text-align: right;\">\n",
       "      <th></th>\n",
       "      <th>n_neighbors</th>\n",
       "      <th>train</th>\n",
       "      <th>cross_val</th>\n",
       "    </tr>\n",
       "  </thead>\n",
       "  <tbody>\n",
       "    <tr>\n",
       "      <th>0</th>\n",
       "      <td>1</td>\n",
       "      <td>1.000000</td>\n",
       "      <td>0.6585</td>\n",
       "    </tr>\n",
       "    <tr>\n",
       "      <th>1</th>\n",
       "      <td>21</td>\n",
       "      <td>0.517667</td>\n",
       "      <td>0.5100</td>\n",
       "    </tr>\n",
       "    <tr>\n",
       "      <th>2</th>\n",
       "      <td>41</td>\n",
       "      <td>0.509167</td>\n",
       "      <td>0.5055</td>\n",
       "    </tr>\n",
       "    <tr>\n",
       "      <th>3</th>\n",
       "      <td>61</td>\n",
       "      <td>0.512167</td>\n",
       "      <td>0.5100</td>\n",
       "    </tr>\n",
       "    <tr>\n",
       "      <th>4</th>\n",
       "      <td>81</td>\n",
       "      <td>0.510667</td>\n",
       "      <td>0.5050</td>\n",
       "    </tr>\n",
       "    <tr>\n",
       "      <th>5</th>\n",
       "      <td>101</td>\n",
       "      <td>0.509500</td>\n",
       "      <td>0.5065</td>\n",
       "    </tr>\n",
       "    <tr>\n",
       "      <th>6</th>\n",
       "      <td>121</td>\n",
       "      <td>0.508667</td>\n",
       "      <td>0.5065</td>\n",
       "    </tr>\n",
       "    <tr>\n",
       "      <th>7</th>\n",
       "      <td>141</td>\n",
       "      <td>0.508833</td>\n",
       "      <td>0.5090</td>\n",
       "    </tr>\n",
       "  </tbody>\n",
       "</table>\n",
       "</div>"
      ],
      "text/plain": [
       "   n_neighbors     train  cross_val\n",
       "0            1  1.000000     0.6585\n",
       "1           21  0.517667     0.5100\n",
       "2           41  0.509167     0.5055\n",
       "3           61  0.512167     0.5100\n",
       "4           81  0.510667     0.5050\n",
       "5          101  0.509500     0.5065\n",
       "6          121  0.508667     0.5065\n",
       "7          141  0.508833     0.5090"
      ]
     },
     "execution_count": 75,
     "metadata": {},
     "output_type": "execute_result"
    }
   ],
   "source": [
    "table4"
   ]
  },
  {
   "cell_type": "markdown",
   "metadata": {},
   "source": [
    "**Лучшее число соседей на обучении и кросс-валидации n_neighbors = 1**"
   ]
  },
  {
   "cell_type": "code",
   "execution_count": 116,
   "metadata": {
    "collapsed": false
   },
   "outputs": [
    {
     "data": {
      "text/plain": [
       "n_neighbors    1.0000\n",
       "train          1.0000\n",
       "cross_val      0.6585\n",
       "Name: 0, dtype: float64"
      ]
     },
     "execution_count": 116,
     "metadata": {},
     "output_type": "execute_result"
    }
   ],
   "source": [
    "table4.iloc[table4['cross_val'].idxmax(axis=1)]"
   ]
  },
  {
   "cell_type": "markdown",
   "metadata": {},
   "source": [
    "**Значительного изменеия качества по сравнению с n-gram = 1 нет, лучший результат в данном случае лишь на 1% хуже чем с n_gram = 2, однако при значениях n_neigbors отличных от единицы качество упало.**"
   ]
  },
  {
   "cell_type": "code",
   "execution_count": null,
   "metadata": {
    "collapsed": true
   },
   "outputs": [],
   "source": []
  },
  {
   "cell_type": "markdown",
   "metadata": {},
   "source": [
    "## График зависимости доли правильных ответов KNN от n_neighbors на обучении (красным) и на валидации (синим)"
   ]
  },
  {
   "cell_type": "code",
   "execution_count": 82,
   "metadata": {
    "collapsed": false
   },
   "outputs": [
    {
     "data": {
      "image/png": "[encoded data removed]",
      "text/plain": [
       "<matplotlib.figure.Figure at 0x7f4b4832f940>"
      ]
     },
     "metadata": {},
     "output_type": "display_data"
    }
   ],
   "source": [
    "import matplotlib.pyplot as plt\n",
    "import matplotlib.patches as mpatches\n",
    "plt.xlabel('n_neigbors')\n",
    "plt.ylabel('Accuracy')\n",
    "plt.plot(ns,knn_train_score2,'r')\n",
    "plt.plot(ns,knn_cross_val_score2,'b')\n",
    "red_patch = mpatches.Patch(color='red', label='train score')\n",
    "blue_patch = mpatches.Patch(color='blue', label='cross_val score')\n",
    "plt.legend(handles=[red_patch,blue_patch])\n",
    "plt.show()"
   ]
  },
  {
   "cell_type": "markdown",
   "metadata": {},
   "source": [
    "## Logistic Regression Scores n-gram = 2"
   ]
  },
  {
   "cell_type": "code",
   "execution_count": 83,
   "metadata": {
    "collapsed": false
   },
   "outputs": [
    {
     "data": {
      "text/html": [
       "<div>\n",
       "<table border=\"1\" class=\"dataframe\">\n",
       "  <thead>\n",
       "    <tr style=\"text-align: right;\">\n",
       "      <th></th>\n",
       "      <th>C</th>\n",
       "      <th>train</th>\n",
       "      <th>cross_val</th>\n",
       "    </tr>\n",
       "  </thead>\n",
       "  <tbody>\n",
       "    <tr>\n",
       "      <th>0</th>\n",
       "      <td>1.000000e-02</td>\n",
       "      <td>0.541667</td>\n",
       "      <td>0.5070</td>\n",
       "    </tr>\n",
       "    <tr>\n",
       "      <th>1</th>\n",
       "      <td>5.179475e-01</td>\n",
       "      <td>0.978833</td>\n",
       "      <td>0.7850</td>\n",
       "    </tr>\n",
       "    <tr>\n",
       "      <th>2</th>\n",
       "      <td>2.682696e+01</td>\n",
       "      <td>1.000000</td>\n",
       "      <td>0.8415</td>\n",
       "    </tr>\n",
       "    <tr>\n",
       "      <th>3</th>\n",
       "      <td>1.389495e+03</td>\n",
       "      <td>1.000000</td>\n",
       "      <td>0.8475</td>\n",
       "    </tr>\n",
       "    <tr>\n",
       "      <th>4</th>\n",
       "      <td>7.196857e+04</td>\n",
       "      <td>1.000000</td>\n",
       "      <td>0.8495</td>\n",
       "    </tr>\n",
       "    <tr>\n",
       "      <th>5</th>\n",
       "      <td>3.727594e+06</td>\n",
       "      <td>1.000000</td>\n",
       "      <td>0.8415</td>\n",
       "    </tr>\n",
       "    <tr>\n",
       "      <th>6</th>\n",
       "      <td>1.930698e+08</td>\n",
       "      <td>1.000000</td>\n",
       "      <td>0.8350</td>\n",
       "    </tr>\n",
       "    <tr>\n",
       "      <th>7</th>\n",
       "      <td>1.000000e+10</td>\n",
       "      <td>1.000000</td>\n",
       "      <td>0.8350</td>\n",
       "    </tr>\n",
       "  </tbody>\n",
       "</table>\n",
       "</div>"
      ],
      "text/plain": [
       "              C     train  cross_val\n",
       "0  1.000000e-02  0.541667     0.5070\n",
       "1  5.179475e-01  0.978833     0.7850\n",
       "2  2.682696e+01  1.000000     0.8415\n",
       "3  1.389495e+03  1.000000     0.8475\n",
       "4  7.196857e+04  1.000000     0.8495\n",
       "5  3.727594e+06  1.000000     0.8415\n",
       "6  1.930698e+08  1.000000     0.8350\n",
       "7  1.000000e+10  1.000000     0.8350"
      ]
     },
     "execution_count": 83,
     "metadata": {},
     "output_type": "execute_result"
    }
   ],
   "source": [
    "table5"
   ]
  },
  {
   "cell_type": "code",
   "execution_count": 86,
   "metadata": {
    "collapsed": false,
    "scrolled": true
   },
   "outputs": [
    {
     "data": {
      "text/plain": [
       "4"
      ]
     },
     "execution_count": 86,
     "metadata": {},
     "output_type": "execute_result"
    }
   ],
   "source": [
    "table5['cross_val'].idxmax(axis=1)"
   ]
  },
  {
   "cell_type": "code",
   "execution_count": 88,
   "metadata": {
    "collapsed": false
   },
   "outputs": [
    {
     "data": {
      "text/plain": [
       "71968.567300115144"
      ]
     },
     "execution_count": 88,
     "metadata": {},
     "output_type": "execute_result"
    }
   ],
   "source": [
    "table5['C'][4]"
   ]
  },
  {
   "cell_type": "code",
   "execution_count": 89,
   "metadata": {
    "collapsed": false
   },
   "outputs": [
    {
     "data": {
      "text/plain": [
       "0.84950000000000003"
      ]
     },
     "execution_count": 89,
     "metadata": {},
     "output_type": "execute_result"
    }
   ],
   "source": [
    "table5['cross_val'][4]"
   ]
  },
  {
   "cell_type": "code",
   "execution_count": 115,
   "metadata": {
    "collapsed": false
   },
   "outputs": [
    {
     "data": {
      "text/plain": [
       "C            71968.5673\n",
       "train            1.0000\n",
       "cross_val        0.8495\n",
       "Name: 4, dtype: float64"
      ]
     },
     "execution_count": 115,
     "metadata": {},
     "output_type": "execute_result"
    }
   ],
   "source": [
    "table5.iloc[table5['cross_val'].idxmax(axis=1)]"
   ]
  },
  {
   "cell_type": "markdown",
   "metadata": {},
   "source": [
    "**С n-gram = 2, лучшее значение коэффициента регуляризации С = 71968.567300115144, при этом качество незначительно хуже чем c n-gram = 1**"
   ]
  },
  {
   "cell_type": "markdown",
   "metadata": {},
   "source": [
    "## График зависимости доли правильных ответов от параметра регуляризации С на обучении (красным) и на валидации (синим)"
   ]
  },
  {
   "cell_type": "code",
   "execution_count": 91,
   "metadata": {
    "collapsed": false
   },
   "outputs": [
    {
     "data": {
      "image/png": "[encoded data removed]",
      "text/plain": [
       "<matplotlib.figure.Figure at 0x7f4b41938cc0>"
      ]
     },
     "metadata": {},
     "output_type": "display_data"
    }
   ],
   "source": [
    "plt.xlabel('C')\n",
    "plt.ylabel('Accuracy')\n",
    "plt.plot(cs,logreg_train_score2,'r')\n",
    "plt.plot(cs,logreg_cross_val_score2,'b')\n",
    "plt.xlim(-1000000000,10000000000)\n",
    "plt.ylim(0.5,1.2)\n",
    "red_patch = mpatches.Patch(color='red', label='train score')\n",
    "blue_patch = mpatches.Patch(color='blue', label='cross_val score')\n",
    "plt.legend(handles=[red_patch,blue_patch])\n",
    "plt.show()"
   ]
  },
  {
   "cell_type": "markdown",
   "metadata": {},
   "source": [
    "На графике качественных изменений нет"
   ]
  },
  {
   "cell_type": "code",
   "execution_count": null,
   "metadata": {
    "collapsed": true
   },
   "outputs": [],
   "source": []
  },
  {
   "cell_type": "markdown",
   "metadata": {},
   "source": [
    "## MultinimialNB Scores n-gram = 2"
   ]
  },
  {
   "cell_type": "code",
   "execution_count": 106,
   "metadata": {
    "collapsed": false
   },
   "outputs": [
    {
     "data": {
      "text/html": [
       "<div>\n",
       "<table border=\"1\" class=\"dataframe\">\n",
       "  <thead>\n",
       "    <tr style=\"text-align: right;\">\n",
       "      <th></th>\n",
       "      <th>alpha</th>\n",
       "      <th>train</th>\n",
       "      <th>cross_val</th>\n",
       "    </tr>\n",
       "  </thead>\n",
       "  <tbody>\n",
       "    <tr>\n",
       "      <th>0</th>\n",
       "      <td>0.000100</td>\n",
       "      <td>1.000000</td>\n",
       "      <td>0.8100</td>\n",
       "    </tr>\n",
       "    <tr>\n",
       "      <th>1</th>\n",
       "      <td>0.000518</td>\n",
       "      <td>1.000000</td>\n",
       "      <td>0.8175</td>\n",
       "    </tr>\n",
       "    <tr>\n",
       "      <th>2</th>\n",
       "      <td>0.002683</td>\n",
       "      <td>1.000000</td>\n",
       "      <td>0.8235</td>\n",
       "    </tr>\n",
       "    <tr>\n",
       "      <th>3</th>\n",
       "      <td>0.013895</td>\n",
       "      <td>1.000000</td>\n",
       "      <td>0.8310</td>\n",
       "    </tr>\n",
       "    <tr>\n",
       "      <th>4</th>\n",
       "      <td>0.071969</td>\n",
       "      <td>1.000000</td>\n",
       "      <td>0.8305</td>\n",
       "    </tr>\n",
       "    <tr>\n",
       "      <th>5</th>\n",
       "      <td>0.372759</td>\n",
       "      <td>0.999167</td>\n",
       "      <td>0.8235</td>\n",
       "    </tr>\n",
       "    <tr>\n",
       "      <th>6</th>\n",
       "      <td>1.930698</td>\n",
       "      <td>0.992000</td>\n",
       "      <td>0.7830</td>\n",
       "    </tr>\n",
       "    <tr>\n",
       "      <th>7</th>\n",
       "      <td>10.000000</td>\n",
       "      <td>0.916667</td>\n",
       "      <td>0.6755</td>\n",
       "    </tr>\n",
       "  </tbody>\n",
       "</table>\n",
       "</div>"
      ],
      "text/plain": [
       "       alpha     train  cross_val\n",
       "0   0.000100  1.000000     0.8100\n",
       "1   0.000518  1.000000     0.8175\n",
       "2   0.002683  1.000000     0.8235\n",
       "3   0.013895  1.000000     0.8310\n",
       "4   0.071969  1.000000     0.8305\n",
       "5   0.372759  0.999167     0.8235\n",
       "6   1.930698  0.992000     0.7830\n",
       "7  10.000000  0.916667     0.6755"
      ]
     },
     "execution_count": 106,
     "metadata": {},
     "output_type": "execute_result"
    }
   ],
   "source": [
    "table6"
   ]
  },
  {
   "cell_type": "code",
   "execution_count": 108,
   "metadata": {
    "collapsed": false
   },
   "outputs": [
    {
     "data": {
      "text/plain": [
       "3"
      ]
     },
     "execution_count": 108,
     "metadata": {},
     "output_type": "execute_result"
    }
   ],
   "source": [
    "table6['cross_val'].idxmax(axis=1)"
   ]
  },
  {
   "cell_type": "code",
   "execution_count": 107,
   "metadata": {
    "collapsed": false
   },
   "outputs": [
    {
     "data": {
      "text/plain": [
       "0"
      ]
     },
     "execution_count": 107,
     "metadata": {},
     "output_type": "execute_result"
    }
   ],
   "source": [
    "table6['train'].idxmax(axis=1)"
   ]
  },
  {
   "cell_type": "code",
   "execution_count": 110,
   "metadata": {
    "collapsed": false
   },
   "outputs": [
    {
     "name": "stdout",
     "output_type": "stream",
     "text": [
      "best cross_val score =  0.831\n",
      "best cross_val alpha =  0.0138949549437\n"
     ]
    }
   ],
   "source": [
    "print(\"best cross_val score = \",table6['cross_val'][3])\n",
    "print(\"best cross_val alpha = \", table6['alpha'][3])"
   ]
  },
  {
   "cell_type": "code",
   "execution_count": 111,
   "metadata": {
    "collapsed": false
   },
   "outputs": [
    {
     "name": "stdout",
     "output_type": "stream",
     "text": [
      "best train score =  1.0\n",
      "best train alpha =  0.0001\n"
     ]
    }
   ],
   "source": [
    "print(\"best train score = \",table6['train'][0])\n",
    "print(\"best train alpha = \", table6['alpha'][0])"
   ]
  },
  {
   "cell_type": "markdown",
   "metadata": {},
   "source": [
    "**Для байесовского классификатора при n-garm = 2, качество немного улучшилось как на обучении так и на валидации, лучшее значение alpha = ~0.01389**"
   ]
  },
  {
   "cell_type": "markdown",
   "metadata": {},
   "source": [
    "## График зависимости доли правильных ответов байесовского классификатора от alpha  на обучении (красным) и на валидации (синим)"
   ]
  },
  {
   "cell_type": "code",
   "execution_count": 112,
   "metadata": {
    "collapsed": false
   },
   "outputs": [
    {
     "data": {
      "image/png": "[encoded data removed]",
      "text/plain": [
       "<matplotlib.figure.Figure at 0x7f4b463075c0>"
      ]
     },
     "metadata": {},
     "output_type": "display_data"
    }
   ],
   "source": [
    "plt.xlabel('alpha')\n",
    "plt.ylabel('Accuracy')\n",
    "plt.plot(alphas,mnb_train_score2,'r')\n",
    "plt.plot(alphas,mnb_cross_val_score2,'b')\n",
    "red_patch = mpatches.Patch(color='red', label='train score')\n",
    "blue_patch = mpatches.Patch(color='blue', label='cross_val score')\n",
    "plt.legend(handles=[red_patch,blue_patch])\n",
    "plt.show()"
   ]
  },
  {
   "cell_type": "code",
   "execution_count": null,
   "metadata": {
    "collapsed": true
   },
   "outputs": [],
   "source": []
  },
  {
   "cell_type": "markdown",
   "metadata": {},
   "source": [
    "## Обучим модели с полученными лучшими настройками"
   ]
  },
  {
   "cell_type": "code",
   "execution_count": 117,
   "metadata": {
    "collapsed": true
   },
   "outputs": [],
   "source": [
    "NewKNN = KNeighborsClassifier(n_neighbors=1)\n",
    "NewLogReg = LogisticRegression(penalty=\"l2\", fit_intercept=True, max_iter=100, C=71968.567300115144, solver=\"lbfgs\", random_state=12345)\n",
    "NewMNB = MultinomialNB(alpha=0.0138949549437)"
   ]
  },
  {
   "cell_type": "code",
   "execution_count": 118,
   "metadata": {
    "collapsed": true
   },
   "outputs": [],
   "source": [
    "newX_train_tfidf = newvectorizer.fit_transform(X_train)\n",
    "newX_test_tfidf = newvectorizer.transform(X_test)"
   ]
  },
  {
   "cell_type": "code",
   "execution_count": 119,
   "metadata": {
    "collapsed": false
   },
   "outputs": [
    {
     "data": {
      "text/plain": [
       "MultinomialNB(alpha=0.0138949549437, class_prior=None, fit_prior=True)"
      ]
     },
     "execution_count": 119,
     "metadata": {},
     "output_type": "execute_result"
    }
   ],
   "source": [
    "NewKNN.fit(newX_train_tfidf,y_train)\n",
    "NewLogReg.fit(newX_train_tfidf,y_train)\n",
    "NewMNB.fit(newX_train_tfidf,y_train)"
   ]
  },
  {
   "cell_type": "code",
   "execution_count": 120,
   "metadata": {
    "collapsed": true
   },
   "outputs": [],
   "source": [
    "newknn_pred = NewKNN.predict(newX_test_tfidf)\n",
    "newlogreg_pred = NewLogReg.predict(newX_test_tfidf)\n",
    "newmnb_pred = NewMNB.predict(newX_test_tfidf)"
   ]
  },
  {
   "cell_type": "markdown",
   "metadata": {},
   "source": [
    "**Доля правильных ответов 1-NN**"
   ]
  },
  {
   "cell_type": "code",
   "execution_count": 121,
   "metadata": {
    "collapsed": false
   },
   "outputs": [
    {
     "data": {
      "text/plain": [
       "0.625"
      ]
     },
     "execution_count": 121,
     "metadata": {},
     "output_type": "execute_result"
    }
   ],
   "source": [
    "accuracy_score(newknn_pred,y_test)"
   ]
  },
  {
   "cell_type": "markdown",
   "metadata": {},
   "source": [
    "**Доля правильных ответов логистической регрессии C = 71968.567300115144**"
   ]
  },
  {
   "cell_type": "code",
   "execution_count": 122,
   "metadata": {
    "collapsed": false
   },
   "outputs": [
    {
     "data": {
      "text/plain": [
       "0.85166666666666668"
      ]
     },
     "execution_count": 122,
     "metadata": {},
     "output_type": "execute_result"
    }
   ],
   "source": [
    "accuracy_score(newlogreg_pred,y_test)"
   ]
  },
  {
   "cell_type": "markdown",
   "metadata": {},
   "source": [
    "**Доля правльных ответов мультиномиального наивного байесовского классификатора alpha = 0.0138949**"
   ]
  },
  {
   "cell_type": "code",
   "execution_count": 123,
   "metadata": {
    "collapsed": false
   },
   "outputs": [
    {
     "data": {
      "text/plain": [
       "0.83499999999999996"
      ]
     },
     "execution_count": 123,
     "metadata": {},
     "output_type": "execute_result"
    }
   ],
   "source": [
    "accuracy_score(newmnb_pred,y_test)"
   ]
  },
  {
   "cell_type": "markdown",
   "metadata": {},
   "source": [
    "С настроенными гиперпараметрами качество на отложенной выборке немного улучшилось по сравнению с ненастроенными моделями"
   ]
  },
  {
   "cell_type": "markdown",
   "metadata": {},
   "source": [
    "**Замеры времени**"
   ]
  },
  {
   "cell_type": "markdown",
   "metadata": {},
   "source": [
    "**Время обучения**"
   ]
  },
  {
   "cell_type": "markdown",
   "metadata": {},
   "source": [
    "Для 1-NN:"
   ]
  },
  {
   "cell_type": "code",
   "execution_count": 124,
   "metadata": {
    "collapsed": false
   },
   "outputs": [
    {
     "name": "stdout",
     "output_type": "stream",
     "text": [
      "100 loops, best of 3: 5.08 ms per loop\n"
     ]
    }
   ],
   "source": [
    "%timeit NewKNN.fit(newX_train_tfidf,y_train)"
   ]
  },
  {
   "cell_type": "markdown",
   "metadata": {},
   "source": [
    "Для Логистической регрессии:"
   ]
  },
  {
   "cell_type": "code",
   "execution_count": 125,
   "metadata": {
    "collapsed": false
   },
   "outputs": [
    {
     "name": "stdout",
     "output_type": "stream",
     "text": [
      "1 loop, best of 3: 4.62 s per loop\n"
     ]
    }
   ],
   "source": [
    "%timeit NewLogReg.fit(newX_train_tfidf,y_train)"
   ]
  },
  {
   "cell_type": "markdown",
   "metadata": {},
   "source": [
    "Для Байесовского классификатора:"
   ]
  },
  {
   "cell_type": "code",
   "execution_count": 126,
   "metadata": {
    "collapsed": false
   },
   "outputs": [
    {
     "name": "stdout",
     "output_type": "stream",
     "text": [
      "10 loops, best of 3: 49.5 ms per loop\n"
     ]
    }
   ],
   "source": [
    "%timeit NewMNB.fit(newX_train_tfidf,y_train)"
   ]
  },
  {
   "cell_type": "markdown",
   "metadata": {},
   "source": [
    "**По-прежнему KNN обучается быстрее всех, Логиситическая регрессия - медленнее всех, однако, легко заметить что все классификаторы стали обучаться дольше так как при ngram_range = (1,2) данных стало больше **"
   ]
  },
  {
   "cell_type": "markdown",
   "metadata": {},
   "source": [
    "**Время предсказания**"
   ]
  },
  {
   "cell_type": "markdown",
   "metadata": {},
   "source": [
    "Для 1-NN:"
   ]
  },
  {
   "cell_type": "code",
   "execution_count": 127,
   "metadata": {
    "collapsed": false
   },
   "outputs": [
    {
     "name": "stdout",
     "output_type": "stream",
     "text": [
      "1 loop, best of 3: 346 ms per loop\n"
     ]
    }
   ],
   "source": [
    "%timeit NewKNN.predict(newX_test_tfidf)"
   ]
  },
  {
   "cell_type": "markdown",
   "metadata": {},
   "source": [
    "Для Логистической регрессии:"
   ]
  },
  {
   "cell_type": "code",
   "execution_count": 128,
   "metadata": {
    "collapsed": false
   },
   "outputs": [
    {
     "name": "stdout",
     "output_type": "stream",
     "text": [
      "100 loops, best of 3: 2.45 ms per loop\n"
     ]
    }
   ],
   "source": [
    "%timeit NewLogReg.predict(newX_test_tfidf)"
   ]
  },
  {
   "cell_type": "markdown",
   "metadata": {},
   "source": [
    "Для Байесовского классификатора:"
   ]
  },
  {
   "cell_type": "code",
   "execution_count": 129,
   "metadata": {
    "collapsed": false
   },
   "outputs": [
    {
     "name": "stdout",
     "output_type": "stream",
     "text": [
      "100 loops, best of 3: 7.75 ms per loop\n"
     ]
    }
   ],
   "source": [
    "%timeit NewMNB.predict(newX_test_tfidf)"
   ]
  },
  {
   "cell_type": "markdown",
   "metadata": {},
   "source": [
    "**Как и прежде, Логистическая регрессия требует меньше всех времени на предсказание, KNN больше всех, как и в случае с обучением, при ngram_range = (1,2) на предсказание требуется больше времени **"
   ]
  },
  {
   "cell_type": "code",
   "execution_count": null,
   "metadata": {
    "collapsed": true
   },
   "outputs": [],
   "source": []
  },
  {
   "cell_type": "markdown",
   "metadata": {},
   "source": [
    "# Итоговые данные по всем методам для лучших моделей "
   ]
  },
  {
   "cell_type": "markdown",
   "metadata": {},
   "source": [
    "## KNN"
   ]
  },
  {
   "cell_type": "markdown",
   "metadata": {},
   "source": [
    "Лучшее значение n_neighbors = 1\n",
    "\n",
    "Лучшее значение ngram_range = (1,1)\n",
    "\n",
    "Лучшее качество на валидации (доля правильных ответов) = 0.66\n",
    "\n",
    "Время обучения ~2 ms\n",
    "\n",
    "Время предсказания ~213 ms"
   ]
  },
  {
   "cell_type": "markdown",
   "metadata": {},
   "source": [
    "## Логистическая регрессия"
   ]
  },
  {
   "cell_type": "markdown",
   "metadata": {},
   "source": [
    "Лучшее значение C = 193069772.88832456\n",
    "\n",
    "Лучшее значение ngram_range = (1,1)\n",
    "\n",
    "Лучшее качество на валидации (доля правильных ответов) =  ~0.858\n",
    "\n",
    "Время обучения ~221 ms\n",
    "\n",
    "Время предсказания ~543 µs"
   ]
  },
  {
   "cell_type": "markdown",
   "metadata": {},
   "source": [
    "## Мультиномиальный наивный байесовский классификатор"
   ]
  },
  {
   "cell_type": "markdown",
   "metadata": {},
   "source": [
    "Лучшее значение alpha = 0.0138949549437\n",
    "\n",
    "Лучшее значение ngram_range = (1,2)\n",
    "\n",
    "Лучшее качество на валидации (доля правильных ответов) =  ~0.831\n",
    "\n",
    "Время обучения ~49.5 ms\n",
    "\n",
    "Время предсказания ~7.75 ms"
   ]
  },
  {
   "cell_type": "code",
   "execution_count": null,
   "metadata": {
    "collapsed": true
   },
   "outputs": [],
   "source": []
  },
  {
   "cell_type": "markdown",
   "metadata": {},
   "source": [
    "# Выводы"
   ]
  },
  {
   "cell_type": "markdown",
   "metadata": {},
   "source": [
    "1) На обучении все модели показывали идеальное или почти идеальное качество (при подобранных гиперпараметрах). На валидации и отложенной выборке логистическая регрессия показала лучшие результаты, однако стоит заметить, что байесовский классификатор оказался лишь незначительно хуже (в пределах 3%) логистической регрессии. Так что можно сказать, что логистическая регрессия и байесовский классификатор показали примерно одинаковое качество, намного лучше чем у модели KNN, что по всей видимости связано с тем что у этих моделей есть куда более глубокое теоритическое обоснование чем у KNN. \n",
    "\n",
    "2) Разница в качестве на валидации и обучении конечно же очень большая. Все модели показывали идеальное качество на тех данных на которых они учились, поскольку, по сути, во время обучения их переметры настраивались так чтобы выдавать правильные ответы на объекты содержащиеся в обучающей выборке. Качество же на валидации было заметно ниже, оно зависит от обощающей способности модели, обусловленной выбором параметров и гиперпараметров и эффективностью модели для данной задачи в целом. \n",
    "\n",
    "3) С выставленным параметром ngram_range = (1,2) TfidfVectorizer стал строить tf-idf таблицы не только для одиночных слов содержащихся в текстах, но и для словосочетаний из двух слов. При переходе от n-gram=1 к n-gram=2 значительного изменения качества, оно совсем незначительно упало для KNN и логистической регрессии и незначительно увеличилось для байесовского классификатора, по всей видимости, добавление словосочетаний в таблицы не дало новых значащих признаков для KNN и логистической регрессии, но байесовский классификатор смог найти в них новые более сложные зависимости.\n",
    "\n",
    "4) В данном случае Логистическая регрессия - классификатор, который обучался дольше всех, дал наилучшее качество. Дольше всех обучается логистическая регрессия так как, ей необходимо настроить большое количество параметров (весов) градиентным спуском. KNN делает предсказание дольше всех, для каждого предсказания ему нужно вычислить расстояние до всех имеющихся в обучающей выборке, и отсортировав выбрать K ближайших, это ресурсоемуие операции."
   ]
  },
  {
   "cell_type": "code",
   "execution_count": null,
   "metadata": {
    "collapsed": true
   },
   "outputs": [],
   "source": []
  }
 ],
 "metadata": {
  "anaconda-cloud": {},
  "kernelspec": {
   "display_name": "Python [conda root]",
   "language": "python",
   "name": "conda-root-py"
  },
  "language_info": {
   "codemirror_mode": {
    "name": "ipython",
    "version": 3
   },
   "file_extension": ".py",
   "mimetype": "text/x-python",
   "name": "python",
   "nbconvert_exporter": "python",
   "pygments_lexer": "ipython3",
   "version": "3.5.2"
  }
 },
 "nbformat": 4,
 "nbformat_minor": 1
}
